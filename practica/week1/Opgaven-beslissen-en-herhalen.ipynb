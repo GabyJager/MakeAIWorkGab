{
 "cells": [
  {
   "cell_type": "markdown",
   "id": "6e93d43b",
   "metadata": {},
   "source": [
    "# Beslissen en herhalen"
   ]
  },
  {
   "cell_type": "markdown",
   "id": "a4f6c97b",
   "metadata": {},
   "source": [
    "Om effectief te kunnen programmeren moet je:\n",
    "\n",
    "#### 1. Weten welke basisinstructies je tot je beschikking hebt\n",
    "Een mooi startpunt is [W3Schools over Python](https://www.w3schools.com/python/default.asp).\n",
    "\n",
    "\n",
    "#### 2. Weten hoe je de juiste instructies kunt vinden\n",
    "De zoektermen volgen uit je literate programming beschrijving en je pseudo code.\n",
    "\n",
    "### Let op!\n",
    "Het kan verleidelijk zijn om de OPLOSSING te googlen, zeker in het begin.\n",
    "\n",
    "##### Als je merkt dat je dit aan het doen bent, dan heb je de literate programming steps niet precies genoeg uitgewerkt.\n",
    "De opdracht is dan te groot en te complex."
   ]
  },
  {
   "cell_type": "markdown",
   "id": "92ed6127",
   "metadata": {},
   "source": [
    "## Basics: beslissen"
   ]
  },
  {
   "cell_type": "markdown",
   "id": "e0b00e53",
   "metadata": {},
   "source": [
    "Bestudeer [if else statements](https://www.w3schools.com/python/python_conditions.asp)\n",
    "\n",
    "(de voorbeelden zijn interactief)"
   ]
  },
  {
   "cell_type": "markdown",
   "id": "eb320abd",
   "metadata": {},
   "source": [
    "### 1. Vergelijken**"
   ]
  },
  {
   "cell_type": "markdown",
   "id": "f522b9d8",
   "metadata": {},
   "source": [
    "- Laat de gebruiker twee woorden invoeren\n",
    "- Geef aan welk woord het langs is\n",
    "- Neem ook het geval dat ze gelijk zijn mee\n",
    "- Print het resultaat\n",
    "\n",
    "Hint: je mag in dit geval [de functie len()](https://www.w3schools.com/python/python_strings.asp) gebruiken"
   ]
  },
  {
   "cell_type": "code",
   "execution_count": 4,
   "id": "0e2aedfa",
   "metadata": {
    "tags": []
   },
   "outputs": [
    {
     "name": "stdout",
     "output_type": "stream",
     "text": [
      "Please enter word 1 and 2 en ENTER\n"
     ]
    },
    {
     "name": "stdin",
     "output_type": "stream",
     "text": [
      "Please enter word1 l\n",
      "Please enter word2 l\n"
     ]
    },
    {
     "ename": "AttributeError",
     "evalue": "'str' object has no attribute 'len'",
     "output_type": "error",
     "traceback": [
      "\u001b[1;31m---------------------------------------------------------------------------\u001b[0m",
      "\u001b[1;31mAttributeError\u001b[0m                            Traceback (most recent call last)",
      "Cell \u001b[1;32mIn[4], line 9\u001b[0m\n\u001b[0;32m      7\u001b[0m \u001b[38;5;28;01mif\u001b[39;00m \u001b[38;5;28mlen\u001b[39m(word1) \u001b[38;5;241m>\u001b[39m \u001b[38;5;28mlen\u001b[39m(word2):\n\u001b[0;32m      8\u001b[0m     \u001b[38;5;28mprint\u001b[39m (\u001b[38;5;124m'\u001b[39m\u001b[38;5;124mword1 is longer than word2\u001b[39m\u001b[38;5;124m'\u001b[39m)\n\u001b[1;32m----> 9\u001b[0m \u001b[38;5;28;01melif\u001b[39;00m \u001b[43mword1\u001b[49m\u001b[38;5;241;43m.\u001b[39;49m\u001b[43mlen\u001b[49m \u001b[38;5;241m==\u001b[39m word2\u001b[38;5;241m.\u001b[39mlen:\n\u001b[0;32m     10\u001b[0m     \u001b[38;5;28mprint\u001b[39m(\u001b[38;5;124m'\u001b[39m\u001b[38;5;124mword1 is as long as word2\u001b[39m\u001b[38;5;124m'\u001b[39m)\n\u001b[0;32m     11\u001b[0m \u001b[38;5;28;01melse\u001b[39;00m:\n",
      "\u001b[1;31mAttributeError\u001b[0m: 'str' object has no attribute 'len'"
     ]
    }
   ],
   "source": [
    "# 1. F(ormulate a solution\n",
    "print('Please enter word 1 and 2 en ENTER')\n",
    "\n",
    "word1 = input('Please enter word1')\n",
    "word2 = input('Please enter word2')\n",
    " \n",
    "if len(word1) > len(word2):\n",
    "    print ('word1 is longer than word2')\n",
    "elif word1.len == word2.len:\n",
    "    print('word1 is as long as word2')\n",
    "else:\n",
    "    print ('word2 is longer than word1')\n",
    " \n",
    "     \n",
    "\n",
    "\n",
    "# 2. Implement the solution\n",
    " \n",
    " "
   ]
  },
  {
   "cell_type": "markdown",
   "id": "0b5a8819",
   "metadata": {},
   "source": [
    "### 2. Categoriseren**"
   ]
  },
  {
   "cell_type": "markdown",
   "id": "49270585",
   "metadata": {},
   "source": [
    "- Vraag de gebruiker om een getal\n",
    "- Bepaal of dit getal even is\n",
    "- Print het resultaat\n",
    "\n",
    "Hint: je mag in dit geval de [operatoren '/' en '%'](https://www.w3schools.com/python/python_operators.asp) gebruiken"
   ]
  },
  {
   "cell_type": "code",
   "execution_count": null,
   "id": "98a288c9",
   "metadata": {},
   "outputs": [],
   "source": [
    "# 1. print('Please fill in a whole number and ENTER')\n",
    "number = int(input('Please fill in a whole number: and ENTER'))\n",
    "if number%2==0\n",
    "Print('number is even')\n",
    "\n",
    "\n",
    "\n",
    "\n",
    "# 2. Implement the solution"
   ]
  },
  {
   "cell_type": "markdown",
   "id": "8491ff0e",
   "metadata": {},
   "source": [
    "Bestudeer [for loops](https://www.w3schools.com/python/python_for_loops.asp)\n",
    "\n",
    "Bestudeer [while loops](https://www.w3schools.com/python/python_while_loops.asp)\n",
    "\n",
    "(de voorbeelden zijn interactief)"
   ]
  },
  {
   "cell_type": "markdown",
   "id": "2be34655",
   "metadata": {},
   "source": [
    "## Basics: herhalen"
   ]
  },
  {
   "cell_type": "markdown",
   "id": "af980848",
   "metadata": {},
   "source": [
    "### 1. Printen*"
   ]
  },
  {
   "cell_type": "markdown",
   "id": "120a2dd8",
   "metadata": {},
   "source": [
    "- Print je naam 23 keer uit\n",
    "\n",
    "Extra: kun je het er ook een nummer voor zetten?\n",
    "\n",
    "    1. Ruud\n",
    "    2. Ruud\n",
    "    3. Ruud\n",
    "\n",
    "    ...\n",
    "\n",
    "Hint: kijk nog eens naar de les van Jeroen over strings"
   ]
  },
  {
   "cell_type": "code",
   "execution_count": 7,
   "id": "4d8cb9fb",
   "metadata": {
    "tags": []
   },
   "outputs": [
    {
     "name": "stdout",
     "output_type": "stream",
     "text": [
      "Gaby\n"
     ]
    },
    {
     "ename": "TypeError",
     "evalue": "unsupported operand type(s) for *: 'NoneType' and 'int'",
     "output_type": "error",
     "traceback": [
      "\u001b[1;31m---------------------------------------------------------------------------\u001b[0m",
      "\u001b[1;31mTypeError\u001b[0m                                 Traceback (most recent call last)",
      "Cell \u001b[1;32mIn[7], line 3\u001b[0m\n\u001b[0;32m      1\u001b[0m \u001b[38;5;66;03m# 1. Formulate a solution\u001b[39;00m\n\u001b[0;32m      2\u001b[0m Name \u001b[38;5;241m=\u001b[39m \u001b[38;5;124m'\u001b[39m\u001b[38;5;124mGaby\u001b[39m\u001b[38;5;124m'\u001b[39m\n\u001b[1;32m----> 3\u001b[0m \u001b[38;5;28;43mprint\u001b[39;49m\u001b[43m \u001b[49m\u001b[43m(\u001b[49m\u001b[38;5;124;43m'\u001b[39;49m\u001b[38;5;124;43mGaby\u001b[39;49m\u001b[38;5;124;43m'\u001b[39;49m\u001b[43m)\u001b[49m\u001b[38;5;241;43m*\u001b[39;49m\u001b[38;5;241;43m23\u001b[39;49m\n\u001b[0;32m      5\u001b[0m \u001b[38;5;66;03m# 2. Implement the solution\u001b[39;00m\n",
      "\u001b[1;31mTypeError\u001b[0m: unsupported operand type(s) for *: 'NoneType' and 'int'"
     ]
    }
   ],
   "source": [
    "# 1. Formulate a solution\n",
    "Name = 'Gaby'\n",
    "print ('Gaby')*23\n",
    "\n",
    "# 2. Implement the solution"
   ]
  },
  {
   "cell_type": "markdown",
   "id": "379ec167",
   "metadata": {},
   "source": [
    "### 2. Optellen*"
   ]
  },
  {
   "cell_type": "markdown",
   "id": "d21d8212",
   "metadata": {},
   "source": [
    "- Tel de getallen 0, 1, 2, ... t/m 100 op\n",
    "- Print het resultaat"
   ]
  },
  {
   "cell_type": "code",
   "execution_count": 1,
   "id": "92ac6462",
   "metadata": {},
   "outputs": [
    {
     "name": "stdout",
     "output_type": "stream",
     "text": [
      "3\n",
      "5\n",
      "7\n",
      "9\n",
      "11\n",
      "13\n",
      "15\n",
      "17\n",
      "19\n",
      "21\n",
      "23\n",
      "25\n",
      "27\n",
      "29\n",
      "31\n",
      "33\n",
      "35\n",
      "37\n",
      "39\n",
      "41\n",
      "43\n",
      "45\n",
      "47\n",
      "49\n",
      "51\n",
      "53\n",
      "55\n",
      "57\n",
      "59\n",
      "61\n",
      "63\n",
      "65\n",
      "67\n",
      "69\n",
      "71\n",
      "73\n",
      "75\n",
      "77\n",
      "79\n",
      "81\n",
      "83\n",
      "85\n",
      "87\n",
      "89\n",
      "91\n",
      "93\n",
      "95\n",
      "97\n",
      "99\n",
      "101\n",
      "103\n",
      "105\n",
      "107\n",
      "109\n",
      "111\n",
      "113\n",
      "115\n",
      "117\n",
      "119\n",
      "121\n",
      "123\n",
      "125\n",
      "127\n",
      "129\n",
      "131\n",
      "133\n",
      "135\n",
      "137\n",
      "139\n",
      "141\n",
      "143\n",
      "145\n",
      "147\n",
      "149\n",
      "151\n",
      "153\n",
      "155\n",
      "157\n",
      "159\n",
      "161\n",
      "163\n",
      "165\n",
      "167\n",
      "169\n",
      "171\n",
      "173\n",
      "175\n",
      "177\n",
      "179\n",
      "181\n",
      "183\n",
      "185\n",
      "187\n",
      "189\n",
      "191\n",
      "193\n",
      "195\n",
      "197\n",
      "199\n",
      "201\n",
      "203\n"
     ]
    }
   ],
   "source": [
    "# 1. Formulate a solution\n",
    "for x in range (101):\n",
    "    x = x + 1\n",
    "    sum = x + (x + 1)\n",
    "    \n",
    "    print(sum)\n",
    "\n",
    "# 2. Implement the solution"
   ]
  },
  {
   "cell_type": "markdown",
   "id": "9d394ec4",
   "metadata": {},
   "source": [
    "### 3. Print een specifieke som**"
   ]
  },
  {
   "cell_type": "markdown",
   "id": "894c9c7e",
   "metadata": {},
   "source": [
    "- Print de som van een getal en het vorige getal\n",
    "- Doe dit van nul tot aan een getal dat de gebruiker invoert"
   ]
  },
  {
   "cell_type": "code",
   "execution_count": null,
   "id": "d6274b0a",
   "metadata": {},
   "outputs": [],
   "source": [
    "# 1. Formulate a solution\n",
    "number = input ('Please enter number:')\n",
    "sum = number + (number +1)\n",
    "\n",
    "for number in range (101)\n",
    "\n",
    "\n",
    "\n",
    "    \n",
    "\n",
    "\n",
    "# 2. Implement the solution"
   ]
  },
  {
   "cell_type": "markdown",
   "id": "9e30cf7d",
   "metadata": {},
   "source": [
    "## Gecombineerd"
   ]
  },
  {
   "cell_type": "markdown",
   "id": "d728ef64",
   "metadata": {},
   "source": [
    "### 1. Print alle medeklinkers van een woord of zin***"
   ]
  },
  {
   "cell_type": "markdown",
   "id": "0cfcd436",
   "metadata": {},
   "source": [
    "- Vraag de gebruiker om een woord of zin in te voeren\n",
    "- Print vervolgens alle medeklinkers\n",
    "- Als de invoer een zin is, print dan ook alle spaties en leestekens"
   ]
  },
  {
   "cell_type": "code",
   "execution_count": null,
   "id": "0112311d",
   "metadata": {},
   "outputs": [],
   "source": [
    "# 1. Start simple: take the word \"simpel\"\n",
    "\n",
    "# 2. Explain your solution in words only\n",
    "\n",
    "# 3. Write down your solution in pseudo code\n",
    "\n",
    "# 4. Implement your pseudo code in Python\n",
    "\n",
    "# 5. Extend your solution to the general case\n",
    "\n",
    "set ( 'a', 'e', 'i','o','u')\n",
    "for char in string and set\n",
    "clear\n",
    "print(string)"
   ]
  },
  {
   "cell_type": "markdown",
   "id": "ed2dd7e2",
   "metadata": {},
   "source": [
    "### 2. Print een diamant vorm***"
   ]
  },
  {
   "cell_type": "markdown",
   "id": "d8438e85",
   "metadata": {},
   "source": [
    "- Vraag de gebruiker om een hoogte\n",
    "- Print vervolgens een diamant van die hoogte\n",
    "\n",
    "Hint: zijn er hoogtes waarvoor dit niet lukt? Zo ja, laat de gebruiker dit dan weten."
   ]
  },
  {
   "cell_type": "code",
   "execution_count": null,
   "id": "8c5501e3",
   "metadata": {},
   "outputs": [],
   "source": [
    "# An example with height 7\n",
    "\n",
    "#    *\n",
    "#   ***\n",
    "#  *****\n",
    "# *******\n",
    "#  *****\n",
    "#   ***\n",
    "#    *\n",
    "\n",
    "# 1. Start simple: take the example above\n",
    "op regel 1 en 7 * in kolom, positie 4\n",
    "regel 2 en 6  in kolom 3 tm 5\n",
    "regel 3 en 5 in kolom 2 tm 6\n",
    "regel 4 en  in 1 tm 7\n",
    "\n",
    "# 2. Explain your solution in words only\n",
    "\n",
    "# 3. Write down your solution in pseudo code\n",
    "\n",
    "# 4. Implement your pseudo code in Python\n",
    "\n",
    "# 5. Extend your solution to the general case"
   ]
  }
 ],
 "metadata": {
  "kernelspec": {
   "display_name": "Python 3 (ipykernel)",
   "language": "python",
   "name": "python3"
  },
  "language_info": {
   "codemirror_mode": {
    "name": "ipython",
    "version": 3
   },
   "file_extension": ".py",
   "mimetype": "text/x-python",
   "name": "python",
   "nbconvert_exporter": "python",
   "pygments_lexer": "ipython3",
   "version": "3.10.10"
  }
 },
 "nbformat": 4,
 "nbformat_minor": 5
}
