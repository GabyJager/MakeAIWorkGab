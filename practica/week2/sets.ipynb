{
 "cells": [
  {
   "cell_type": "markdown",
   "id": "39ad5385-bd3b-4733-8583-aaee47dfd023",
   "metadata": {},
   "source": [
    "<div>\n",
    "    <img src='../pics/banner.PNG'/>\n",
    "</div>\n",
    "<div>\n",
    "    <img width=\"10%\" height=\"10%\" src='../pics/python-programming.png'/>\n",
    "    <img src='../pics/miw.PNG'/>\n",
    "</div>\n",
    "<div>\n",
    "    <em>Author: Jeroen Boogaard</em>\n",
    "</div>"
   ]
  },
  {
   "cell_type": "markdown",
   "id": "2e3ab9dd-f769-4b88-87d0-59bb6af381f6",
   "metadata": {},
   "source": [
    "<h1>Samengestelde variabelen - Sets</h1>"
   ]
  },
  {
   "cell_type": "markdown",
   "id": "1dd30cb7-4573-48b9-9b50-4e64b414213e",
   "metadata": {},
   "source": [
    "**Een set is een <u>mutable</u> dataverzameling van <u>unieke</u> elementen.**"
   ]
  },
  {
   "cell_type": "markdown",
   "id": "9e171b05-9dc7-466c-97cf-e50f0b7ef9e4",
   "metadata": {
    "tags": []
   },
   "source": [
    "<div>\n",
    "    <img width=\"25%\" height=\"25%\" src='../pics/pioneer.jpg'/>\n",
    "</div>"
   ]
  },
  {
   "cell_type": "markdown",
   "id": "41aaf327-508a-451a-87cc-f8c5e95d6b0a",
   "metadata": {},
   "source": [
    "<h3>Imports</h3>"
   ]
  },
  {
   "cell_type": "code",
   "execution_count": 15,
   "id": "5e0c7518-0e8a-442c-815d-c384f12339b3",
   "metadata": {
    "tags": []
   },
   "outputs": [
    {
     "name": "stdout",
     "output_type": "stream",
     "text": [
      "geopandas                   0.12.2\n",
      "matplotlib-venn             0.11.7\n",
      "contextily                  1.3.0\n"
     ]
    }
   ],
   "source": [
    "!(pip list | grep geopandas) && (pip list | grep matplotlib-venn) && (pip list | grep contextily) || pip install -r ../pip/requirements.txt"
   ]
  },
  {
   "cell_type": "code",
   "execution_count": 16,
   "id": "3558b293-d060-4816-9cf4-d2681c1a679d",
   "metadata": {
    "tags": []
   },
   "outputs": [],
   "source": [
    "import contextily as ctx\n",
    "import geopandas as gpd\n",
    "from matplotlib_venn import venn2, venn3\n",
    "import matplotlib.pyplot as plt"
   ]
  },
  {
   "cell_type": "markdown",
   "id": "443e2275-c790-4153-82c2-f08782f7856c",
   "metadata": {},
   "source": [
    "<h3>Set variabelen aanmaken en afdrukken</h3>"
   ]
  },
  {
   "cell_type": "code",
   "execution_count": 3,
   "id": "b5ca0430-4eb8-4eeb-a899-151ebbbf7f13",
   "metadata": {},
   "outputs": [
    {
     "name": "stdout",
     "output_type": "stream",
     "text": [
      "{'Voyager', 'Pioneer'}\n"
     ]
    }
   ],
   "source": [
    "spaceCrafts = set()\n",
    "spaceCrafts = {\"Pioneer\", \"Voyager\"}\n",
    "print(spaceCrafts)"
   ]
  },
  {
   "cell_type": "raw",
   "id": "15eaabd3-5697-474e-9a46-a384a242c8a4",
   "metadata": {},
   "source": [
    "Elementen kunnen aan een bestaande set worden toegevoegd.."
   ]
  },
  {
   "cell_type": "code",
   "execution_count": 4,
   "id": "e8e00fbb-0a04-4754-9fdc-0ea3bc54f43e",
   "metadata": {},
   "outputs": [],
   "source": [
    "spaceCrafts.add(\"Voyager\")"
   ]
  },
  {
   "cell_type": "raw",
   "id": "93db2ef6-ce73-4ce3-8cff-7aa0babea2f2",
   "metadata": {},
   "source": [
    "maar elk element komt slechts 1 keer voor"
   ]
  },
  {
   "cell_type": "code",
   "execution_count": 5,
   "id": "e51fcac8-8062-4c48-bc39-d191f7742c65",
   "metadata": {},
   "outputs": [
    {
     "name": "stdout",
     "output_type": "stream",
     "text": [
      "{'Voyager', 'Pioneer'}\n"
     ]
    }
   ],
   "source": [
    "print(spaceCrafts)"
   ]
  },
  {
   "cell_type": "markdown",
   "id": "7e55fb56-f386-4785-8841-90d1844db4d7",
   "metadata": {},
   "source": [
    "<h3>Exercise 1</h3>\n",
    "<h4>Gegeven</h4>"
   ]
  },
  {
   "cell_type": "code",
   "execution_count": 6,
   "id": "065d6065-9d59-47f3-ba49-0c6cd4dd15f3",
   "metadata": {},
   "outputs": [
    {
     "name": "stdout",
     "output_type": "stream",
     "text": [
      "[0, 1, 1, 2, 3, 5, 8, 13, 21, 34, 55, 89, 144, 233, 377]\n"
     ]
    }
   ],
   "source": [
    "def fiboSeqList(n):\n",
    "    if n <= 1:\n",
    "        return n\n",
    "    else:\n",
    "        return(fiboSeqList(n-1) + fiboSeqList(n-2))\n",
    "    \n",
    "fibonacciList = [fiboSeqList(i) for i in range(0,15)]    \n",
    "print(fibonacciList)"
   ]
  },
  {
   "cell_type": "markdown",
   "id": "def776af-43e4-4bd7-a17b-8778b318dcfd",
   "metadata": {},
   "source": [
    "<h4>Gevraagd</h4>\n",
    "<p>Maak gebruik van <u>cast</u> om variabele <i>fibonacciList</i> te ontdubbelen</p>"
   ]
  },
  {
   "cell_type": "markdown",
   "id": "4eabe9bd-dd7f-4f83-872f-e63e25146ca4",
   "metadata": {},
   "source": [
    "<h4>Oplossing</h4>"
   ]
  },
  {
   "cell_type": "code",
   "execution_count": 8,
   "id": "65a28c92-758e-49b9-b2b6-bd78e79e7642",
   "metadata": {},
   "outputs": [
    {
     "data": {
      "text/plain": [
       "{0, 1, 2, 3, 5, 8, 13, 21, 34, 55, 89, 144, 233, 377}"
      ]
     },
     "execution_count": 8,
     "metadata": {},
     "output_type": "execute_result"
    }
   ],
   "source": [
    "# Oplossing\n",
    "\n",
    "set(fibonacciList)\n",
    "\n"
   ]
  },
  {
   "cell_type": "markdown",
   "id": "3c57550b-cd11-4a6d-a806-946830cbb1cd",
   "metadata": {},
   "source": [
    "\n",
    "<h3>Operaties</h3>"
   ]
  },
  {
   "cell_type": "code",
   "execution_count": 20,
   "id": "46e0e7e4-1cc9-47f3-bc53-d3888252e583",
   "metadata": {},
   "outputs": [],
   "source": [
    "nordics = {\"Denmark\", \"Finland\", \"Iceland\", \"Norway\"}\n",
    "baltics = {\"Estonia\", \"Latvia\", \"Lithuania\"}\n",
    "eu = {\"Austria\", \"Belgium\", \"Bulgaria\", \"Croatia\", \"Cyprus\", \"Czechia\", \"Denmark\", \"Estonia\", \"Finland\", \"France\", \"Germany\", \"Greece\", \"Hungary\", \"Ireland\", \"Italy\", \"Latvia\", \"Lithuania\", \"Luxembourg\", \"Malta\", \"Netherlands\", \"Poland\", \"Portugal\", \"Romania\", \"Slovakia\", \"Slovenia\", \"Spain\", \"Sweden\"}"
   ]
  },
  {
   "cell_type": "markdown",
   "id": "b2c79908-ca34-4657-8481-7a959aa046a5",
   "metadata": {},
   "source": [
    "<h3>Exercise 2</h3>\n",
    "<h4>Gegeven</h4>"
   ]
  },
  {
   "cell_type": "code",
   "execution_count": 10,
   "id": "96daa91c-96a8-41a7-b202-6e4a77876ef0",
   "metadata": {},
   "outputs": [
    {
     "ename": "TypeError",
     "evalue": "list indices must be integers or slices, not tuple",
     "output_type": "error",
     "traceback": [
      "\u001b[1;31m---------------------------------------------------------------------------\u001b[0m",
      "\u001b[1;31mTypeError\u001b[0m                                 Traceback (most recent call last)",
      "Cell \u001b[1;32mIn[10], line 5\u001b[0m\n\u001b[0;32m      2\u001b[0m benStr \u001b[38;5;241m=\u001b[39m \u001b[38;5;124m\"\u001b[39m\u001b[38;5;124m\"\u001b[39m\n\u001b[0;32m      3\u001b[0m benList \u001b[38;5;241m=\u001b[39m \u001b[38;5;28mlist\u001b[39m(benelux)\n\u001b[1;32m----> 5\u001b[0m \u001b[38;5;28mprint\u001b[39m(\u001b[43mbenList\u001b[49m\u001b[43m[\u001b[49m\u001b[38;5;241;43m0\u001b[39;49m\u001b[43m:\u001b[49m\u001b[38;5;241;43m3\u001b[39;49m\u001b[43m,\u001b[49m\u001b[38;5;241;43m0\u001b[39;49m\u001b[43m:\u001b[49m\u001b[38;5;241;43m3\u001b[39;49m\u001b[43m,\u001b[49m\u001b[38;5;241;43m0\u001b[39;49m\u001b[43m:\u001b[49m\u001b[38;5;241;43m3\u001b[39;49m\u001b[43m]\u001b[49m)\n",
      "\u001b[1;31mTypeError\u001b[0m: list indices must be integers or slices, not tuple"
     ]
    }
   ],
   "source": [
    "benelux = {\"Belgium\", \"Netherlands\", \"Luxembourg\"}\n",
    "benStr = \"\"\n",
    "benList = list(benelux)\n",
    "\n",
    "print(benList[0:3,0:3,0:3])"
   ]
  },
  {
   "cell_type": "markdown",
   "id": "80d32381-df51-4185-a4ba-1ed9cf9c6ba2",
   "metadata": {},
   "source": [
    "<h4>Gevraagd</h4>\n",
    "<ul>\n",
    "<li>Maak een String benStr met als <u>value</u> \"BeNeLux\" die is opgebouwd uit de letters van corresponderende items uit de set <i>benelux</i> zonder de set variabele zelf aan te passen</li>\n",
    "<li>Maak een List benList met als <u>value</u> [\"BE\", \"NL\" \"LU\"] die is opgebouwd uit de letters van corresponderende items uit de set <i>benelux</i> zonder de set variabele zelf aan te passen</li>\n",
    "</ul>"
   ]
  },
  {
   "cell_type": "markdown",
   "id": "871adbea-f738-4d20-8fe9-50ef3e6cbd15",
   "metadata": {},
   "source": [
    "<h4>Oplossing</h4>"
   ]
  },
  {
   "cell_type": "code",
   "execution_count": 10,
   "id": "53417987-3497-4658-a6e1-02d9370b966a",
   "metadata": {},
   "outputs": [],
   "source": [
    "# Oplossing\n",
    "benStr = list("
   ]
  },
  {
   "cell_type": "markdown",
   "id": "978e6a57-c504-4a92-8926-c7d1bd6d5027",
   "metadata": {},
   "source": [
    "<h3>Visualisatie</h3>"
   ]
  },
  {
   "cell_type": "markdown",
   "id": "d49225be-ab99-402f-933b-f304f95df3a5",
   "metadata": {
    "tags": []
   },
   "source": [
    "**We gebruiken geopandas voor het visualiseren van een landkaart en filteren op de 2-letterige landcode**"
   ]
  },
  {
   "cell_type": "code",
   "execution_count": 18,
   "id": "28d6057a-9d6e-4d40-b7b5-8523b5b49cdd",
   "metadata": {
    "tags": []
   },
   "outputs": [
    {
     "name": "stderr",
     "output_type": "stream",
     "text": [
      "C:\\Users\\31623\\MakeAIWorkGab\\env\\lib\\site-packages\\geopandas\\plotting.py:693: UserWarning: The GeoDataFrame you are attempting to plot is empty. Nothing has been displayed.\n",
      "  warnings.warn(\n",
      "C:\\Users\\31623\\MakeAIWorkGab\\env\\lib\\site-packages\\geopandas\\plotting.py:402: UserWarning: The GeoSeries you are attempting to plot is empty. Nothing has been displayed.\n",
      "  warnings.warn(\n",
      "C:\\Users\\31623\\MakeAIWorkGab\\env\\lib\\site-packages\\contextily\\tile.py:581: UserWarning: The inferred zoom level of 27 is not valid for the current tile provider (valid zooms: 0 - 19).\n",
      "  warnings.warn(msg)\n"
     ]
    },
    {
     "data": {
      "image/png": "[encoded data removed]",
      "text/plain": [
       "<Figure size 800x600 with 1 Axes>"
      ]
     },
     "metadata": {},
     "output_type": "display_data"
    }
   ],
   "source": [
    "# Geografische data inlezen\n",
    "data_dir = \"../geo/ref-nuts-2021-01m/\"\n",
    "euPath = data_dir + \"NUTS_RG_01M_2021_3035_LEVL_1.json\"\n",
    "gdf = gpd.read_file(euPath)\n",
    "\n",
    "# Coordinatensysteem\n",
    "gdf.crs = \"EPSG:3035\"\n",
    "\n",
    "# Filteren landen m.b.v. codes uit benList\n",
    "gdfBen = gdf[(gdf.CNTR_CODE == benList[0]) | (gdf.CNTR_CODE == benList[1]) | (gdf.CNTR_CODE == benList[2])] if len(benList)==3 else gdf[(gdf.CNTR_CODE == \"NL\")]\n",
    "\n",
    "# Conversie Coordinaten\n",
    "gdfCrsBen = gdfBen.to_crs(\"EPSG:3857\")\n",
    "\n",
    "# Plot\n",
    "ax = gdfCrsBen.plot(figsize=(8,6), color=\"lightgray\")\n",
    "\n",
    "# Grenzen Benelux landen\n",
    "gdfCrsBen.boundary.plot(color=\"darkgreen\", ax=ax)\n",
    "\n",
    "# Achtergrondkaart\n",
    "ctx.add_basemap(ax, source=ctx.providers.OpenStreetMap.HOT)"
   ]
  },
  {
   "cell_type": "markdown",
   "id": "ea751320-05f1-41d1-97ba-3f8de4240166",
   "metadata": {},
   "source": [
    "**Gebruik <i>union</i> om verzamelingen verenigen**"
   ]
  },
  {
   "cell_type": "code",
   "execution_count": 12,
   "id": "4f803d2e-f0cc-43bf-a5b9-f282adb27811",
   "metadata": {},
   "outputs": [
    {
     "name": "stdout",
     "output_type": "stream",
     "text": [
      "{'Latvia', 'Belgium', 'Estonia', 'Denmark', 'Finland', 'Lithuania', 'Luxembourg', 'Iceland', 'Norway', 'Netherlands'}\n"
     ]
    }
   ],
   "source": [
    "subUnion = benelux.union(nordics).union(baltics)\n",
    "print(subUnion)"
   ]
  },
  {
   "cell_type": "markdown",
   "id": "b67a0424-1e9a-4b4d-952e-aa1d351c14cb",
   "metadata": {},
   "source": [
    "<p>De Sets benelux, nordics en baltics zijn allen een eigen <strong>subset</strong> van eu</p>"
   ]
  },
  {
   "cell_type": "markdown",
   "id": "3229dad1-3579-41bd-b4e6-8d49f5c04ed4",
   "metadata": {},
   "source": [
    "<p>Niet alle landen uit <i>subUnion</i> zijn lid van de Europese Unie</p>"
   ]
  },
  {
   "cell_type": "code",
   "execution_count": 13,
   "id": "7678cfc6-6e6a-4132-b221-1e303c28ef4f",
   "metadata": {},
   "outputs": [
    {
     "data": {
      "text/plain": [
       "False"
      ]
     },
     "execution_count": 13,
     "metadata": {},
     "output_type": "execute_result"
    }
   ],
   "source": [
    "baltics.issubset(eu) and benelux.issubset(eu) and nordics.issubset(eu)"
   ]
  },
  {
   "cell_type": "markdown",
   "id": "e6dc0310-0784-434a-acc1-5a21b4a4b2c5",
   "metadata": {},
   "source": [
    "**Gebruik de methode <i>intersection</i> voor de doorsnede van twee Sets**"
   ]
  },
  {
   "cell_type": "code",
   "execution_count": 19,
   "id": "e79a1f39-afc1-43f1-a060-3e6a7976b5fd",
   "metadata": {},
   "outputs": [
    {
     "ename": "NameError",
     "evalue": "name 'eu' is not defined",
     "output_type": "error",
     "traceback": [
      "\u001b[1;31m---------------------------------------------------------------------------\u001b[0m",
      "\u001b[1;31mNameError\u001b[0m                                 Traceback (most recent call last)",
      "Cell \u001b[1;32mIn[19], line 1\u001b[0m\n\u001b[1;32m----> 1\u001b[0m \u001b[43meu\u001b[49m\u001b[38;5;241m.\u001b[39mintersection(nordics)\n",
      "\u001b[1;31mNameError\u001b[0m: name 'eu' is not defined"
     ]
    }
   ],
   "source": [
    "eu.intersection(nordics)"
   ]
  },
  {
   "cell_type": "code",
   "execution_count": 15,
   "id": "789bb115-e680-4d25-8646-709ba8e8e346",
   "metadata": {},
   "outputs": [
    {
     "data": {
      "image/png": "[encoded data removed]",
      "text/plain": [
       "<Figure size 640x480 with 1 Axes>"
      ]
     },
     "metadata": {},
     "output_type": "display_data"
    }
   ],
   "source": [
    "venn2([eu, subUnion], ('EU', 'Benelux, Nordics and Baltics'))\n",
    "plt.show()"
   ]
  },
  {
   "cell_type": "markdown",
   "id": "ad46e130-fa09-45b4-b153-f2ce9a844009",
   "metadata": {},
   "source": [
    "<h3>Exercise 3</h3>\n",
    "<h4>Gegeven</h4>\n",
    "<p>EU lidstaten die de euro (nog) niet hebben ingevoerd</p>"
   ]
  },
  {
   "cell_type": "code",
   "execution_count": 12,
   "id": "a1c85ab4-8927-4db5-a362-1c03b8df6881",
   "metadata": {
    "tags": []
   },
   "outputs": [],
   "source": [
    "nonEuro = ['Bulgaria', 'Czech Republic', 'Denmark', 'Hungary', 'Poland', 'Romania', 'Sweden']"
   ]
  },
  {
   "cell_type": "markdown",
   "id": "54ad36a4-df11-4507-b710-d7191912f819",
   "metadata": {
    "tags": []
   },
   "source": [
    "<h4>Gevraagd</h4>\n",
    "<p>Gebruik de methode <u>difference</u> om EU landen weer te geven die <u>wel</u> lid zijn van de Eurozone</p>"
   ]
  },
  {
   "cell_type": "markdown",
   "id": "7405ad15-de70-4540-9e1e-cfbea7f5bfc1",
   "metadata": {
    "tags": []
   },
   "source": [
    "<h4>Oplossing</h4>"
   ]
  },
  {
   "cell_type": "code",
   "execution_count": 21,
   "id": "e6de797a-90b7-464e-8ae8-6b0f1a8ce8c4",
   "metadata": {
    "tags": []
   },
   "outputs": [
    {
     "name": "stdout",
     "output_type": "stream",
     "text": [
      "{'France', 'Croatia', 'Netherlands', 'Czechia', 'Ireland', 'Lithuania', 'Spain', 'Italy', 'Slovakia', 'Germany', 'Greece', 'Belgium', 'Austria', 'Estonia', 'Cyprus', 'Finland', 'Latvia', 'Luxembourg', 'Malta', 'Slovenia', 'Portugal'}\n"
     ]
    }
   ],
   "source": [
    "# Oplossing\n",
    "euro = eu.difference(nonEuro)\n",
    "print(euro)"
   ]
  },
  {
   "cell_type": "code",
   "execution_count": null,
   "id": "75befe42-9fc6-4c6a-b29c-6510e8531fd2",
   "metadata": {},
   "outputs": [],
   "source": []
  }
 ],
 "metadata": {
  "kernelspec": {
   "display_name": "Python 3 (ipykernel)",
   "language": "python",
   "name": "python3"
  },
  "language_info": {
   "codemirror_mode": {
    "name": "ipython",
    "version": 3
   },
   "file_extension": ".py",
   "mimetype": "text/x-python",
   "name": "python",
   "nbconvert_exporter": "python",
   "pygments_lexer": "ipython3",
   "version": "3.10.10"
  },
  "vscode": {
   "interpreter": {
    "hash": "aee8b7b246df8f9039afb4144a1f6fd8d2ca17a180786b69acc140d282b71a49"
   }
  }
 },
 "nbformat": 4,
 "nbformat_minor": 5
}
