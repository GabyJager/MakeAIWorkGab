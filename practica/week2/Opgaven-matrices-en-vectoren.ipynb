{
 "cells": [
  {
   "cell_type": "markdown",
   "id": "2ea724be",
   "metadata": {},
   "source": [
    "# Matrices en vectoren"
   ]
  },
  {
   "cell_type": "markdown",
   "id": "18595eca",
   "metadata": {},
   "source": [
    "Er zijn meerdere manieren om een matrix te representeren.\n",
    "\n",
    "Hier kiezen we voor het volgende datamodel:\n",
    "\n",
    "`matrix_2D :: {rows: int, cols: int, data: []}`\n",
    "\n",
    "Implementeer onderstaande opdrachten in Python."
   ]
  },
  {
   "cell_type": "markdown",
   "id": "42182308",
   "metadata": {},
   "source": [
    "## Vectoren"
   ]
  },
  {
   "cell_type": "markdown",
   "id": "db43ccb1",
   "metadata": {},
   "source": [
    "### 1. Een vector als rij*"
   ]
  },
  {
   "cell_type": "markdown",
   "id": "e9ac731a",
   "metadata": {},
   "source": [
    "Representeer de onderstaande vector in code:\n",
    "\n",
    "$$\n",
    "  \\begin{pmatrix}\n",
    "    1 & 2 & 3\n",
    "  \\end{pmatrix}\n",
    "$$"
   ]
  },
  {
   "cell_type": "code",
   "execution_count": 33,
   "id": "72c55633",
   "metadata": {
    "tags": []
   },
   "outputs": [
    {
     "name": "stdout",
     "output_type": "stream",
     "text": [
      "{'rows': 1, 'cols': 3, 'data': [1, 2, 3]}\n",
      "1 3\n",
      "3\n"
     ]
    }
   ],
   "source": [
    "# How many rows and colums does this vector have?\n",
    "\n",
    "# ..1,3.\n",
    "\n",
    "# Use the definition at the top to implement this vector:\n",
    "\n",
    "# vec = 1,2,3 ...\n",
    "\n",
    "vec = {'rows': 1, 'cols': 3, 'data': [1,2,3]}\n",
    "print(vec)\n",
    "\n",
    "# Can you print its dimensions? (rows, cols)\n",
    "\n",
    "# ..1,3.\n",
    "print(vec[\"rows\"], vec[\"cols\"])\n",
    "\n",
    "\n",
    "\n",
    "    #'cols': ())\n",
    "\n",
    "# Can you print the number of elements?\n",
    "\n",
    "# .3..\n",
    "#print(len(vec))\n",
    "print(len(\"vec\"))\n",
    "\n",
    "\n"
   ]
  },
  {
   "cell_type": "markdown",
   "id": "0abbc0ad",
   "metadata": {},
   "source": [
    "### 2. Een vector als kolom*"
   ]
  },
  {
   "cell_type": "markdown",
   "id": "ac4f647f",
   "metadata": {},
   "source": [
    "Representeer de onderstaande vector in code:\n",
    "\n",
    "$$\n",
    "  \\begin{pmatrix}\n",
    "    1 \\\\\n",
    "    2 \\\\\n",
    "    3\n",
    "  \\end{pmatrix}\n",
    "$$"
   ]
  },
  {
   "cell_type": "code",
   "execution_count": 38,
   "id": "f4f6bfc9",
   "metadata": {
    "tags": []
   },
   "outputs": [
    {
     "name": "stdout",
     "output_type": "stream",
     "text": [
      "3 1\n",
      "3\n"
     ]
    }
   ],
   "source": [
    "# How many rows and colums does this vector have?\n",
    "\n",
    "# ...3,1\n",
    "\n",
    "# Use the definition at the top to implement this vector:\n",
    "\n",
    "# vec = 1,2,3...\n",
    "\n",
    "vec = {'rows': 3, 'cols': 1, 'data': [1,2,3]}\n",
    "\n",
    "\n",
    "# Can you print its dimensions? (rows, cols)\n",
    "\n",
    "# ...3,1\n",
    "\n",
    "print(vec[\"rows\"], vec[\"cols\"])\n",
    "\n",
    "\n",
    "          \n",
    "        \n",
    "\n",
    "# Can you print the number of elements?\n",
    "3\n",
    "print(len(\"vec\"))\n",
    "# ..."
   ]
  },
  {
   "cell_type": "markdown",
   "id": "8de02084",
   "metadata": {},
   "source": [
    "### 3. Vectoren optellen**"
   ]
  },
  {
   "cell_type": "markdown",
   "id": "c2edbb39",
   "metadata": {},
   "source": [
    "Tel de onderstaande vectoren bij elkaar op:\n",
    "\n",
    "$$\n",
    "  \\begin{pmatrix}\n",
    "    1 \\\\\n",
    "    2 \\\\\n",
    "    3\n",
    "  \\end{pmatrix}\n",
    "  +\n",
    "    \\begin{pmatrix}\n",
    "    9 \\\\\n",
    "    8 \\\\\n",
    "    7\n",
    "  \\end{pmatrix}\n",
    "  =\n",
    "  ...\n",
    "$$"
   ]
  },
  {
   "cell_type": "code",
   "execution_count": 51,
   "id": "9fd6bc2a",
   "metadata": {
    "tags": []
   },
   "outputs": [
    {
     "name": "stdout",
     "output_type": "stream",
     "text": [
      "{'rows': 3, 'cols': 1, 'data': [1, 2, 3]}\n",
      "{'rows': 3, 'cols': 1, 'data': [9, 8, 7]}\n",
      "(10, 10, 10)\n"
     ]
    }
   ],
   "source": [
    "# Implement both vectors:\n",
    "\n",
    "# vec1 = ...\n",
    "# vec2 = ...\n",
    "vec1 = {\"rows\" :3, \"cols\" :1, \"data\": [1,2,3,]}\n",
    "print(vec1)\n",
    "vec2 = {\"rows\" :3, \"cols\" :1, \"data\": [9,8,7]}\n",
    "print(vec2)\n",
    "\n",
    "        \n",
    "   #vec = {'rows': 1, 'cols': 3, 'data': [1,2,3]}    \n",
    "\n",
    "# Can we add them? Check if dimensions are the same:Yes, 3 rijen en 1 kolom\n",
    "\n",
    "\n",
    "# ...\n",
    "\n",
    "\n",
    "# How do you add these vectors by hand?\n",
    "\n",
    "#1e rij kolom 1 + 1e rij kolom 2,\n",
    "#2e rij kolom 2 + 2e rij kolom 2\n",
    "\n",
    "# ...\n",
    "\n",
    "\n",
    "vec['data'] = vec1['data'] [0] + vec2['data'] [0], vec1['data'] [1] + vec2['data'] [1], vec1['data'] [2] + vec2['data'] [2]\n",
    "print (vec['data'])\n",
    "\n",
    "# Now add the vectors in code:\n",
    "\n",
    "# ..."
   ]
  },
  {
   "cell_type": "markdown",
   "id": "10e3be49",
   "metadata": {},
   "source": [
    "Tel de onderstaande vectoren bij elkaar op:\n",
    "\n",
    "$$\n",
    "  \\begin{pmatrix}\n",
    "    1 & 2 & 3\n",
    "  \\end{pmatrix}\n",
    "  +\n",
    "  \\begin{pmatrix}\n",
    "    9 & 8 & 7\n",
    "  \\end{pmatrix}\n",
    "  =\n",
    "  ...\n",
    "$$"
   ]
  },
  {
   "cell_type": "code",
   "execution_count": 52,
   "id": "3319db0c",
   "metadata": {
    "tags": []
   },
   "outputs": [
    {
     "name": "stdout",
     "output_type": "stream",
     "text": [
      "(10, 10, 10)\n"
     ]
    }
   ],
   "source": [
    "# Implement both vectors:\n",
    "\n",
    "# vec1 = ...\n",
    "# vec2 = ...\n",
    "vec1 = {'rows': 1, 'cols': 3, 'data': [1,2,3]}\n",
    "vec2 = {'rows': 1, 'cols': 3, 'data': [9,8,7]}\n",
    "\n",
    "\n",
    "# Can we add them? Check if dimensions are the same:\n",
    "\n",
    "# .Yes, 1 rij, 3 kolommen..\n",
    "\n",
    "# How do you add these vectors by hand?\n",
    "#1+9, 2+8, 3+7\n",
    "\n",
    "# ...\n",
    "\n",
    "# Now add the vectors in code:\n",
    "vec['data'] = vec1['data'] [0] + vec2['data'] [0], vec1['data'] [1] + vec2['data'] [1], vec1['data'] [2] + vec2['data'] [2]\n",
    "print (vec['data'])\n",
    "\n",
    "# ..."
   ]
  },
  {
   "cell_type": "markdown",
   "id": "ecf7d53a",
   "metadata": {},
   "source": [
    "## Matrices"
   ]
  },
  {
   "cell_type": "markdown",
   "id": "aea58d0c",
   "metadata": {},
   "source": [
    "### 1. Een 3 x 3 matrix*"
   ]
  },
  {
   "cell_type": "markdown",
   "id": "8ecdf748",
   "metadata": {},
   "source": [
    "Representeer de onderstaande matrix in code:\n",
    "\n",
    "$$\n",
    "  \\begin{pmatrix}\n",
    "    1 & 2 & 3\\\\\n",
    "    4 & 5 & 6\\\\\n",
    "    7 & 8 & 9\\\\\n",
    "  \\end{pmatrix}\n",
    "$$"
   ]
  },
  {
   "cell_type": "code",
   "execution_count": 54,
   "id": "744a8d77",
   "metadata": {
    "tags": []
   },
   "outputs": [
    {
     "name": "stdout",
     "output_type": "stream",
     "text": [
      "3 3\n",
      "3\n"
     ]
    }
   ],
   "source": [
    "# How many rows and colums does this matrix have?\n",
    "\n",
    "# .3.\n",
    "\n",
    "\n",
    "# Use the definition at the top to implement this matrix:\n",
    "\n",
    "# mat = ...\n",
    "mat = {'rows': 3, 'cols': 3, 'data': [1,2,3,4,5,6,7,8,9]}\n",
    "\n",
    "\n",
    "# Can you print its dimensions? (rows, cols)\n",
    "\n",
    "# ...\n",
    "print(mat[\"rows\"], mat[\"cols\"])\n",
    "\n",
    "# Can you print the number of elements?\n",
    "\n",
    "# ...\n",
    "print(len(\"mat\"))"
   ]
  },
  {
   "cell_type": "markdown",
   "id": "78d195fb",
   "metadata": {},
   "source": [
    "### 2. Matrices optellen**"
   ]
  },
  {
   "cell_type": "markdown",
   "id": "1554b6d8",
   "metadata": {},
   "source": [
    "Tel de onderstaande matrices op:\n",
    "\n",
    "$$\n",
    "  \\begin{pmatrix}\n",
    "    1 & 2 & 3\\\\\n",
    "    4 & 5 & 6\\\\\n",
    "    7 & 8 & 9\\\\\n",
    "  \\end{pmatrix}\n",
    "  +\n",
    "    \\begin{pmatrix}\n",
    "    9 & 8 & 7\\\\\n",
    "    6 & 5 & 4\\\\\n",
    "    3 & 2 & 1\\\\\n",
    "  \\end{pmatrix}\n",
    "  =\n",
    "  ...\n",
    "$$"
   ]
  },
  {
   "cell_type": "code",
   "execution_count": 60,
   "id": "ac6bd48c",
   "metadata": {
    "tags": []
   },
   "outputs": [
    {
     "name": "stdout",
     "output_type": "stream",
     "text": [
      "(10, 10, 10, 10, 10, 10, 10, 10, 10)\n"
     ]
    }
   ],
   "source": [
    "# Implement both matrices:\n",
    "\n",
    "# mat1 = ...\n",
    "# mat2 = ...\n",
    "mat1 = {'rows': 3, 'cols': 3, 'data': [1,2,3,4,5,6,7,8,9]}\n",
    "mat2 = {'rows': 3, 'cols': 3, 'data': [9,8,7,6,5,4,3,2,1]}\n",
    "\n",
    "\n",
    "\n",
    "# Can we add them? Check if dimensions are the same:\n",
    "\n",
    "# .Yes, 3 rows en 3 kolommen.\n",
    "\n",
    "# How do you add these matrices by hand?\n",
    "\n",
    "# rij 1 ko1+ rij1ko2, rijmatrix1 rij1/kolom1, rij1/kolom2, 1/kolom3rij 2 kol1, rij2 kol2, rij 3 ko 3rij 3 kol 1\n",
    "\n",
    "\n",
    "# Now add the matrices in code:\n",
    "\n",
    "# ...\n",
    "\n",
    "mat['data'] = mat1['data'] [0] + mat2['data'] [0], mat1['data'] [1] + mat2['data'] [1], mat1['data'] [2] + mat2['data'] [2], mat1['data'] [3] + mat2['data'] [3], mat1['data'] [4] + mat2['data'] [4], mat1['data'] [5] + mat2['data'] [5], mat1['data'] [6] + mat2['data'] [6], mat1['data'] [7] + mat2['data'] [7], mat1['data'] [8] + mat2['data'] [8]\n",
    "\n",
    "\n",
    "\n",
    "print (mat['data'])\n",
    "\n",
    "\n",
    "# In case you didn't: can you generalize this algorithm?\n",
    "\n",
    "# ...\n",
    "\n",
    "\n",
    "\n",
    "m1= int(input (\"number of rows mat1:\"))\n",
    "m2= int(input (\"number of rows mat2:\"))\n",
    "\n",
    "x1= int(input (\"number of cols mat1\":))\n",
    "x2= int(input (\"number of cols mat2\"))\n",
    "\n",
    "if m1 != m2 or x1 != x2\n",
    " print(\"add mat1 + mat2 is only possible when rows mat1 == rows mat2 and cols mat1 == cols mat2)       \n",
    "    \n",
    "x= int(input (\"number of cols mat1\":))\n",
    "y= int(input (\"number of rows mat2\"))\n",
    "\n",
    "\n",
    "mat1 = {'rows': m1, 'cols': x, 'data': [0,n]}\n",
    "mat2 = {'rows': y, 'cols': m2, 'data': [0,n]}\n",
    "\n",
    "n = m1*m2\n",
    "\n",
    "def mat [\"data'] = mat1 [0.n] + mat2 [0,n]\n",
    "     for numbers in range [0,n]\n",
    "         \n",
    "         \n",
    "for i in range(9):\n",
    "    \n",
    "    mat3['data'][i] = mat1['data'][i] + mat2['data'][i]\n",
    "\n",
    "\n",
    "print(mat3)\n",
    "         "
   ]
  },
  {
   "cell_type": "markdown",
   "id": "7bff9837",
   "metadata": {},
   "source": [
    "### 3. Matrices vermenigvuldigen***"
   ]
  },
  {
   "cell_type": "markdown",
   "id": "4dba734d",
   "metadata": {},
   "source": [
    "Vermenigvuldig de onderstaande matrices:\n",
    "\n",
    "$$\n",
    "  \\begin{pmatrix}\n",
    "    1 & 2 & 3\\\\\n",
    "    4 & 5 & 6\n",
    "  \\end{pmatrix}\n",
    "  *\n",
    "    \\begin{pmatrix}\n",
    "    9 & 8\\\\\n",
    "    6 & 5\\\\\n",
    "    3 & 2\\\\\n",
    "  \\end{pmatrix}\n",
    "  =\n",
    "  ...\n",
    "$$"
   ]
  },
  {
   "cell_type": "code",
   "execution_count": 1,
   "id": "9895aaab",
   "metadata": {
    "tags": []
   },
   "outputs": [
    {
     "ename": "SyntaxError",
     "evalue": "invalid decimal literal (3596716658.py, line 32)",
     "output_type": "error",
     "traceback": [
      "\u001b[1;36m  Cell \u001b[1;32mIn[1], line 32\u001b[1;36m\u001b[0m\n\u001b[1;33m    rows1*1e kolom, rows2* 1e kolom, row1*kolom2\u001b[0m\n\u001b[1;37m          ^\u001b[0m\n\u001b[1;31mSyntaxError\u001b[0m\u001b[1;31m:\u001b[0m invalid decimal literal\n"
     ]
    }
   ],
   "source": [
    "# Implement both matrices:\n",
    "\n",
    "# mat1 = ...\n",
    "# mat2 = ...\n",
    "mat1 = {'rows': 2, 'cols': 3, 'data': [1,2,3,4,5,6]}\n",
    "mat2 = {'rows': 3, 'cols': 2, 'data': [9,6,3,8,5,2]}\n",
    "\n",
    "\n",
    "# Can we multiply them? Check if dimensions satisfy the (M by N) * (N by K) = (M by K) rule:\n",
    "\n",
    "# yes...\n",
    "\n",
    "# How do you multiply these matrices by hand?\n",
    "\n",
    "# 1x9+2x6=3x3, 4x9+, 5x6+6x3,=9,12,9,36,30,18,1x8+2x5+3x5+4x8, 5x5+6x2...= 8,10,15,32,25,12\n",
    "\n",
    "# Now multiply the matrices in code:\n",
    "\n",
    "\n",
    "\n",
    "mat['data'] = \n",
    "mat1['data'] [0] * mat2['data'] [0], mat1['data'] [1] * mat2['data'] [1], mat1['data'] [2] * mat2['data'] [2], \n",
    "mat1['data'] [3] * mat2['data'] [0], mat1['data'] [4] * mat2['data'] [1], mat1['data'] [5] * mat2['data'] [2],\n",
    "\n",
    "mat1['data'] [0] * mat2['data'] [3], mat1['data'] [1] * mat2['data'] [4], mat1['data'] [2] * mat2['data'] [5], mat1['data'] [3] * mat2['data'] [3], mat1['data'] [4] * mat2['data'] [4], mat1['data'] [5] * mat2['data'] [5],\n",
    "\n",
    "\n",
    "\n",
    "print(mat['data']\n",
    "      \n",
    "# In case you didn't: can you generalize this algorithm?\n",
    "    rows1*1e kolom, rows2* 1e kolom, row1*kolom2\n",
    "      data mat 1 m1*x\n",
    "      data mat 2 m2*y\n",
    "\n",
    "# ...\n",
    "      eenvoudige test rij -1,1 en kolom 1,1 =0\n",
    "m1= int(input (\"number of rows mat1:\"))\n",
    "m2= int(input (\"number of cols mat2:\"))\n",
    "\n",
    "if m1 != m2 or 2 != x2\n",
    " print(\"add mat1 and mat2 is only possible when cols mat1 == rows mat2)  \n",
    "       \n",
    "x= int(input (\"number of cols mat1\":))\n",
    "y= int(input (\"number of rows mat2\"))\n",
    " \n",
    "n1 = m1 * x\n",
    "n2 = m2 * y\n",
    "       \n",
    "data n1x data y/n1, \n",
    "kolom1 = data  \n",
    "       \n",
    "       \n",
    "mat1 = {'rows': m1, 'cols': x, 'data': [0,n1]}\n",
    "mat2 = {'rows': y, 'cols': m2, 'data': [0,n]}\n",
    "\n",
    "          "
   ]
  },
  {
   "cell_type": "code",
   "execution_count": null,
   "id": "b792fa18-3af1-4a51-b908-a6ac0c4c2c53",
   "metadata": {},
   "outputs": [],
   "source": []
  }
 ],
 "metadata": {
  "kernelspec": {
   "display_name": "Python 3 (ipykernel)",
   "language": "python",
   "name": "python3"
  },
  "language_info": {
   "codemirror_mode": {
    "name": "ipython",
    "version": 3
   },
   "file_extension": ".py",
   "mimetype": "text/x-python",
   "name": "python",
   "nbconvert_exporter": "python",
   "pygments_lexer": "ipython3",
   "version": "3.10.10"
  },
  "vscode": {
   "interpreter": {
    "hash": "7bcdc6b3b86716660d7eadbb40941a954fc54027f36a2a2e4af8cf25c6bb0831"
   }
  }
 },
 "nbformat": 4,
 "nbformat_minor": 5
}
