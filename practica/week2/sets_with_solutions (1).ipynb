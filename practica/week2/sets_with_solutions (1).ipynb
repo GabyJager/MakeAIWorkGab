{
 "cells": [
  {
   "cell_type": "markdown",
   "id": "39ad5385-bd3b-4733-8583-aaee47dfd023",
   "metadata": {},
   "source": [
    "<div>\n",
    "    <img src='../../pics/banner.PNG'/>\n",
    "</div>\n",
    "<div>\n",
    "    <img width=\"10%\" height=\"10%\" src='../../pics/python-programming.png'/>\n",
    "    <img src='../../pics/miw.PNG'/>\n",
    "</div>\n",
    "<div>\n",
    "    <em>Author: Jeroen Boogaard</em>\n",
    "</div>"
   ]
  },
  {
   "cell_type": "markdown",
   "id": "2e3ab9dd-f769-4b88-87d0-59bb6af381f6",
   "metadata": {},
   "source": [
    "<h1>Samengestelde variabelen - Sets</h1>"
   ]
  },
  {
   "cell_type": "markdown",
   "id": "1dd30cb7-4573-48b9-9b50-4e64b414213e",
   "metadata": {},
   "source": [
    "**Een set is een <u>mutable</u> dataverzameling van <u>unieke</u> elementen.**"
   ]
  },
  {
   "cell_type": "markdown",
   "id": "9e171b05-9dc7-466c-97cf-e50f0b7ef9e4",
   "metadata": {
    "tags": []
   },
   "source": [
    "<div>\n",
    "    <img width=\"25%\" height=\"25%\" src='../../pics/pioneer.jpg'/>\n",
    "</div>"
   ]
  },
  {
   "cell_type": "markdown",
   "id": "41aaf327-508a-451a-87cc-f8c5e95d6b0a",
   "metadata": {},
   "source": [
    "<h3>Imports</h3>"
   ]
  },
  {
   "cell_type": "code",
   "execution_count": 12,
   "id": "5e0c7518-0e8a-442c-815d-c384f12339b3",
   "metadata": {
    "tags": []
   },
   "outputs": [],
   "source": [
    "from os import system"
   ]
  },
  {
   "cell_type": "code",
   "execution_count": 13,
   "id": "7e5609b9-7b0a-4ef9-8bd5-e470938f5280",
   "metadata": {
    "tags": []
   },
   "outputs": [
    {
     "data": {
      "text/plain": [
       "0"
      ]
     },
     "execution_count": 13,
     "metadata": {},
     "output_type": "execute_result"
    }
   ],
   "source": [
    "system(\"(pip list | grep geopandas) && (pip list | grep matplotlib-venn) && (pip list | grep contextily) || pip install -r ../pip/requirements.txt\")"
   ]
  },
  {
   "cell_type": "code",
   "execution_count": 14,
   "id": "3558b293-d060-4816-9cf4-d2681c1a679d",
   "metadata": {
    "tags": []
   },
   "outputs": [],
   "source": [
    "import contextily as ctx\n",
    "import geopandas as gpd\n",
    "from matplotlib_venn import venn2, venn3\n",
    "import matplotlib.pyplot as plt"
   ]
  },
  {
   "cell_type": "markdown",
   "id": "443e2275-c790-4153-82c2-f08782f7856c",
   "metadata": {},
   "source": [
    "<h3>Set variabelen aanmaken en afdrukken</h3>"
   ]
  },
  {
   "cell_type": "code",
   "execution_count": 3,
   "id": "b5ca0430-4eb8-4eeb-a899-151ebbbf7f13",
   "metadata": {
    "tags": []
   },
   "outputs": [
    {
     "name": "stdout",
     "output_type": "stream",
     "text": [
      "{'Pioneer', 'Voyager'}\n"
     ]
    }
   ],
   "source": [
    "spaceCrafts = set()\n",
    "spaceCrafts = {\"Pioneer\", \"Voyager\"}\n",
    "print(spaceCrafts)"
   ]
  },
  {
   "cell_type": "raw",
   "id": "15eaabd3-5697-474e-9a46-a384a242c8a4",
   "metadata": {},
   "source": [
    "Elementen kunnen aan een bestaande set worden toegevoegd.."
   ]
  },
  {
   "cell_type": "code",
   "execution_count": 4,
   "id": "e8e00fbb-0a04-4754-9fdc-0ea3bc54f43e",
   "metadata": {
    "tags": []
   },
   "outputs": [],
   "source": [
    "spaceCrafts.add(\"Voyager\")"
   ]
  },
  {
   "cell_type": "raw",
   "id": "93db2ef6-ce73-4ce3-8cff-7aa0babea2f2",
   "metadata": {},
   "source": [
    "maar elk element komt slechts 1 keer voor"
   ]
  },
  {
   "cell_type": "code",
   "execution_count": 5,
   "id": "e51fcac8-8062-4c48-bc39-d191f7742c65",
   "metadata": {
    "tags": []
   },
   "outputs": [
    {
     "name": "stdout",
     "output_type": "stream",
     "text": [
      "{'Pioneer', 'Voyager'}\n"
     ]
    }
   ],
   "source": [
    "print(spaceCrafts)"
   ]
  },
  {
   "cell_type": "markdown",
   "id": "7e55fb56-f386-4785-8841-90d1844db4d7",
   "metadata": {},
   "source": [
    "<h3>Exercise 1</h3>\n",
    "<h4>Gegeven</h4>"
   ]
  },
  {
   "cell_type": "code",
   "execution_count": 6,
   "id": "065d6065-9d59-47f3-ba49-0c6cd4dd15f3",
   "metadata": {
    "tags": []
   },
   "outputs": [
    {
     "name": "stdout",
     "output_type": "stream",
     "text": [
      "[0, 1, 1, 2, 3, 5, 8, 13, 21, 34, 55, 89, 144, 233, 377]\n"
     ]
    }
   ],
   "source": [
    "def fiboSeqList(n):\n",
    "    if n <= 1:\n",
    "        return n\n",
    "    else:\n",
    "        return(fiboSeqList(n-1) + fiboSeqList(n-2))\n",
    "    \n",
    "fibonacciList = [fiboSeqList(i) for i in range(0,15)]    \n",
    "print(fibonacciList)"
   ]
  },
  {
   "cell_type": "markdown",
   "id": "def776af-43e4-4bd7-a17b-8778b318dcfd",
   "metadata": {},
   "source": [
    "<h4>Gevraagd</h4>\n",
    "<p>Maak gebruik van <u>cast</u> om variabele <i>fibonacciList</i> te ontdubbelen</p>"
   ]
  },
  {
   "cell_type": "markdown",
   "id": "4eabe9bd-dd7f-4f83-872f-e63e25146ca4",
   "metadata": {},
   "source": [
    "<h4>Oplossing</h4>"
   ]
  },
  {
   "cell_type": "code",
   "execution_count": 7,
   "id": "65a28c92-758e-49b9-b2b6-bd78e79e7642",
   "metadata": {
    "tags": []
   },
   "outputs": [],
   "source": [
    "# Oplossing\n",
    "fibonacciList = list(set(fibonacciList))"
   ]
  },
  {
   "cell_type": "markdown",
   "id": "3c57550b-cd11-4a6d-a806-946830cbb1cd",
   "metadata": {},
   "source": [
    "<h3>Operaties</h3>"
   ]
  },
  {
   "cell_type": "code",
   "execution_count": 17,
   "id": "46e0e7e4-1cc9-47f3-bc53-d3888252e583",
   "metadata": {
    "tags": []
   },
   "outputs": [],
   "source": [
    "nordics = {\"Denmark\", \"Finland\", \"Iceland\", \"Norway\"}\n",
    "baltics = {\"Estonia\", \"Latvia\", \"Lithuania\"}\n",
    "eu = {\"Austria\", \"Belgium\", \"Bulgaria\", \"Croatia\", \"Cyprus\", \"Czechia\", \"Denmark\", \"Estonia\", \"Finland\", \"France\", \"Germany\", \"Greece\", \"Hungary\", \"Ireland\", \"Italy\", \"Latvia\", \"Lithuania\", \"Luxembourg\", \"Malta\", \"Netherlands\", \"Poland\", \"Portugal\", \"Romania\", \"Slovakia\", \"Slovenia\", \"Spain\", \"Sweden\"}"
   ]
  },
  {
   "cell_type": "markdown",
   "id": "b2c79908-ca34-4657-8481-7a959aa046a5",
   "metadata": {},
   "source": [
    "<h3>Exercise 2</h3>\n",
    "<h4>Gegeven</h4>"
   ]
  },
  {
   "cell_type": "code",
   "execution_count": 9,
   "id": "96daa91c-96a8-41a7-b202-6e4a77876ef0",
   "metadata": {
    "tags": []
   },
   "outputs": [],
   "source": [
    "benelux = {\"Belgium\", \"Netherlands\", \"Luxembourg\"}\n",
    "benStr = \"\"\n",
    "benList = list()"
   ]
  },
  {
   "cell_type": "markdown",
   "id": "80d32381-df51-4185-a4ba-1ed9cf9c6ba2",
   "metadata": {},
   "source": [
    "<h4>Gevraagd</h4>\n",
    "<ul>\n",
    "<li>Maak een String benStr met als <u>value</u> \"BeNeLux\" die is opgebouwd uit de letters van corresponderende items uit de set <i>benelux</i> zonder de set variabele zelf aan te passen</li>\n",
    "<li>Maak een List benList met als <u>value</u> [\"BE\", \"NL\" \"LU\"] die is opgebouwd uit de letters van corresponderende items uit de set <i>benelux</i> zonder de set variabele zelf aan te passen</li>\n",
    "</ul>"
   ]
  },
  {
   "cell_type": "markdown",
   "id": "871adbea-f738-4d20-8fe9-50ef3e6cbd15",
   "metadata": {},
   "source": [
    "<h4>Oplossing</h4>"
   ]
  },
  {
   "cell_type": "code",
   "execution_count": 10,
   "id": "53417987-3497-4658-a6e1-02d9370b966a",
   "metadata": {
    "tags": []
   },
   "outputs": [
    {
     "name": "stdout",
     "output_type": "stream",
     "text": [
      "{'Netherlands', 'Luxembourg', 'Belgium'}\n",
      "['LU', 'NL', 'BE']\n",
      "LuNeBel\n"
     ]
    }
   ],
   "source": [
    "# Oplossing\n",
    "\n",
    "# In welke volgorde staan de elementen van de set benelux echt?\n",
    "print(benelux)\n",
    "\n",
    "# Maak een kopie van set benelux\n",
    "benelux1 = benelux.copy()\n",
    "\n",
    "# Maak eerst een benList met lege waarden\n",
    "benList = [None] * 3\n",
    "\n",
    "# Voeg de elementen uit de set in de juist volgorde toe aan de list\n",
    "# Gebruik String slicing voor het selecteren van letters\n",
    "netherlands = benelux1.pop()\n",
    "benList[1] = f\"{netherlands[0]}{netherlands[6]}\".upper() \n",
    "benList[0] = benelux1.pop()[:2].upper() \n",
    "benList[2] = benelux1.pop()[:2].upper() \n",
    "\n",
    "print(benList)\n",
    "\n",
    "# Maak een kopie van set benelux\n",
    "benelux2 = benelux.copy()\n",
    "\n",
    "# Maak een tweede list en aangepaste landcodes\n",
    "benList2 = [None] * 3\n",
    "benList2[1] = benelux2.pop()[:2].title() \n",
    "benList2[0] = benelux2.pop()[:2].title() \n",
    "benList2[2] = benelux2.pop()[:3].title() \n",
    "\n",
    "# print(benList2)\n",
    "\n",
    "# Gebruik join voor het maken van benStr \n",
    "benStr = \"\".join(benList2)\n",
    "print(benStr)"
   ]
  },
  {
   "cell_type": "markdown",
   "id": "978e6a57-c504-4a92-8926-c7d1bd6d5027",
   "metadata": {},
   "source": [
    "<h3>Visualisatie</h3>"
   ]
  },
  {
   "cell_type": "markdown",
   "id": "d49225be-ab99-402f-933b-f304f95df3a5",
   "metadata": {
    "tags": []
   },
   "source": [
    "**We gebruiken geopandas voor het visualiseren van een landkaart en filteren op de 2-letterige landcode**"
   ]
  },
  {
   "cell_type": "code",
   "execution_count": 15,
   "id": "28d6057a-9d6e-4d40-b7b5-8523b5b49cdd",
   "metadata": {
    "tags": []
   },
   "outputs": [
    {
     "ename": "DriverError",
     "evalue": "../../geo/ref-nuts-2021-01m/NUTS_RG_01M_2021_3035_LEVL_1.json: No such file or directory",
     "output_type": "error",
     "traceback": [
      "\u001b[1;31m---------------------------------------------------------------------------\u001b[0m",
      "\u001b[1;31mCPLE_OpenFailedError\u001b[0m                      Traceback (most recent call last)",
      "File \u001b[1;32mfiona\\ogrext.pyx:136\u001b[0m, in \u001b[0;36mfiona.ogrext.gdal_open_vector\u001b[1;34m()\u001b[0m\n",
      "File \u001b[1;32mfiona\\_err.pyx:291\u001b[0m, in \u001b[0;36mfiona._err.exc_wrap_pointer\u001b[1;34m()\u001b[0m\n",
      "\u001b[1;31mCPLE_OpenFailedError\u001b[0m: ../../geo/ref-nuts-2021-01m/NUTS_RG_01M_2021_3035_LEVL_1.json: No such file or directory",
      "\nDuring handling of the above exception, another exception occurred:\n",
      "\u001b[1;31mDriverError\u001b[0m                               Traceback (most recent call last)",
      "Cell \u001b[1;32mIn[15], line 4\u001b[0m\n\u001b[0;32m      2\u001b[0m data_dir \u001b[38;5;241m=\u001b[39m \u001b[38;5;124m\"\u001b[39m\u001b[38;5;124m../../geo/ref-nuts-2021-01m/\u001b[39m\u001b[38;5;124m\"\u001b[39m\n\u001b[0;32m      3\u001b[0m euPath \u001b[38;5;241m=\u001b[39m data_dir \u001b[38;5;241m+\u001b[39m \u001b[38;5;124m\"\u001b[39m\u001b[38;5;124mNUTS_RG_01M_2021_3035_LEVL_1.json\u001b[39m\u001b[38;5;124m\"\u001b[39m\n\u001b[1;32m----> 4\u001b[0m gdf \u001b[38;5;241m=\u001b[39m \u001b[43mgpd\u001b[49m\u001b[38;5;241;43m.\u001b[39;49m\u001b[43mread_file\u001b[49m\u001b[43m(\u001b[49m\u001b[43meuPath\u001b[49m\u001b[43m)\u001b[49m\n\u001b[0;32m      6\u001b[0m \u001b[38;5;66;03m# Coordinatensysteem\u001b[39;00m\n\u001b[0;32m      7\u001b[0m gdf\u001b[38;5;241m.\u001b[39mcrs \u001b[38;5;241m=\u001b[39m \u001b[38;5;124m\"\u001b[39m\u001b[38;5;124mEPSG:3035\u001b[39m\u001b[38;5;124m\"\u001b[39m\n",
      "File \u001b[1;32m~\\MakeAIWorkGab\\env\\lib\\site-packages\\geopandas\\io\\file.py:259\u001b[0m, in \u001b[0;36m_read_file\u001b[1;34m(filename, bbox, mask, rows, engine, **kwargs)\u001b[0m\n\u001b[0;32m    256\u001b[0m     path_or_bytes \u001b[38;5;241m=\u001b[39m filename\n\u001b[0;32m    258\u001b[0m \u001b[38;5;28;01mif\u001b[39;00m engine \u001b[38;5;241m==\u001b[39m \u001b[38;5;124m\"\u001b[39m\u001b[38;5;124mfiona\u001b[39m\u001b[38;5;124m\"\u001b[39m:\n\u001b[1;32m--> 259\u001b[0m     \u001b[38;5;28;01mreturn\u001b[39;00m _read_file_fiona(\n\u001b[0;32m    260\u001b[0m         path_or_bytes, from_bytes, bbox\u001b[38;5;241m=\u001b[39mbbox, mask\u001b[38;5;241m=\u001b[39mmask, rows\u001b[38;5;241m=\u001b[39mrows, \u001b[38;5;241m*\u001b[39m\u001b[38;5;241m*\u001b[39mkwargs\n\u001b[0;32m    261\u001b[0m     )\n\u001b[0;32m    262\u001b[0m \u001b[38;5;28;01melif\u001b[39;00m engine \u001b[38;5;241m==\u001b[39m \u001b[38;5;124m\"\u001b[39m\u001b[38;5;124mpyogrio\u001b[39m\u001b[38;5;124m\"\u001b[39m:\n\u001b[0;32m    263\u001b[0m     \u001b[38;5;28;01mreturn\u001b[39;00m _read_file_pyogrio(\n\u001b[0;32m    264\u001b[0m         path_or_bytes, bbox\u001b[38;5;241m=\u001b[39mbbox, mask\u001b[38;5;241m=\u001b[39mmask, rows\u001b[38;5;241m=\u001b[39mrows, \u001b[38;5;241m*\u001b[39m\u001b[38;5;241m*\u001b[39mkwargs\n\u001b[0;32m    265\u001b[0m     )\n",
      "File \u001b[1;32m~\\MakeAIWorkGab\\env\\lib\\site-packages\\geopandas\\io\\file.py:303\u001b[0m, in \u001b[0;36m_read_file_fiona\u001b[1;34m(path_or_bytes, from_bytes, bbox, mask, rows, where, **kwargs)\u001b[0m\n\u001b[0;32m    300\u001b[0m     reader \u001b[38;5;241m=\u001b[39m fiona\u001b[38;5;241m.\u001b[39mopen\n\u001b[0;32m    302\u001b[0m \u001b[38;5;28;01mwith\u001b[39;00m fiona_env():\n\u001b[1;32m--> 303\u001b[0m     \u001b[38;5;28;01mwith\u001b[39;00m reader(path_or_bytes, \u001b[38;5;241m*\u001b[39m\u001b[38;5;241m*\u001b[39mkwargs) \u001b[38;5;28;01mas\u001b[39;00m features:\n\u001b[0;32m    304\u001b[0m         crs \u001b[38;5;241m=\u001b[39m features\u001b[38;5;241m.\u001b[39mcrs_wkt\n\u001b[0;32m    305\u001b[0m         \u001b[38;5;66;03m# attempt to get EPSG code\u001b[39;00m\n",
      "File \u001b[1;32m~\\MakeAIWorkGab\\env\\lib\\site-packages\\fiona\\env.py:457\u001b[0m, in \u001b[0;36mensure_env_with_credentials.<locals>.wrapper\u001b[1;34m(*args, **kwds)\u001b[0m\n\u001b[0;32m    454\u001b[0m     session \u001b[38;5;241m=\u001b[39m DummySession()\n\u001b[0;32m    456\u001b[0m \u001b[38;5;28;01mwith\u001b[39;00m env_ctor(session\u001b[38;5;241m=\u001b[39msession):\n\u001b[1;32m--> 457\u001b[0m     \u001b[38;5;28;01mreturn\u001b[39;00m f(\u001b[38;5;241m*\u001b[39margs, \u001b[38;5;241m*\u001b[39m\u001b[38;5;241m*\u001b[39mkwds)\n",
      "File \u001b[1;32m~\\MakeAIWorkGab\\env\\lib\\site-packages\\fiona\\__init__.py:352\u001b[0m, in \u001b[0;36mopen\u001b[1;34m(fp, mode, driver, schema, crs, encoding, layer, vfs, enabled_drivers, crs_wkt, allow_unsupported_drivers, **kwargs)\u001b[0m\n\u001b[0;32m    349\u001b[0m     path \u001b[38;5;241m=\u001b[39m parse_path(fp)\n\u001b[0;32m    351\u001b[0m \u001b[38;5;28;01mif\u001b[39;00m mode \u001b[38;5;129;01min\u001b[39;00m (\u001b[38;5;124m\"\u001b[39m\u001b[38;5;124ma\u001b[39m\u001b[38;5;124m\"\u001b[39m, \u001b[38;5;124m\"\u001b[39m\u001b[38;5;124mr\u001b[39m\u001b[38;5;124m\"\u001b[39m):\n\u001b[1;32m--> 352\u001b[0m     colxn \u001b[38;5;241m=\u001b[39m Collection(\n\u001b[0;32m    353\u001b[0m         path,\n\u001b[0;32m    354\u001b[0m         mode,\n\u001b[0;32m    355\u001b[0m         driver\u001b[38;5;241m=\u001b[39mdriver,\n\u001b[0;32m    356\u001b[0m         encoding\u001b[38;5;241m=\u001b[39mencoding,\n\u001b[0;32m    357\u001b[0m         layer\u001b[38;5;241m=\u001b[39mlayer,\n\u001b[0;32m    358\u001b[0m         enabled_drivers\u001b[38;5;241m=\u001b[39menabled_drivers,\n\u001b[0;32m    359\u001b[0m         allow_unsupported_drivers\u001b[38;5;241m=\u001b[39mallow_unsupported_drivers,\n\u001b[0;32m    360\u001b[0m         \u001b[38;5;241m*\u001b[39m\u001b[38;5;241m*\u001b[39mkwargs\n\u001b[0;32m    361\u001b[0m     )\n\u001b[0;32m    362\u001b[0m \u001b[38;5;28;01melif\u001b[39;00m mode \u001b[38;5;241m==\u001b[39m \u001b[38;5;124m\"\u001b[39m\u001b[38;5;124mw\u001b[39m\u001b[38;5;124m\"\u001b[39m:\n\u001b[0;32m    363\u001b[0m     colxn \u001b[38;5;241m=\u001b[39m Collection(\n\u001b[0;32m    364\u001b[0m         path,\n\u001b[0;32m    365\u001b[0m         mode,\n\u001b[1;32m   (...)\u001b[0m\n\u001b[0;32m    374\u001b[0m         \u001b[38;5;241m*\u001b[39m\u001b[38;5;241m*\u001b[39mkwargs\n\u001b[0;32m    375\u001b[0m     )\n",
      "File \u001b[1;32m~\\MakeAIWorkGab\\env\\lib\\site-packages\\fiona\\collection.py:234\u001b[0m, in \u001b[0;36mCollection.__init__\u001b[1;34m(self, path, mode, driver, schema, crs, encoding, layer, vsi, archive, enabled_drivers, crs_wkt, ignore_fields, ignore_geometry, include_fields, wkt_version, allow_unsupported_drivers, **kwargs)\u001b[0m\n\u001b[0;32m    232\u001b[0m \u001b[38;5;28;01mif\u001b[39;00m \u001b[38;5;28mself\u001b[39m\u001b[38;5;241m.\u001b[39mmode \u001b[38;5;241m==\u001b[39m \u001b[38;5;124m\"\u001b[39m\u001b[38;5;124mr\u001b[39m\u001b[38;5;124m\"\u001b[39m:\n\u001b[0;32m    233\u001b[0m     \u001b[38;5;28mself\u001b[39m\u001b[38;5;241m.\u001b[39msession \u001b[38;5;241m=\u001b[39m Session()\n\u001b[1;32m--> 234\u001b[0m     \u001b[38;5;28mself\u001b[39m\u001b[38;5;241m.\u001b[39msession\u001b[38;5;241m.\u001b[39mstart(\u001b[38;5;28mself\u001b[39m, \u001b[38;5;241m*\u001b[39m\u001b[38;5;241m*\u001b[39mkwargs)\n\u001b[0;32m    235\u001b[0m \u001b[38;5;28;01melif\u001b[39;00m \u001b[38;5;28mself\u001b[39m\u001b[38;5;241m.\u001b[39mmode \u001b[38;5;129;01min\u001b[39;00m (\u001b[38;5;124m\"\u001b[39m\u001b[38;5;124ma\u001b[39m\u001b[38;5;124m\"\u001b[39m, \u001b[38;5;124m\"\u001b[39m\u001b[38;5;124mw\u001b[39m\u001b[38;5;124m\"\u001b[39m):\n\u001b[0;32m    236\u001b[0m     \u001b[38;5;28mself\u001b[39m\u001b[38;5;241m.\u001b[39msession \u001b[38;5;241m=\u001b[39m WritingSession()\n",
      "File \u001b[1;32mfiona\\ogrext.pyx:587\u001b[0m, in \u001b[0;36mfiona.ogrext.Session.start\u001b[1;34m()\u001b[0m\n",
      "File \u001b[1;32mfiona\\ogrext.pyx:143\u001b[0m, in \u001b[0;36mfiona.ogrext.gdal_open_vector\u001b[1;34m()\u001b[0m\n",
      "\u001b[1;31mDriverError\u001b[0m: ../../geo/ref-nuts-2021-01m/NUTS_RG_01M_2021_3035_LEVL_1.json: No such file or directory"
     ]
    }
   ],
   "source": [
    "# Geografische data inlezen\n",
    "data_dir = \"../../geo/ref-nuts-2021-01m/\"\n",
    "euPath = data_dir + \"NUTS_RG_01M_2021_3035_LEVL_1.json\"\n",
    "gdf = gpd.read_file(euPath)\n",
    "\n",
    "# Coordinatensysteem\n",
    "gdf.crs = \"EPSG:3035\"\n",
    "\n",
    "# Filteren landen m.b.v. codes uit benList\n",
    "gdfBen = gdf[(gdf.CNTR_CODE == benList[0]) | (gdf.CNTR_CODE == benList[1]) | (gdf.CNTR_CODE == benList[2])] if len(benList)==3 else gdf[(gdf.CNTR_CODE == \"NL\")]\n",
    "\n",
    "# Conversie Coordinaten\n",
    "gdfCrsBen = gdfBen.to_crs(\"EPSG:3857\")\n",
    "\n",
    "# Plot\n",
    "ax = gdfCrsBen.plot(figsize=(8,6), color=\"lightgray\")\n",
    "\n",
    "# Grenzen Benelux landen\n",
    "gdfCrsBen.boundary.plot(color=\"darkgreen\", ax=ax)\n",
    "\n",
    "# Achtergrondkaart\n",
    "ctx.add_basemap(ax, source=ctx.providers.OpenStreetMap.HOT)"
   ]
  },
  {
   "cell_type": "markdown",
   "id": "ea751320-05f1-41d1-97ba-3f8de4240166",
   "metadata": {},
   "source": [
    "**Gebruik <i>union</i> om verzamelingen verenigen**"
   ]
  },
  {
   "cell_type": "code",
   "execution_count": 18,
   "id": "4f803d2e-f0cc-43bf-a5b9-f282adb27811",
   "metadata": {
    "tags": []
   },
   "outputs": [
    {
     "name": "stdout",
     "output_type": "stream",
     "text": [
      "{'Lithuania', 'Iceland', 'Belgium', 'Luxembourg', 'Latvia', 'Finland', 'Norway', 'Estonia', 'Netherlands', 'Denmark'}\n"
     ]
    }
   ],
   "source": [
    "subUnion = benelux.union(nordics).union(baltics)\n",
    "print(subUnion)"
   ]
  },
  {
   "cell_type": "markdown",
   "id": "b67a0424-1e9a-4b4d-952e-aa1d351c14cb",
   "metadata": {},
   "source": [
    "<p>De Sets benelux, nordics en baltics zijn allen een eigen <strong>subset</strong> van eu</p>"
   ]
  },
  {
   "cell_type": "markdown",
   "id": "3229dad1-3579-41bd-b4e6-8d49f5c04ed4",
   "metadata": {},
   "source": [
    "<p>Niet alle landen uit <i>subUnion</i> zijn lid van de Europese Unie</p>"
   ]
  },
  {
   "cell_type": "code",
   "execution_count": 19,
   "id": "7678cfc6-6e6a-4132-b221-1e303c28ef4f",
   "metadata": {
    "tags": []
   },
   "outputs": [
    {
     "data": {
      "text/plain": [
       "False"
      ]
     },
     "execution_count": 19,
     "metadata": {},
     "output_type": "execute_result"
    }
   ],
   "source": [
    "baltics.issubset(eu) and benelux.issubset(eu) and nordics.issubset(eu)"
   ]
  },
  {
   "cell_type": "markdown",
   "id": "e6dc0310-0784-434a-acc1-5a21b4a4b2c5",
   "metadata": {},
   "source": [
    "**Gebruik de methode <i>intersection</i> voor de doorsnede van twee Sets**"
   ]
  },
  {
   "cell_type": "code",
   "execution_count": 20,
   "id": "e79a1f39-afc1-43f1-a060-3e6a7976b5fd",
   "metadata": {
    "tags": []
   },
   "outputs": [
    {
     "data": {
      "text/plain": [
       "{'Denmark', 'Finland'}"
      ]
     },
     "execution_count": 20,
     "metadata": {},
     "output_type": "execute_result"
    }
   ],
   "source": [
    "eu.intersection(nordics)"
   ]
  },
  {
   "cell_type": "code",
   "execution_count": 21,
   "id": "789bb115-e680-4d25-8646-709ba8e8e346",
   "metadata": {
    "tags": []
   },
   "outputs": [
    {
     "data": {
      "image/png": "[encoded data removed]",
      "text/plain": [
       "<Figure size 640x480 with 1 Axes>"
      ]
     },
     "metadata": {},
     "output_type": "display_data"
    }
   ],
   "source": [
    "venn2([eu, subUnion], ('EU', 'Benelux, Nordics and Baltics'))\n",
    "plt.show()"
   ]
  },
  {
   "cell_type": "markdown",
   "id": "ad46e130-fa09-45b4-b153-f2ce9a844009",
   "metadata": {},
   "source": [
    "<h3>Exercise 3</h3>\n",
    "<h4>Gegeven</h4>\n",
    "<p>EU lidstaten die de euro (nog) niet hebben ingevoerd</p>"
   ]
  },
  {
   "cell_type": "code",
   "execution_count": 22,
   "id": "a1c85ab4-8927-4db5-a362-1c03b8df6881",
   "metadata": {
    "tags": []
   },
   "outputs": [],
   "source": [
    "nonEuro = ['Bulgaria', 'Czech Republic', 'Denmark', 'Hungary', 'Poland', 'Romania', 'Sweden']"
   ]
  },
  {
   "cell_type": "markdown",
   "id": "54ad36a4-df11-4507-b710-d7191912f819",
   "metadata": {
    "tags": []
   },
   "source": [
    "<h4>Gevraagd</h4>\n",
    "<p>Gebruik de methode <u>difference</u> om EU landen weer te geven die <u>wel</u> lid zijn van de Eurozone</p>"
   ]
  },
  {
   "cell_type": "markdown",
   "id": "7405ad15-de70-4540-9e1e-cfbea7f5bfc1",
   "metadata": {
    "tags": []
   },
   "source": [
    "<h4>Oplossing</h4>"
   ]
  },
  {
   "cell_type": "code",
   "execution_count": 23,
   "id": "e6de797a-90b7-464e-8ae8-6b0f1a8ce8c4",
   "metadata": {
    "tags": []
   },
   "outputs": [
    {
     "name": "stdout",
     "output_type": "stream",
     "text": [
      "{'Ireland', 'Lithuania', 'Latvia', 'Malta', 'Slovenia', 'France', 'Cyprus', 'Italy', 'Greece', 'Austria', 'Germany', 'Spain', 'Belgium', 'Luxembourg', 'Finland', 'Slovakia', 'Czechia', 'Estonia', 'Netherlands', 'Croatia', 'Portugal'}\n"
     ]
    }
   ],
   "source": [
    "# Oplossing\n",
    "euro = eu.difference(nonEuro)\n",
    "print(euro)"
   ]
  },
  {
   "cell_type": "code",
   "execution_count": 24,
   "id": "f851f86f-335a-4cc6-a4bf-4de75342ed03",
   "metadata": {
    "tags": []
   },
   "outputs": [
    {
     "name": "stdout",
     "output_type": "stream",
     "text": [
      "['Ireland', 'Lithuania', 'Latvia', 'Malta', 'Slovenia', 'France', 'Cyprus', 'Italy', 'Greece', 'Austria', 'Germany', 'Spain', 'Belgium', 'Luxembourg', 'Finland', 'Slovakia', 'Czechia', 'Estonia', 'Netherlands', 'Croatia', 'Portugal']\n"
     ]
    }
   ],
   "source": [
    "# Alternatieve oplossing m.b.v. List Comprehension\n",
    "euro = [state for state in eu if state not in nonEuro]\n",
    "print(euro)"
   ]
  },
  {
   "cell_type": "code",
   "execution_count": null,
   "id": "dbfcf9e1-782d-475a-b1f9-228c850cd3c9",
   "metadata": {},
   "outputs": [],
   "source": []
  }
 ],
 "metadata": {
  "kernelspec": {
   "display_name": "Python 3 (ipykernel)",
   "language": "python",
   "name": "python3"
  },
  "language_info": {
   "codemirror_mode": {
    "name": "ipython",
    "version": 3
   },
   "file_extension": ".py",
   "mimetype": "text/x-python",
   "name": "python",
   "nbconvert_exporter": "python",
   "pygments_lexer": "ipython3",
   "version": "3.10.10"
  },
  "vscode": {
   "interpreter": {
    "hash": "aee8b7b246df8f9039afb4144a1f6fd8d2ca17a180786b69acc140d282b71a49"
   }
  }
 },
 "nbformat": 4,
 "nbformat_minor": 5
}
