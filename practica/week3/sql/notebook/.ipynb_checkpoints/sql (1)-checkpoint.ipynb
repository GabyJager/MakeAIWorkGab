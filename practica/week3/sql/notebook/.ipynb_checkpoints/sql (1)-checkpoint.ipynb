{
 "cells": [
  {
   "cell_type": "markdown",
   "id": "ce776e9e-e316-4a03-ad68-d9e0a090b894",
   "metadata": {},
   "source": [
    "https://raw.githubusercontent.com/MitwRdam/MakeAIWork/main/practica/week3/sql/notebook/sql.ipynb<div>\n",
    "    <img src='../pics/banner.PNG'/>\n",
    "</div>\n",
    "<div>\n",
    "    <img width=\"10%\" height=\"10%\" src='../pics/python-programming.png'/>\n",
    "    <img src='../pics/miw.PNG'/>\n",
    "</div>\n",
    "<div>\n",
    "    <em>Author: Jeroen Boogaard</em>\n",
    "</div>"
   ]
  },
  {
   "cell_type": "markdown",
   "id": "b57ce072-c647-44a4-8078-07045ee55df9",
   "metadata": {},
   "source": [
    "<h1>Practicum SQL </h1>"
   ]
  },
  {
   "cell_type": "markdown",
   "id": "9f080c20-09e7-415e-b4b8-91b340464972",
   "metadata": {},
   "source": [
    "<h2>Imports<h2>"
   ]
  },
  {
   "cell_type": "code",
   "execution_count": 1,
   "id": "91986813",
   "metadata": {
    "tags": []
   },
   "outputs": [],
   "source": [
    "from os import system as sys\n",
    "# sys('pip install pysqlite3 --upgrade pip')"
   ]
  },
  {
   "cell_type": "code",
   "execution_count": 2,
   "id": "fc9cc22c-9b16-4f97-be97-65fa68a4f5b6",
   "metadata": {
    "tags": []
   },
   "outputs": [],
   "source": [
    "from matplotlib import pyplot as plt\n",
    "from matplotlib_venn import venn2, venn3\n",
    "from PIL import Image\n",
    "import pandas as pd\n",
    "import sqlite3"
   ]
  },
  {
   "cell_type": "markdown",
   "id": "206be2e2-1646-4b41-bc5d-e23ca9ce2199",
   "metadata": {},
   "source": [
    "<h2>Extract, Transform and Load</h2>"
   ]
  },
  {
   "cell_type": "markdown",
   "id": "27681fa7-135e-4301-9eb3-b0d945ca7f45",
   "metadata": {},
   "source": [
    "<h3>Extract</h3>"
   ]
  },
  {
   "cell_type": "code",
   "execution_count": 3,
   "id": "3dc0221e-2539-46d5-9b46-f5031b987547",
   "metadata": {
    "tags": []
   },
   "outputs": [
    {
     "name": "stdout",
     "output_type": "stream",
     "text": [
      "    zoom                    name  abbreviation Code  ISO numeric  \\\n",
      "0      3                 Ukraine          Ukr.  UKR          804   \n",
      "1      3                  France           Fr.  FRA          250   \n",
      "2      3                   Spain         Spain  ESP          724   \n",
      "3      3                  Sweden          Swe.  SWE          752   \n",
      "4      3                 Germany          Ger.  DEU          276   \n",
      "5      3                 Finland          Fin.  FIN          246   \n",
      "6      3                  Norway          Nor.  NOR          578   \n",
      "7      3                  Poland          Pol.  POL          616   \n",
      "8      3                   Italy         Italy  ITA          380   \n",
      "9      3          United Kingdom          U.K.  GBR          826   \n",
      "10     3                 Romania          Rom.  ROU          642   \n",
      "11     3                 Belarus         Bela.  BLR          112   \n",
      "12     3                  Greece          Grc.  GRC          300   \n",
      "13     3                Bulgaria          Blg.  BGR          100   \n",
      "14     3                 Iceland          Ice.  ISL          352   \n",
      "15     3                Portugal         Port.  PRT          620   \n",
      "16     3          Czech Republic    Czech Rep.  CZE          203   \n",
      "17     3                 Denmark          Den.  DNK          208   \n",
      "18     4                 Hungary         Hung.  HUN          348   \n",
      "19     4                  Serbia         Serb.  SRB          688   \n",
      "20     4                 Austria          Aus.  AUT           40   \n",
      "21     4                 Ireland          Ire.  IRL          372   \n",
      "22     4               Lithuania         Lith.  LTU          440   \n",
      "23     4                  Latvia          Lat.  LVA          428   \n",
      "24     4                 Croatia          Cro.  HRV          191   \n",
      "25     4  Bosnia and Herzegovina          Bos.  BIH           70   \n",
      "26     4                Slovakia         Slvk.  SVK          703   \n",
      "27     4                 Estonia          Est.  EST          233   \n",
      "28     4             Netherlands         Neth.  NLD          528   \n",
      "29     4             Switzerland        Switz.  CHE          756   \n",
      "30     4                 Moldova          Mol.  MDA          498   \n",
      "31     4                 Belgium          Bel.  BEL           56   \n",
      "32     4                 Albania          Alb.  ALB            8   \n",
      "33     4               Macedonia          Mac.  MKD          807   \n",
      "34     4                Slovenia         Slvn.  SVN          705   \n",
      "35     4              Montenegro         Mont.  MNE          499   \n",
      "36     4                  Cyprus          Cyp.  CYP          196   \n",
      "37     4              Luxembourg          Lux.  LUX          442   \n",
      "38     4               Faroe Is.      Far. Is.  FRO          234   \n",
      "39     4                 Andorra          And.  AND           20   \n",
      "40     4                   Malta         Malta  MLT          470   \n",
      "41     4           Liechtenstein        Liech.  LIE          438   \n",
      "42     4                Guernsey        Guern.  GGY          831   \n",
      "43     4              San Marino       S. Mar.  SMR          674   \n",
      "44     4               Gibraltar          Gib.  GIB          292   \n",
      "45     4                  Monaco        Monaco  MCO          492   \n",
      "46     4            Vatican City  Vatican City  VAT          336   \n",
      "\n",
      "    land area km  population  latitude  longitude continent  \n",
      "0       603700.0    45415596     49.00      32.00        eu  \n",
      "1       547030.0    64768389     46.00       2.00        eu  \n",
      "2       504782.0    46505963     40.00      -4.00        eu  \n",
      "3       449964.0     9045000     62.00      15.00        eu  \n",
      "4       357021.0    82369000     51.50      10.50        eu  \n",
      "5       337030.0     5244000     64.00      26.00        eu  \n",
      "6       324220.0     4907000     62.00      10.00        eu  \n",
      "7       312685.0    38500000     52.00      20.00        eu  \n",
      "8       301230.0    58145000     42.83      12.83        eu  \n",
      "9       244820.0    62348447     54.90      -3.12        eu  \n",
      "10      237500.0    21959278     46.00      25.00        eu  \n",
      "11      207600.0     9685000     53.00      28.00        eu  \n",
      "12      131940.0    11000000     39.00      22.00        eu  \n",
      "13      110910.0     7148785     43.00      25.00        eu  \n",
      "14      103000.0      308910     65.00     -18.00        eu  \n",
      "15       92391.0    10676000     39.50      -8.00        eu  \n",
      "16       78866.0    10476000     49.75      15.00        eu  \n",
      "17       43094.0     5484000     56.00      10.00        eu  \n",
      "18       93030.0     9930000     47.00      20.00        eu  \n",
      "19       88361.0     7344847     44.82      20.46        eu  \n",
      "20       83858.0     8205000     47.33      13.33        eu  \n",
      "21       70280.0     4622917     53.00      -8.00        eu  \n",
      "22       65200.0     3565000     56.00      24.00        eu  \n",
      "23       64589.0     2217969     57.00      25.00        eu  \n",
      "24       56542.0     4491000     45.17      15.50        eu  \n",
      "25       51129.0     4590000     44.25      17.83        eu  \n",
      "26       48845.0     5455000     48.67      19.50        eu  \n",
      "27       45226.0     1291170     59.00      26.00        eu  \n",
      "28       41526.0    16645000     52.50       5.75        eu  \n",
      "29       41290.0     7581000     47.00       8.01        eu  \n",
      "30       33843.0     4324000     47.00      29.00        eu  \n",
      "31       30510.0    10403000     50.83       4.00        eu  \n",
      "32       28748.0     2986952     41.00      20.00        eu  \n",
      "33       25333.0     2061000     41.83      22.00        eu  \n",
      "34       20273.0     2007000     46.25      15.17        eu  \n",
      "35       14026.0      666730     43.50      19.30        eu  \n",
      "36        9250.0     1102677     35.00      33.00      asia  \n",
      "37        2586.0      497538     49.75       6.17        eu  \n",
      "38        1399.0       48228     62.00      -7.00        eu  \n",
      "39         468.0       84000     42.50       1.50        eu  \n",
      "40         316.0      403000     35.92      14.43        eu  \n",
      "41         160.0       35000     47.17       9.53        eu  \n",
      "42          78.0       65228     49.58      -2.33        eu  \n",
      "43          61.2       31477     43.93      12.42        eu  \n",
      "44           6.5       27884     36.13      -5.35        eu  \n",
      "45           2.0       32965     43.73       7.42        eu  \n",
      "46           0.4         921     41.90      12.45        eu  \n",
      "   Code         Name Member-Since\n",
      "0   AUT      Austria   1995-01-01\n",
      "1   BEL      Belgium   1958-01-01\n",
      "2   BGR     Bulgaria   2007-01-01\n",
      "3   HRV      Croatia   2013-07-01\n",
      "4   CYP       Cyprus   2004-05-01\n",
      "5   CZE      Czechia   2004-05-01\n",
      "6   DNK      Denmark   1973-01-01\n",
      "7   EST      Estonia   2004-05-01\n",
      "8   FIN      Finland   1995-01-01\n",
      "9   FRA       France   1958-01-01\n",
      "10  DEU      Germany   1958-01-01\n",
      "11  GRC       Greece   1981-01-01\n",
      "12  HUN      Hungary   2004-05-01\n",
      "13  IRL      Ireland   1973-01-01\n",
      "14  ITA        Italy   1958-01-01\n",
      "15  LVA       Latvia   2004-05-01\n",
      "16  LTU    Lithuania   2004-05-01\n",
      "17  LUX   Luxembourg   1958-01-01\n",
      "18  MLT        Malta   2004-05-01\n",
      "19  NLD  Netherlands   1958-01-01\n",
      "20  POL       Poland   2004-05-01\n",
      "21  PRT     Portugal   1986-01-01\n",
      "22  ROU      Romania   2007-01-01\n",
      "23  SVK     Slovakia   2004-05-01\n",
      "24  SVN     Slovenia   2004-05-01\n",
      "25  ESP        Spain   1986-01-01\n",
      "26  SWE       Sweden   1995-01-01\n"
     ]
    },
    {
     "ename": "FileNotFoundError",
     "evalue": "[Errno 2] No such file or directory: 'europeDF.csv'",
     "output_type": "error",
     "traceback": [
      "\u001b[1;31m---------------------------------------------------------------------------\u001b[0m",
      "\u001b[1;31mFileNotFoundError\u001b[0m                         Traceback (most recent call last)",
      "Cell \u001b[1;32mIn[3], line 12\u001b[0m\n\u001b[0;32m      9\u001b[0m \u001b[38;5;28mprint\u001b[39m(europeDF)\n\u001b[0;32m     10\u001b[0m \u001b[38;5;28mprint\u001b[39m(euDF)\n\u001b[1;32m---> 12\u001b[0m \u001b[38;5;28;01mwith\u001b[39;00m \u001b[38;5;28;43mopen\u001b[39;49m\u001b[43m(\u001b[49m\u001b[38;5;124;43m'\u001b[39;49m\u001b[38;5;124;43meuropeDF.csv\u001b[39;49m\u001b[38;5;124;43m'\u001b[39;49m\u001b[43m,\u001b[49m\u001b[38;5;124;43m'\u001b[39;49m\u001b[38;5;124;43mr\u001b[39;49m\u001b[38;5;124;43m'\u001b[39;49m\u001b[43m)\u001b[49m \u001b[38;5;28;01mas\u001b[39;00m csvinput:\n\u001b[0;32m     13\u001b[0m     \u001b[38;5;28;01mwith\u001b[39;00m \u001b[38;5;28mopen\u001b[39m(\u001b[38;5;124m'\u001b[39m\u001b[38;5;124meuropeDF/output.csv\u001b[39m\u001b[38;5;124m'\u001b[39m, \u001b[38;5;124m'\u001b[39m\u001b[38;5;124mw\u001b[39m\u001b[38;5;124m'\u001b[39m) \u001b[38;5;28;01mas\u001b[39;00m csvoutput:\n\u001b[0;32m     14\u001b[0m         writer \u001b[38;5;241m=\u001b[39m csv\u001b[38;5;241m.\u001b[39mwriter(csvoutput, lineterminator\u001b[38;5;241m=\u001b[39m\u001b[38;5;124m'\u001b[39m\u001b[38;5;130;01m\\n\u001b[39;00m\u001b[38;5;124m'\u001b[39m)\n",
      "File \u001b[1;32m~\\MakeAIWorkGab\\env\\lib\\site-packages\\IPython\\core\\interactiveshell.py:282\u001b[0m, in \u001b[0;36m_modified_open\u001b[1;34m(file, *args, **kwargs)\u001b[0m\n\u001b[0;32m    275\u001b[0m \u001b[38;5;28;01mif\u001b[39;00m file \u001b[38;5;129;01min\u001b[39;00m {\u001b[38;5;241m0\u001b[39m, \u001b[38;5;241m1\u001b[39m, \u001b[38;5;241m2\u001b[39m}:\n\u001b[0;32m    276\u001b[0m     \u001b[38;5;28;01mraise\u001b[39;00m \u001b[38;5;167;01mValueError\u001b[39;00m(\n\u001b[0;32m    277\u001b[0m         \u001b[38;5;124mf\u001b[39m\u001b[38;5;124m\"\u001b[39m\u001b[38;5;124mIPython won\u001b[39m\u001b[38;5;124m'\u001b[39m\u001b[38;5;124mt let you open fd=\u001b[39m\u001b[38;5;132;01m{\u001b[39;00mfile\u001b[38;5;132;01m}\u001b[39;00m\u001b[38;5;124m by default \u001b[39m\u001b[38;5;124m\"\u001b[39m\n\u001b[0;32m    278\u001b[0m         \u001b[38;5;124m\"\u001b[39m\u001b[38;5;124mas it is likely to crash IPython. If you know what you are doing, \u001b[39m\u001b[38;5;124m\"\u001b[39m\n\u001b[0;32m    279\u001b[0m         \u001b[38;5;124m\"\u001b[39m\u001b[38;5;124myou can use builtins\u001b[39m\u001b[38;5;124m'\u001b[39m\u001b[38;5;124m open.\u001b[39m\u001b[38;5;124m\"\u001b[39m\n\u001b[0;32m    280\u001b[0m     )\n\u001b[1;32m--> 282\u001b[0m \u001b[38;5;28;01mreturn\u001b[39;00m io_open(file, \u001b[38;5;241m*\u001b[39margs, \u001b[38;5;241m*\u001b[39m\u001b[38;5;241m*\u001b[39mkwargs)\n",
      "\u001b[1;31mFileNotFoundError\u001b[0m: [Errno 2] No such file or directory: 'europeDF.csv'"
     ]
    }
   ],
   "source": [
    "# https://raw.githubusercontent.com/ajturner/acetate/master/places/Countries-Europe.csv\n",
    "eurCsvFile = \"../csv/countries_europe.csv\"\n",
    "euCsvFile = \"../csv/european_union.csv\"\n",
    "\n",
    " # Create Pandas DataFrames\n",
    "europeDF = pd.read_csv(eurCsvFile)\n",
    "euDF = pd.read_csv(euCsvFile)\n",
    "\n",
    "print(europeDF)\n",
    "print(euDF)\n",
    "\n",
    "with open('europeDF.csv','r') as csvinput:\n",
    "    with open('europeDF/output.csv', 'w') as csvoutput:\n",
    "        writer = csv.writer(csvoutput, lineterminator='\\n')\n",
    "        reader = csv.reader(csvinput)\n",
    "\n",
    "        all = []\n",
    "        row = next(reader)\n",
    "        row.append('Group')\n",
    "        all.append(row)\n",
    "\n",
    "        for row in reader:\n",
    "            row.append(row[0])\n",
    "            all.append(row)\n",
    "\n",
    "        writer.writerows(all)"
   ]
  },
  {
   "cell_type": "markdown",
   "id": "620dd73e-33e6-42b4-89aa-c80a12833ad1",
   "metadata": {},
   "source": [
    "<h3>Transform</h3>"
   ]
  },
  {
   "cell_type": "markdown",
   "id": "184e4908-ac20-4417-8a04-60d0a2a80f44",
   "metadata": {},
   "source": [
    "<h3>Exercise 1</h3>\n",
    "<h4>Gegeven</h4>"
   ]
  },
  {
   "cell_type": "code",
   "execution_count": null,
   "id": "649e4d4f-bcf5-40ad-9f58-55a1481b9d8d",
   "metadata": {
    "tags": []
   },
   "outputs": [],
   "source": [
    "benelux = {\"Belgium\", \"Netherlands\", \"Luxembourg\"}\n",
    "nordics = {\"Denmark\", \"Finland\", \"Iceland\", \"Norway\"}\n",
    "baltics = {\"Estonia\", \"Latvia\", \"Lithuania\"}\n",
    "\n",
    "v = open('C:/test/test.csv')\n",
    ">>> r = csv.reader(v)\n",
    ">>> row0 = r.next()\n",
    ">>> row0.append('Group')\n",
    ">>> print row0\n",
    "['Name', 'Code','Group']\n",
    ">>> for item in r:\n",
    "...     item.append(item[2])\n",
    "...     print item\n",
    "\n"
   ]
  },
  {
   "cell_type": "markdown",
   "id": "cefd609d-415b-40ce-9aa8-56cf98e386ab",
   "metadata": {},
   "source": [
    "<h4>Gevraagd</h4>\n",
    "<ol>\n",
    "    <li>Voeg de kolom <u>groups</u> toe aan de dataset <u>europeDF</u> met daarin de groep waartoe een land behoort volgens bovenstaande sets</li>\n",
    "    <li>Ga na of er nog meer landengroepen zijn binnen Europa en voeg die ook toe</li>\n",
    "    <li>Sla deze verrijkte dataset op in een nieuw CSV bestand</li>\n",
    "</ol>"
   ]
  },
  {
   "cell_type": "markdown",
   "id": "950cd16a-4697-4e10-9a29-34e54145de68",
   "metadata": {},
   "source": [
    "<h4>Oplossing</h4>"
   ]
  },
  {
   "cell_type": "code",
   "execution_count": null,
   "id": "53b02739-f585-4a33-b4b0-dcf06bf6a1c9",
   "metadata": {},
   "outputs": [],
   "source": [
    "# Oplossing"
   ]
  },
  {
   "cell_type": "markdown",
   "id": "3915f0da-d771-4470-93e7-8b0337b472af",
   "metadata": {},
   "source": [
    "<h3>Load</h3>"
   ]
  },
  {
   "cell_type": "markdown",
   "id": "c50ff7d2-c034-43fd-b19d-24a3f4d1513f",
   "metadata": {},
   "source": [
    "<p>Maak een lege database</p>"
   ]
  },
  {
   "cell_type": "code",
   "execution_count": null,
   "id": "a2d3575c-af21-4bb5-8585-6da463a42fdf",
   "metadata": {
    "tags": []
   },
   "outputs": [],
   "source": [
    "sys('sqlite3 db/europe.db \"VACUUM;\"')"
   ]
  },
  {
   "cell_type": "code",
   "execution_count": null,
   "id": "2e63c59f-e85b-41c7-87a5-b1973ffa5652",
   "metadata": {
    "tags": []
   },
   "outputs": [],
   "source": [
    "# Connect to SQLite database\n",
    "dbConnection = sqlite3.connect('db/europe.db')"
   ]
  },
  {
   "cell_type": "markdown",
   "id": "a851f75c-1b37-4bec-9f92-146f45457533",
   "metadata": {},
   "source": [
    "<p>Maak tabellen o.b.v. de dataset</p>"
   ]
  },
  {
   "cell_type": "code",
   "execution_count": null,
   "id": "0372fa16-5ba5-4aac-874f-67566b093721",
   "metadata": {},
   "outputs": [],
   "source": [
    "europeDF.to_sql('countries', dbConnection, if_exists='replace', index = False)\n",
    "euDF.to_sql('eu', dbConnection, if_exists='replace', index = False)"
   ]
  },
  {
   "cell_type": "code",
   "execution_count": null,
   "id": "5e61d66c-78ec-4798-87ec-16a553d286ae",
   "metadata": {},
   "outputs": [],
   "source": [
    "dbCursor = dbConnection.cursor()\n",
    "\n",
    "query = \"\"\"\n",
    "    SELECT *\n",
    "    FROM countries\n",
    "    INNER JOIN eu\n",
    "    ON countries.Code = eu.Code\n",
    "\"\"\"\n",
    "\n",
    "result = dbCursor.execute(query).fetchall()\n",
    "print(result)\n",
    "print(type(result))"
   ]
  },
  {
   "cell_type": "code",
   "execution_count": null,
   "id": "bc044c71-ee05-45b2-b200-9a06a98ed6dd",
   "metadata": {},
   "outputs": [],
   "source": [
    "query = \"\"\"\n",
    "    SELECT Code\n",
    "    FROM countries\n",
    "\"\"\"\n",
    "\n",
    "result = dbCursor.execute(query).fetchall()\n",
    "print(result)\n",
    "print(type(result))"
   ]
  },
  {
   "cell_type": "markdown",
   "id": "2a6640a3-38f5-4561-a6f1-3a4b26e2f39c",
   "metadata": {},
   "source": [
    "<h3>Exercise 2</h3>\n",
    "<p>\n",
    "    Gebruik SQL queries voor het verkrijgen van\n",
    "<ol>\n",
    "    <li>het aantal landen dat onderdeel is van de Nordics</li>\n",
    "    <li>het aantal Europese landen dat lid is van de Europese Unie</li>\n",
    "    <li>het aantal EU-landen dat deel uitmaakt van de Norics</li>\n",
    "</ol>\n",
    "</p>"
   ]
  },
  {
   "cell_type": "code",
   "execution_count": null,
   "id": "f57f3aef-7b89-4d09-a064-c63c777bebcf",
   "metadata": {
    "tags": []
   },
   "outputs": [],
   "source": [
    "# Close connection to SQLite database\n",
    "dbConnection.close()"
   ]
  }
 ],
 "metadata": {
  "kernelspec": {
   "display_name": "Python 3 (ipykernel)",
   "language": "python",
   "name": "python3"
  },
  "language_info": {
   "codemirror_mode": {
    "name": "ipython",
    "version": 3
   },
   "file_extension": ".py",
   "mimetype": "text/x-python",
   "name": "python",
   "nbconvert_exporter": "python",
   "pygments_lexer": "ipython3",
   "version": "3.10.10"
  },
  "vscode": {
   "interpreter": {
    "hash": "9d3afc9f718536a562acca7e4195db7e432105a6a5bfa793add3486ed553a0c5"
   }
  }
 },
 "nbformat": 4,
 "nbformat_minor": 5
}
