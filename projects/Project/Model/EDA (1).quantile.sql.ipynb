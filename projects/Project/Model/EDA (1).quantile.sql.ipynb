{
 "cells": [
  {
   "cell_type": "code",
   "execution_count": 7,
   "metadata": {
    "id": "Bl3yLOUmbP5T",
    "tags": []
   },
   "outputs": [],
   "source": [
    "import pandas as pd\n",
    "import numpy as np\n",
    "import seaborn as sns\n",
    "import matplotlib.pyplot as plt\n",
    "%matplotlib inline     \n",
    "sns.set(color_codes=True)"
   ]
  },
  {
   "cell_type": "code",
   "execution_count": 8,
   "metadata": {
    "tags": []
   },
   "outputs": [
    {
     "data": {
      "text/html": [
       "<div>\n",
       "<style scoped>\n",
       "    .dataframe tbody tr th:only-of-type {\n",
       "        vertical-align: middle;\n",
       "    }\n",
       "\n",
       "    .dataframe tbody tr th {\n",
       "        vertical-align: top;\n",
       "    }\n",
       "\n",
       "    .dataframe thead th {\n",
       "        text-align: right;\n",
       "    }\n",
       "</style>\n",
       "<table border=\"1\" class=\"dataframe\">\n",
       "  <thead>\n",
       "    <tr style=\"text-align: right;\">\n",
       "      <th></th>\n",
       "      <th>id</th>\n",
       "      <th>genetic</th>\n",
       "      <th>length</th>\n",
       "      <th>mass</th>\n",
       "      <th>exercise</th>\n",
       "      <th>smoking</th>\n",
       "      <th>alcohol</th>\n",
       "      <th>lifespan</th>\n",
       "      <th>sugar</th>\n",
       "    </tr>\n",
       "  </thead>\n",
       "  <tbody>\n",
       "    <tr>\n",
       "      <th>0</th>\n",
       "      <td>1</td>\n",
       "      <td>73.9</td>\n",
       "      <td>185.0</td>\n",
       "      <td>99.7</td>\n",
       "      <td>0.9</td>\n",
       "      <td>0.0</td>\n",
       "      <td>2.4</td>\n",
       "      <td>73.1</td>\n",
       "      <td>6.9</td>\n",
       "    </tr>\n",
       "    <tr>\n",
       "      <th>1</th>\n",
       "      <td>2</td>\n",
       "      <td>86.0</td>\n",
       "      <td>172.0</td>\n",
       "      <td>105.4</td>\n",
       "      <td>1.8</td>\n",
       "      <td>8.1</td>\n",
       "      <td>0.4</td>\n",
       "      <td>85.0</td>\n",
       "      <td>4.2</td>\n",
       "    </tr>\n",
       "    <tr>\n",
       "      <th>2</th>\n",
       "      <td>3</td>\n",
       "      <td>83.3</td>\n",
       "      <td>176.0</td>\n",
       "      <td>111.4</td>\n",
       "      <td>1.1</td>\n",
       "      <td>0.8</td>\n",
       "      <td>4.6</td>\n",
       "      <td>81.6</td>\n",
       "      <td>7.5</td>\n",
       "    </tr>\n",
       "    <tr>\n",
       "      <th>3</th>\n",
       "      <td>4</td>\n",
       "      <td>82.8</td>\n",
       "      <td>164.0</td>\n",
       "      <td>111.4</td>\n",
       "      <td>4.7</td>\n",
       "      <td>11.8</td>\n",
       "      <td>1.0</td>\n",
       "      <td>81.0</td>\n",
       "      <td>2.9</td>\n",
       "    </tr>\n",
       "    <tr>\n",
       "      <th>4</th>\n",
       "      <td>5</td>\n",
       "      <td>78.7</td>\n",
       "      <td>178.0</td>\n",
       "      <td>71.6</td>\n",
       "      <td>1.5</td>\n",
       "      <td>8.3</td>\n",
       "      <td>4.9</td>\n",
       "      <td>75.0</td>\n",
       "      <td>5.5</td>\n",
       "    </tr>\n",
       "    <tr>\n",
       "      <th>...</th>\n",
       "      <td>...</td>\n",
       "      <td>...</td>\n",
       "      <td>...</td>\n",
       "      <td>...</td>\n",
       "      <td>...</td>\n",
       "      <td>...</td>\n",
       "      <td>...</td>\n",
       "      <td>...</td>\n",
       "      <td>...</td>\n",
       "    </tr>\n",
       "    <tr>\n",
       "      <th>4091</th>\n",
       "      <td>4092</td>\n",
       "      <td>80.3</td>\n",
       "      <td>176.0</td>\n",
       "      <td>115.9</td>\n",
       "      <td>3.7</td>\n",
       "      <td>0.1</td>\n",
       "      <td>5.6</td>\n",
       "      <td>80.7</td>\n",
       "      <td>5.8</td>\n",
       "    </tr>\n",
       "    <tr>\n",
       "      <th>4092</th>\n",
       "      <td>4093</td>\n",
       "      <td>75.3</td>\n",
       "      <td>162.0</td>\n",
       "      <td>129.6</td>\n",
       "      <td>3.6</td>\n",
       "      <td>6.2</td>\n",
       "      <td>5.6</td>\n",
       "      <td>71.1</td>\n",
       "      <td>7.6</td>\n",
       "    </tr>\n",
       "    <tr>\n",
       "      <th>4093</th>\n",
       "      <td>4094</td>\n",
       "      <td>93.1</td>\n",
       "      <td>189.0</td>\n",
       "      <td>115.3</td>\n",
       "      <td>2.7</td>\n",
       "      <td>9.4</td>\n",
       "      <td>4.9</td>\n",
       "      <td>90.0</td>\n",
       "      <td>6.6</td>\n",
       "    </tr>\n",
       "    <tr>\n",
       "      <th>4094</th>\n",
       "      <td>4095</td>\n",
       "      <td>77.9</td>\n",
       "      <td>170.0</td>\n",
       "      <td>90.8</td>\n",
       "      <td>2.3</td>\n",
       "      <td>13.2</td>\n",
       "      <td>0.8</td>\n",
       "      <td>75.9</td>\n",
       "      <td>6.2</td>\n",
       "    </tr>\n",
       "    <tr>\n",
       "      <th>4095</th>\n",
       "      <td>4096</td>\n",
       "      <td>101.3</td>\n",
       "      <td>188.0</td>\n",
       "      <td>129.2</td>\n",
       "      <td>1.2</td>\n",
       "      <td>8.2</td>\n",
       "      <td>6.0</td>\n",
       "      <td>96.9</td>\n",
       "      <td>6.2</td>\n",
       "    </tr>\n",
       "  </tbody>\n",
       "</table>\n",
       "<p>4096 rows × 9 columns</p>\n",
       "</div>"
      ],
      "text/plain": [
       "        id  genetic  length   mass  exercise  smoking  alcohol  lifespan  \\\n",
       "0        1     73.9   185.0   99.7       0.9      0.0      2.4      73.1   \n",
       "1        2     86.0   172.0  105.4       1.8      8.1      0.4      85.0   \n",
       "2        3     83.3   176.0  111.4       1.1      0.8      4.6      81.6   \n",
       "3        4     82.8   164.0  111.4       4.7     11.8      1.0      81.0   \n",
       "4        5     78.7   178.0   71.6       1.5      8.3      4.9      75.0   \n",
       "...    ...      ...     ...    ...       ...      ...      ...       ...   \n",
       "4091  4092     80.3   176.0  115.9       3.7      0.1      5.6      80.7   \n",
       "4092  4093     75.3   162.0  129.6       3.6      6.2      5.6      71.1   \n",
       "4093  4094     93.1   189.0  115.3       2.7      9.4      4.9      90.0   \n",
       "4094  4095     77.9   170.0   90.8       2.3     13.2      0.8      75.9   \n",
       "4095  4096    101.3   188.0  129.2       1.2      8.2      6.0      96.9   \n",
       "\n",
       "      sugar  \n",
       "0       6.9  \n",
       "1       4.2  \n",
       "2       7.5  \n",
       "3       2.9  \n",
       "4       5.5  \n",
       "...     ...  \n",
       "4091    5.8  \n",
       "4092    7.6  \n",
       "4093    6.6  \n",
       "4094    6.2  \n",
       "4095    6.2  \n",
       "\n",
       "[4096 rows x 9 columns]"
      ]
     },
     "metadata": {},
     "output_type": "display_data"
    }
   ],
   "source": [
    "import logging\n",
    "import sqlite3\n",
    "\n",
    "#Global variables\n",
    "dbPath = \"Data\"\n",
    "\n",
    "# Collecting the data\n",
    "# Specify the con\n",
    "con = sqlite3.connect(f'{dbPath}/db.sqlite3')\n",
    "# Convert to DataFrame\n",
    "df = pd.read_sql('SELECT * FROM rest_api_netlify', con=con)\n",
    "display(df)\n",
    "con.close()\n",
    "\n",
    "\n",
    "\n",
    "\n",
    "\n",
    "\n",
    "\n",
    "\n",
    "\n"
   ]
  },
  {
   "cell_type": "code",
   "execution_count": null,
   "metadata": {},
   "outputs": [],
   "source": []
  },
  {
   "cell_type": "code",
   "execution_count": 3,
   "metadata": {
    "id": "X-Fbe3oLdxx8",
    "tags": []
   },
   "outputs": [],
   "source": [
    "# Import data\n",
    "#df = pd.read_csv(\"Data/data.csv\", na_values=['?', \"undefined\"])\n",
    "#display(df)\n"
   ]
  },
  {
   "cell_type": "code",
   "execution_count": 4,
   "metadata": {
    "id": "IMqPADPrcARh",
    "tags": []
   },
   "outputs": [
    {
     "data": {
      "text/html": [
       "<div>\n",
       "<style scoped>\n",
       "    .dataframe tbody tr th:only-of-type {\n",
       "        vertical-align: middle;\n",
       "    }\n",
       "\n",
       "    .dataframe tbody tr th {\n",
       "        vertical-align: top;\n",
       "    }\n",
       "\n",
       "    .dataframe thead th {\n",
       "        text-align: right;\n",
       "    }\n",
       "</style>\n",
       "<table border=\"1\" class=\"dataframe\">\n",
       "  <thead>\n",
       "    <tr style=\"text-align: right;\">\n",
       "      <th></th>\n",
       "      <th>id</th>\n",
       "      <th>genetic</th>\n",
       "      <th>length</th>\n",
       "      <th>mass</th>\n",
       "      <th>exercise</th>\n",
       "      <th>smoking</th>\n",
       "      <th>alcohol</th>\n",
       "      <th>lifespan</th>\n",
       "      <th>sugar</th>\n",
       "    </tr>\n",
       "  </thead>\n",
       "  <tbody>\n",
       "    <tr>\n",
       "      <th>0</th>\n",
       "      <td>1</td>\n",
       "      <td>73.9</td>\n",
       "      <td>185.0</td>\n",
       "      <td>99.7</td>\n",
       "      <td>0.9</td>\n",
       "      <td>0.0</td>\n",
       "      <td>2.4</td>\n",
       "      <td>73.1</td>\n",
       "      <td>6.9</td>\n",
       "    </tr>\n",
       "    <tr>\n",
       "      <th>1</th>\n",
       "      <td>2</td>\n",
       "      <td>86.0</td>\n",
       "      <td>172.0</td>\n",
       "      <td>105.4</td>\n",
       "      <td>1.8</td>\n",
       "      <td>8.1</td>\n",
       "      <td>0.4</td>\n",
       "      <td>85.0</td>\n",
       "      <td>4.2</td>\n",
       "    </tr>\n",
       "    <tr>\n",
       "      <th>2</th>\n",
       "      <td>3</td>\n",
       "      <td>83.3</td>\n",
       "      <td>176.0</td>\n",
       "      <td>111.4</td>\n",
       "      <td>1.1</td>\n",
       "      <td>0.8</td>\n",
       "      <td>4.6</td>\n",
       "      <td>81.6</td>\n",
       "      <td>7.5</td>\n",
       "    </tr>\n",
       "    <tr>\n",
       "      <th>3</th>\n",
       "      <td>4</td>\n",
       "      <td>82.8</td>\n",
       "      <td>164.0</td>\n",
       "      <td>111.4</td>\n",
       "      <td>4.7</td>\n",
       "      <td>11.8</td>\n",
       "      <td>1.0</td>\n",
       "      <td>81.0</td>\n",
       "      <td>2.9</td>\n",
       "    </tr>\n",
       "    <tr>\n",
       "      <th>4</th>\n",
       "      <td>5</td>\n",
       "      <td>78.7</td>\n",
       "      <td>178.0</td>\n",
       "      <td>71.6</td>\n",
       "      <td>1.5</td>\n",
       "      <td>8.3</td>\n",
       "      <td>4.9</td>\n",
       "      <td>75.0</td>\n",
       "      <td>5.5</td>\n",
       "    </tr>\n",
       "  </tbody>\n",
       "</table>\n",
       "</div>"
      ],
      "text/plain": [
       "   id  genetic  length   mass  exercise  smoking  alcohol  lifespan  sugar\n",
       "0   1     73.9   185.0   99.7       0.9      0.0      2.4      73.1    6.9\n",
       "1   2     86.0   172.0  105.4       1.8      8.1      0.4      85.0    4.2\n",
       "2   3     83.3   176.0  111.4       1.1      0.8      4.6      81.6    7.5\n",
       "3   4     82.8   164.0  111.4       4.7     11.8      1.0      81.0    2.9\n",
       "4   5     78.7   178.0   71.6       1.5      8.3      4.9      75.0    5.5"
      ]
     },
     "execution_count": 4,
     "metadata": {},
     "output_type": "execute_result"
    }
   ],
   "source": [
    "# To display the top 5 rows\n",
    "df.head()"
   ]
  },
  {
   "cell_type": "code",
   "execution_count": 5,
   "metadata": {
    "id": "30cV_0spdgYQ",
    "tags": []
   },
   "outputs": [],
   "source": [
    "# To display last 5 rows\n",
    "#df.tail()"
   ]
  },
  {
   "cell_type": "code",
   "execution_count": 6,
   "metadata": {
    "id": "yjc7anKOdqoV",
    "tags": []
   },
   "outputs": [
    {
     "name": "stdout",
     "output_type": "stream",
     "text": [
      "<class 'pandas.core.frame.DataFrame'>\n",
      "RangeIndex: 4096 entries, 0 to 4095\n",
      "Data columns (total 9 columns):\n",
      " #   Column    Non-Null Count  Dtype  \n",
      "---  ------    --------------  -----  \n",
      " 0   id        4096 non-null   int64  \n",
      " 1   genetic   4095 non-null   float64\n",
      " 2   length    4093 non-null   float64\n",
      " 3   mass      4094 non-null   float64\n",
      " 4   exercise  4095 non-null   float64\n",
      " 5   smoking   4096 non-null   float64\n",
      " 6   alcohol   4094 non-null   float64\n",
      " 7   lifespan  4094 non-null   float64\n",
      " 8   sugar     4095 non-null   float64\n",
      "dtypes: float64(8), int64(1)\n",
      "memory usage: 288.1 KB\n"
     ]
    }
   ],
   "source": [
    "# Check data\n",
    "#df.info()"
   ]
  },
  {
   "cell_type": "code",
   "execution_count": 7,
   "metadata": {
    "colab": {
     "base_uri": "https://localhost:8080/",
     "height": 297
    },
    "id": "CLibRdEwd8-L",
    "outputId": "d4bdb8c9-fb59-4670-a4ee-fffcf6861ac2",
    "tags": []
   },
   "outputs": [
    {
     "data": {
      "text/html": [
       "<div>\n",
       "<style scoped>\n",
       "    .dataframe tbody tr th:only-of-type {\n",
       "        vertical-align: middle;\n",
       "    }\n",
       "\n",
       "    .dataframe tbody tr th {\n",
       "        vertical-align: top;\n",
       "    }\n",
       "\n",
       "    .dataframe thead th {\n",
       "        text-align: right;\n",
       "    }\n",
       "</style>\n",
       "<table border=\"1\" class=\"dataframe\">\n",
       "  <thead>\n",
       "    <tr style=\"text-align: right;\">\n",
       "      <th></th>\n",
       "      <th>id</th>\n",
       "      <th>genetic</th>\n",
       "      <th>length</th>\n",
       "      <th>mass</th>\n",
       "      <th>exercise</th>\n",
       "      <th>smoking</th>\n",
       "      <th>alcohol</th>\n",
       "      <th>lifespan</th>\n",
       "      <th>sugar</th>\n",
       "    </tr>\n",
       "  </thead>\n",
       "  <tbody>\n",
       "    <tr>\n",
       "      <th>count</th>\n",
       "      <td>4096.00000</td>\n",
       "      <td>4095.000000</td>\n",
       "      <td>4093.000000</td>\n",
       "      <td>4094.000000</td>\n",
       "      <td>4095.000000</td>\n",
       "      <td>4096.000000</td>\n",
       "      <td>4094.000000</td>\n",
       "      <td>4094.000000</td>\n",
       "      <td>4095.000000</td>\n",
       "    </tr>\n",
       "    <tr>\n",
       "      <th>mean</th>\n",
       "      <td>2048.50000</td>\n",
       "      <td>82.268352</td>\n",
       "      <td>183.880283</td>\n",
       "      <td>92.268442</td>\n",
       "      <td>2.402125</td>\n",
       "      <td>9.807446</td>\n",
       "      <td>2.264558</td>\n",
       "      <td>80.167416</td>\n",
       "      <td>6.482955</td>\n",
       "    </tr>\n",
       "    <tr>\n",
       "      <th>std</th>\n",
       "      <td>1182.55768</td>\n",
       "      <td>7.442579</td>\n",
       "      <td>12.623054</td>\n",
       "      <td>25.791314</td>\n",
       "      <td>1.170062</td>\n",
       "      <td>6.921461</td>\n",
       "      <td>1.800523</td>\n",
       "      <td>7.841687</td>\n",
       "      <td>2.710213</td>\n",
       "    </tr>\n",
       "    <tr>\n",
       "      <th>min</th>\n",
       "      <td>1.00000</td>\n",
       "      <td>63.900000</td>\n",
       "      <td>154.000000</td>\n",
       "      <td>50.000000</td>\n",
       "      <td>0.100000</td>\n",
       "      <td>0.000000</td>\n",
       "      <td>0.000000</td>\n",
       "      <td>57.000000</td>\n",
       "      <td>0.700000</td>\n",
       "    </tr>\n",
       "    <tr>\n",
       "      <th>25%</th>\n",
       "      <td>1024.75000</td>\n",
       "      <td>77.600000</td>\n",
       "      <td>175.000000</td>\n",
       "      <td>71.500000</td>\n",
       "      <td>1.500000</td>\n",
       "      <td>3.300000</td>\n",
       "      <td>0.600000</td>\n",
       "      <td>75.000000</td>\n",
       "      <td>4.400000</td>\n",
       "    </tr>\n",
       "    <tr>\n",
       "      <th>50%</th>\n",
       "      <td>2048.50000</td>\n",
       "      <td>81.800000</td>\n",
       "      <td>184.000000</td>\n",
       "      <td>89.500000</td>\n",
       "      <td>2.200000</td>\n",
       "      <td>9.500000</td>\n",
       "      <td>1.700000</td>\n",
       "      <td>79.700000</td>\n",
       "      <td>6.300000</td>\n",
       "    </tr>\n",
       "    <tr>\n",
       "      <th>75%</th>\n",
       "      <td>3072.25000</td>\n",
       "      <td>86.700000</td>\n",
       "      <td>193.000000</td>\n",
       "      <td>110.875000</td>\n",
       "      <td>3.200000</td>\n",
       "      <td>15.900000</td>\n",
       "      <td>4.000000</td>\n",
       "      <td>85.200000</td>\n",
       "      <td>8.400000</td>\n",
       "    </tr>\n",
       "    <tr>\n",
       "      <th>max</th>\n",
       "      <td>4096.00000</td>\n",
       "      <td>102.200000</td>\n",
       "      <td>214.000000</td>\n",
       "      <td>163.600000</td>\n",
       "      <td>5.500000</td>\n",
       "      <td>22.200000</td>\n",
       "      <td>6.000000</td>\n",
       "      <td>105.100000</td>\n",
       "      <td>13.800000</td>\n",
       "    </tr>\n",
       "  </tbody>\n",
       "</table>\n",
       "</div>"
      ],
      "text/plain": [
       "               id      genetic       length         mass     exercise  \\\n",
       "count  4096.00000  4095.000000  4093.000000  4094.000000  4095.000000   \n",
       "mean   2048.50000    82.268352   183.880283    92.268442     2.402125   \n",
       "std    1182.55768     7.442579    12.623054    25.791314     1.170062   \n",
       "min       1.00000    63.900000   154.000000    50.000000     0.100000   \n",
       "25%    1024.75000    77.600000   175.000000    71.500000     1.500000   \n",
       "50%    2048.50000    81.800000   184.000000    89.500000     2.200000   \n",
       "75%    3072.25000    86.700000   193.000000   110.875000     3.200000   \n",
       "max    4096.00000   102.200000   214.000000   163.600000     5.500000   \n",
       "\n",
       "           smoking      alcohol     lifespan        sugar  \n",
       "count  4096.000000  4094.000000  4094.000000  4095.000000  \n",
       "mean      9.807446     2.264558    80.167416     6.482955  \n",
       "std       6.921461     1.800523     7.841687     2.710213  \n",
       "min       0.000000     0.000000    57.000000     0.700000  \n",
       "25%       3.300000     0.600000    75.000000     4.400000  \n",
       "50%       9.500000     1.700000    79.700000     6.300000  \n",
       "75%      15.900000     4.000000    85.200000     8.400000  \n",
       "max      22.200000     6.000000   105.100000    13.800000  "
      ]
     },
     "execution_count": 7,
     "metadata": {},
     "output_type": "execute_result"
    }
   ],
   "source": [
    "# Check data some more\n",
    "df.describe()"
   ]
  },
  {
   "cell_type": "code",
   "execution_count": 13,
   "metadata": {
    "tags": []
   },
   "outputs": [
    {
     "name": "stdout",
     "output_type": "stream",
     "text": [
      "<class 'pandas.core.frame.DataFrame'>\n",
      "RangeIndex: 4096 entries, 0 to 4095\n",
      "Data columns (total 9 columns):\n",
      " #   Column    Non-Null Count  Dtype  \n",
      "---  ------    --------------  -----  \n",
      " 0   id        4096 non-null   int64  \n",
      " 1   genetic   4095 non-null   float64\n",
      " 2   length    4093 non-null   float64\n",
      " 3   mass      4094 non-null   float64\n",
      " 4   exercise  4095 non-null   float64\n",
      " 5   smoking   4096 non-null   float64\n",
      " 6   alcohol   4094 non-null   float64\n",
      " 7   lifespan  4094 non-null   float64\n",
      " 8   sugar     4095 non-null   float64\n",
      "dtypes: float64(8), int64(1)\n",
      "memory usage: 288.1 KB\n"
     ]
    },
    {
     "ename": "NameError",
     "evalue": "name 'x' is not defined",
     "output_type": "error",
     "traceback": [
      "\u001b[1;31m---------------------------------------------------------------------------\u001b[0m",
      "\u001b[1;31mNameError\u001b[0m                                 Traceback (most recent call last)",
      "Cell \u001b[1;32mIn[13], line 13\u001b[0m\n\u001b[0;32m      4\u001b[0m df\u001b[38;5;241m.\u001b[39mdescribe()\n\u001b[0;32m      6\u001b[0m \u001b[38;5;66;03m#for x in df.index:\u001b[39;00m\n\u001b[0;32m      7\u001b[0m   \u001b[38;5;66;03m#if df.loc[x, \"genetic\"] < 18: #> 120\u001b[39;00m\n\u001b[0;32m      8\u001b[0m \u001b[38;5;66;03m# \"length\",\"mass\"] < 150, 40 or > 220, 164\u001b[39;00m\n\u001b[0;32m      9\u001b[0m     \u001b[38;5;66;03m#df.drop(x, inplace = True)\u001b[39;00m\n\u001b[0;32m     10\u001b[0m \n\u001b[0;32m     11\u001b[0m \u001b[38;5;66;03m#df[\"genetic\"]>0\u001b[39;00m\n\u001b[1;32m---> 13\u001b[0m \u001b[38;5;28;01mif\u001b[39;00m df\u001b[38;5;241m.\u001b[39mloc[\u001b[43mx\u001b[49m, \u001b[38;5;124m\"\u001b[39m\u001b[38;5;124mlifespan\u001b[39m\u001b[38;5;124m\"\u001b[39m] \u001b[38;5;241m<\u001b[39m\u001b[38;5;241m0\u001b[39m \u001b[38;5;129;01mand\u001b[39;00m df\u001b[38;5;241m.\u001b[39mloc[x, \u001b[38;5;124m\"\u001b[39m\u001b[38;5;124mlifespan\u001b[39m\u001b[38;5;124m\"\u001b[39m] \u001b[38;5;241m>\u001b[39m\u001b[38;5;241m230\u001b[39m:\n\u001b[0;32m     14\u001b[0m     df\u001b[38;5;241m.\u001b[39mdrop(x, inplace \u001b[38;5;241m=\u001b[39m \u001b[38;5;28;01mTrue\u001b[39;00m)\n\u001b[0;32m     15\u001b[0m \u001b[38;5;28;01mif\u001b[39;00m df\u001b[38;5;241m.\u001b[39mloc[x, \u001b[38;5;124m\"\u001b[39m\u001b[38;5;124mlifespan\u001b[39m\u001b[38;5;124m\"\u001b[39m] \u001b[38;5;241m>\u001b[39m\u001b[38;5;241m230\u001b[39m:\n\u001b[0;32m     16\u001b[0m     \n\u001b[0;32m     17\u001b[0m \u001b[38;5;66;03m#\"exercise\", \"smoking\",\"alcohol\", \"sugar\"] < 0: > 6, 30, 30, 20\u001b[39;00m\n",
      "\u001b[1;31mNameError\u001b[0m: name 'x' is not defined"
     ]
    }
   ],
   "source": [
    "#df = pd.read_csv(\"Data/data.csv\", na_values=['?', \"undefined\"])\n",
    "\n",
    "df.info()\n",
    "df.describe()\n",
    "\n",
    "#for x in df.index:\n",
    "  #if df.loc[x, \"genetic\"] < 18: #> 120\n",
    "# \"length\",\"mass\"] < 150, 40 or > 220, 164\n",
    "    #df.drop(x, inplace = True)\n",
    "\n",
    "#df[\"genetic\"]>0\n",
    "\n",
    "if df.loc[x, \"lifespan\"] <0 and df.loc[x, \"lifespan\"] >230:\n",
    "    df.drop(x, inplace = True)\n",
    "if df.loc[x, \"lifespan\"] >230:\n",
    "    \n",
    "#\"exercise\", \"smoking\",\"alcohol\", \"sugar\"] < 0: > 6, 30, 30, 20\n",
    "    df.drop(x, inplace = True)\n",
    "\n",
    "df[\"lifespan\"]>0\n",
    "\n",
    "df[\"bmi\"] = round(df[\"mass\"]/(df[\"length\"]/100)**2, 2)\n",
    "df.describe()\n",
    "\n",
    "duplicate_rows_df = df[df.duplicated()]\n",
    "print(\"number of duplicate rows: \", duplicate_rows_df.shape)\n",
    "#df = df.drop_duplicates()\n",
    "#df.head()\n",
    "\n",
    "print(df.isnull().sum())\n",
    "#df = df.dropna()\n",
    "#df.head()\n",
    "\n"
   ]
  },
  {
   "cell_type": "code",
   "execution_count": 9,
   "metadata": {
    "tags": []
   },
   "outputs": [
    {
     "data": {
      "text/html": [
       "<div>\n",
       "<style scoped>\n",
       "    .dataframe tbody tr th:only-of-type {\n",
       "        vertical-align: middle;\n",
       "    }\n",
       "\n",
       "    .dataframe tbody tr th {\n",
       "        vertical-align: top;\n",
       "    }\n",
       "\n",
       "    .dataframe thead th {\n",
       "        text-align: right;\n",
       "    }\n",
       "</style>\n",
       "<table border=\"1\" class=\"dataframe\">\n",
       "  <thead>\n",
       "    <tr style=\"text-align: right;\">\n",
       "      <th></th>\n",
       "      <th>id</th>\n",
       "      <th>genetic</th>\n",
       "      <th>length</th>\n",
       "      <th>mass</th>\n",
       "      <th>exercise</th>\n",
       "      <th>smoking</th>\n",
       "      <th>alcohol</th>\n",
       "      <th>lifespan</th>\n",
       "      <th>sugar</th>\n",
       "      <th>bmi</th>\n",
       "    </tr>\n",
       "  </thead>\n",
       "  <tbody>\n",
       "    <tr>\n",
       "      <th>count</th>\n",
       "      <td>4096.00000</td>\n",
       "      <td>4095.000000</td>\n",
       "      <td>4093.000000</td>\n",
       "      <td>4094.000000</td>\n",
       "      <td>4095.000000</td>\n",
       "      <td>4096.000000</td>\n",
       "      <td>4094.000000</td>\n",
       "      <td>4094.000000</td>\n",
       "      <td>4095.000000</td>\n",
       "      <td>4091.000000</td>\n",
       "    </tr>\n",
       "    <tr>\n",
       "      <th>mean</th>\n",
       "      <td>2048.50000</td>\n",
       "      <td>82.268352</td>\n",
       "      <td>183.880283</td>\n",
       "      <td>92.268442</td>\n",
       "      <td>2.402125</td>\n",
       "      <td>9.807446</td>\n",
       "      <td>2.264558</td>\n",
       "      <td>80.167416</td>\n",
       "      <td>6.482955</td>\n",
       "      <td>27.680929</td>\n",
       "    </tr>\n",
       "    <tr>\n",
       "      <th>std</th>\n",
       "      <td>1182.55768</td>\n",
       "      <td>7.442579</td>\n",
       "      <td>12.623054</td>\n",
       "      <td>25.791314</td>\n",
       "      <td>1.170062</td>\n",
       "      <td>6.921461</td>\n",
       "      <td>1.800523</td>\n",
       "      <td>7.841687</td>\n",
       "      <td>2.710213</td>\n",
       "      <td>8.714897</td>\n",
       "    </tr>\n",
       "    <tr>\n",
       "      <th>min</th>\n",
       "      <td>1.00000</td>\n",
       "      <td>63.900000</td>\n",
       "      <td>154.000000</td>\n",
       "      <td>50.000000</td>\n",
       "      <td>0.100000</td>\n",
       "      <td>0.000000</td>\n",
       "      <td>0.000000</td>\n",
       "      <td>57.000000</td>\n",
       "      <td>0.700000</td>\n",
       "      <td>11.320000</td>\n",
       "    </tr>\n",
       "    <tr>\n",
       "      <th>25%</th>\n",
       "      <td>1024.75000</td>\n",
       "      <td>77.600000</td>\n",
       "      <td>175.000000</td>\n",
       "      <td>71.500000</td>\n",
       "      <td>1.500000</td>\n",
       "      <td>3.300000</td>\n",
       "      <td>0.600000</td>\n",
       "      <td>75.000000</td>\n",
       "      <td>4.400000</td>\n",
       "      <td>20.930000</td>\n",
       "    </tr>\n",
       "    <tr>\n",
       "      <th>50%</th>\n",
       "      <td>2048.50000</td>\n",
       "      <td>81.800000</td>\n",
       "      <td>184.000000</td>\n",
       "      <td>89.500000</td>\n",
       "      <td>2.200000</td>\n",
       "      <td>9.500000</td>\n",
       "      <td>1.700000</td>\n",
       "      <td>79.700000</td>\n",
       "      <td>6.300000</td>\n",
       "      <td>26.470000</td>\n",
       "    </tr>\n",
       "    <tr>\n",
       "      <th>75%</th>\n",
       "      <td>3072.25000</td>\n",
       "      <td>86.700000</td>\n",
       "      <td>193.000000</td>\n",
       "      <td>110.875000</td>\n",
       "      <td>3.200000</td>\n",
       "      <td>15.900000</td>\n",
       "      <td>4.000000</td>\n",
       "      <td>85.200000</td>\n",
       "      <td>8.400000</td>\n",
       "      <td>33.215000</td>\n",
       "    </tr>\n",
       "    <tr>\n",
       "      <th>max</th>\n",
       "      <td>4096.00000</td>\n",
       "      <td>102.200000</td>\n",
       "      <td>214.000000</td>\n",
       "      <td>163.600000</td>\n",
       "      <td>5.500000</td>\n",
       "      <td>22.200000</td>\n",
       "      <td>6.000000</td>\n",
       "      <td>105.100000</td>\n",
       "      <td>13.800000</td>\n",
       "      <td>65.870000</td>\n",
       "    </tr>\n",
       "  </tbody>\n",
       "</table>\n",
       "</div>"
      ],
      "text/plain": [
       "               id      genetic       length         mass     exercise  \\\n",
       "count  4096.00000  4095.000000  4093.000000  4094.000000  4095.000000   \n",
       "mean   2048.50000    82.268352   183.880283    92.268442     2.402125   \n",
       "std    1182.55768     7.442579    12.623054    25.791314     1.170062   \n",
       "min       1.00000    63.900000   154.000000    50.000000     0.100000   \n",
       "25%    1024.75000    77.600000   175.000000    71.500000     1.500000   \n",
       "50%    2048.50000    81.800000   184.000000    89.500000     2.200000   \n",
       "75%    3072.25000    86.700000   193.000000   110.875000     3.200000   \n",
       "max    4096.00000   102.200000   214.000000   163.600000     5.500000   \n",
       "\n",
       "           smoking      alcohol     lifespan        sugar          bmi  \n",
       "count  4096.000000  4094.000000  4094.000000  4095.000000  4091.000000  \n",
       "mean      9.807446     2.264558    80.167416     6.482955    27.680929  \n",
       "std       6.921461     1.800523     7.841687     2.710213     8.714897  \n",
       "min       0.000000     0.000000    57.000000     0.700000    11.320000  \n",
       "25%       3.300000     0.600000    75.000000     4.400000    20.930000  \n",
       "50%       9.500000     1.700000    79.700000     6.300000    26.470000  \n",
       "75%      15.900000     4.000000    85.200000     8.400000    33.215000  \n",
       "max      22.200000     6.000000   105.100000    13.800000    65.870000  "
      ]
     },
     "execution_count": 9,
     "metadata": {},
     "output_type": "execute_result"
    }
   ],
   "source": [
    "df[\"bmi\"] = round(df[\"mass\"]/(df[\"length\"]/100)**2, 2)\n",
    "df.describe()"
   ]
  },
  {
   "cell_type": "code",
   "execution_count": 10,
   "metadata": {
    "colab": {
     "base_uri": "https://localhost:8080/",
     "height": 204
    },
    "id": "nzLW79xQjCeu",
    "outputId": "e86f7b7a-d6a9-44c2-af1b-ca0d2633c400",
    "tags": []
   },
   "outputs": [],
   "source": [
    "# Drop some columns\n",
    "#df.drop(['length', 'mass'], axis=1, inplace=True)\n",
    "#df.head()"
   ]
  },
  {
   "cell_type": "code",
   "execution_count": 11,
   "metadata": {
    "colab": {
     "base_uri": "https://localhost:8080/",
     "height": 204
    },
    "id": "bme2D7mj2p4N",
    "outputId": "b144b362-be1d-413a-99d0-932a4b52f82d",
    "tags": []
   },
   "outputs": [],
   "source": [
    "# Rename some columns\n",
    "#df = df.rename(columns={\"Engine HP\": \"HP\", \"Engine Cylinders\": \"Cylinders\", \"Transmission Type\": \"Transmission\", \"Driven_Wheels\": \"Drive Mode\",\"highway MPG\": \"MPG-H\", \"city mpg\": \"MPG-C\", \"MSRP\": \"Price\" })\n",
    "#df.head()"
   ]
  },
  {
   "cell_type": "code",
   "execution_count": 6,
   "metadata": {
    "colab": {
     "base_uri": "https://localhost:8080/"
    },
    "id": "Sc_iblz92zQC",
    "outputId": "30043a55-374f-471b-a990-0bc73942d71d",
    "tags": []
   },
   "outputs": [
    {
     "name": "stdout",
     "output_type": "stream",
     "text": [
      "number of duplicate rows:  (0, 10)\n"
     ]
    },
    {
     "data": {
      "text/html": [
       "<div>\n",
       "<style scoped>\n",
       "    .dataframe tbody tr th:only-of-type {\n",
       "        vertical-align: middle;\n",
       "    }\n",
       "\n",
       "    .dataframe tbody tr th {\n",
       "        vertical-align: top;\n",
       "    }\n",
       "\n",
       "    .dataframe thead th {\n",
       "        text-align: right;\n",
       "    }\n",
       "</style>\n",
       "<table border=\"1\" class=\"dataframe\">\n",
       "  <thead>\n",
       "    <tr style=\"text-align: right;\">\n",
       "      <th></th>\n",
       "      <th>id</th>\n",
       "      <th>genetic</th>\n",
       "      <th>length</th>\n",
       "      <th>mass</th>\n",
       "      <th>exercise</th>\n",
       "      <th>smoking</th>\n",
       "      <th>alcohol</th>\n",
       "      <th>lifespan</th>\n",
       "      <th>sugar</th>\n",
       "      <th>bmi</th>\n",
       "    </tr>\n",
       "  </thead>\n",
       "  <tbody>\n",
       "    <tr>\n",
       "      <th>0</th>\n",
       "      <td>1</td>\n",
       "      <td>73.9</td>\n",
       "      <td>185.0</td>\n",
       "      <td>99.7</td>\n",
       "      <td>0.9</td>\n",
       "      <td>0.0</td>\n",
       "      <td>2.4</td>\n",
       "      <td>73.1</td>\n",
       "      <td>6.9</td>\n",
       "      <td>29.13</td>\n",
       "    </tr>\n",
       "    <tr>\n",
       "      <th>1</th>\n",
       "      <td>2</td>\n",
       "      <td>86.0</td>\n",
       "      <td>172.0</td>\n",
       "      <td>105.4</td>\n",
       "      <td>1.8</td>\n",
       "      <td>8.1</td>\n",
       "      <td>0.4</td>\n",
       "      <td>85.0</td>\n",
       "      <td>4.2</td>\n",
       "      <td>35.63</td>\n",
       "    </tr>\n",
       "    <tr>\n",
       "      <th>2</th>\n",
       "      <td>3</td>\n",
       "      <td>83.3</td>\n",
       "      <td>176.0</td>\n",
       "      <td>111.4</td>\n",
       "      <td>1.1</td>\n",
       "      <td>0.8</td>\n",
       "      <td>4.6</td>\n",
       "      <td>81.6</td>\n",
       "      <td>7.5</td>\n",
       "      <td>35.96</td>\n",
       "    </tr>\n",
       "    <tr>\n",
       "      <th>3</th>\n",
       "      <td>4</td>\n",
       "      <td>82.8</td>\n",
       "      <td>164.0</td>\n",
       "      <td>111.4</td>\n",
       "      <td>4.7</td>\n",
       "      <td>11.8</td>\n",
       "      <td>1.0</td>\n",
       "      <td>81.0</td>\n",
       "      <td>2.9</td>\n",
       "      <td>41.42</td>\n",
       "    </tr>\n",
       "    <tr>\n",
       "      <th>4</th>\n",
       "      <td>5</td>\n",
       "      <td>78.7</td>\n",
       "      <td>178.0</td>\n",
       "      <td>71.6</td>\n",
       "      <td>1.5</td>\n",
       "      <td>8.3</td>\n",
       "      <td>4.9</td>\n",
       "      <td>75.0</td>\n",
       "      <td>5.5</td>\n",
       "      <td>22.60</td>\n",
       "    </tr>\n",
       "  </tbody>\n",
       "</table>\n",
       "</div>"
      ],
      "text/plain": [
       "   id  genetic  length   mass  exercise  smoking  alcohol  lifespan  sugar  \\\n",
       "0   1     73.9   185.0   99.7       0.9      0.0      2.4      73.1    6.9   \n",
       "1   2     86.0   172.0  105.4       1.8      8.1      0.4      85.0    4.2   \n",
       "2   3     83.3   176.0  111.4       1.1      0.8      4.6      81.6    7.5   \n",
       "3   4     82.8   164.0  111.4       4.7     11.8      1.0      81.0    2.9   \n",
       "4   5     78.7   178.0   71.6       1.5      8.3      4.9      75.0    5.5   \n",
       "\n",
       "     bmi  \n",
       "0  29.13  \n",
       "1  35.63  \n",
       "2  35.96  \n",
       "3  41.42  \n",
       "4  22.60  "
      ]
     },
     "execution_count": 6,
     "metadata": {},
     "output_type": "execute_result"
    }
   ],
   "source": [
    "# Any duplicates\n",
    "duplicate_rows_df = df[df.duplicated()]\n",
    "print(\"number of duplicate rows: \", duplicate_rows_df.shape)\n",
    "#df = df.drop_duplicates()\n",
    "#df.head()\n",
    "\n",
    "print(df.isnull().sum())\n",
    "#df = df.dropna()\n",
    "#df.head()\n",
    "\n",
    "#con = sqlite3.connect(f'{dbPath}/db.sqlite3')\n",
    "#df.to_sql('new_table', con=con, index=False, if_exists='replace')\n",
    "\n",
    "\n",
    "\n",
    "# df= pd.read_sql(\"SELECT * FROM new_table\")"
   ]
  },
  {
   "cell_type": "code",
   "execution_count": 13,
   "metadata": {
    "id": "XcihVwyQ3qrV"
   },
   "outputs": [],
   "source": [
    "# Now what do we do with those?"
   ]
  },
  {
   "cell_type": "code",
   "execution_count": 14,
   "metadata": {
    "colab": {
     "base_uri": "https://localhost:8080/",
     "height": 204
    },
    "id": "bQv2_1E534qY",
    "outputId": "897be950-d052-4d5e-8922-d80604111234",
    "tags": []
   },
   "outputs": [
    {
     "data": {
      "text/html": [
       "<div>\n",
       "<style scoped>\n",
       "    .dataframe tbody tr th:only-of-type {\n",
       "        vertical-align: middle;\n",
       "    }\n",
       "\n",
       "    .dataframe tbody tr th {\n",
       "        vertical-align: top;\n",
       "    }\n",
       "\n",
       "    .dataframe thead th {\n",
       "        text-align: right;\n",
       "    }\n",
       "</style>\n",
       "<table border=\"1\" class=\"dataframe\">\n",
       "  <thead>\n",
       "    <tr style=\"text-align: right;\">\n",
       "      <th></th>\n",
       "      <th>id</th>\n",
       "      <th>genetic</th>\n",
       "      <th>length</th>\n",
       "      <th>mass</th>\n",
       "      <th>exercise</th>\n",
       "      <th>smoking</th>\n",
       "      <th>alcohol</th>\n",
       "      <th>lifespan</th>\n",
       "      <th>sugar</th>\n",
       "      <th>bmi</th>\n",
       "    </tr>\n",
       "  </thead>\n",
       "  <tbody>\n",
       "    <tr>\n",
       "      <th>0</th>\n",
       "      <td>1</td>\n",
       "      <td>73.9</td>\n",
       "      <td>185.0</td>\n",
       "      <td>99.7</td>\n",
       "      <td>0.9</td>\n",
       "      <td>0.0</td>\n",
       "      <td>2.4</td>\n",
       "      <td>73.1</td>\n",
       "      <td>6.9</td>\n",
       "      <td>29.13</td>\n",
       "    </tr>\n",
       "    <tr>\n",
       "      <th>1</th>\n",
       "      <td>2</td>\n",
       "      <td>86.0</td>\n",
       "      <td>172.0</td>\n",
       "      <td>105.4</td>\n",
       "      <td>1.8</td>\n",
       "      <td>8.1</td>\n",
       "      <td>0.4</td>\n",
       "      <td>85.0</td>\n",
       "      <td>4.2</td>\n",
       "      <td>35.63</td>\n",
       "    </tr>\n",
       "    <tr>\n",
       "      <th>2</th>\n",
       "      <td>3</td>\n",
       "      <td>83.3</td>\n",
       "      <td>176.0</td>\n",
       "      <td>111.4</td>\n",
       "      <td>1.1</td>\n",
       "      <td>0.8</td>\n",
       "      <td>4.6</td>\n",
       "      <td>81.6</td>\n",
       "      <td>7.5</td>\n",
       "      <td>35.96</td>\n",
       "    </tr>\n",
       "    <tr>\n",
       "      <th>3</th>\n",
       "      <td>4</td>\n",
       "      <td>82.8</td>\n",
       "      <td>164.0</td>\n",
       "      <td>111.4</td>\n",
       "      <td>4.7</td>\n",
       "      <td>11.8</td>\n",
       "      <td>1.0</td>\n",
       "      <td>81.0</td>\n",
       "      <td>2.9</td>\n",
       "      <td>41.42</td>\n",
       "    </tr>\n",
       "    <tr>\n",
       "      <th>4</th>\n",
       "      <td>5</td>\n",
       "      <td>78.7</td>\n",
       "      <td>178.0</td>\n",
       "      <td>71.6</td>\n",
       "      <td>1.5</td>\n",
       "      <td>8.3</td>\n",
       "      <td>4.9</td>\n",
       "      <td>75.0</td>\n",
       "      <td>5.5</td>\n",
       "      <td>22.60</td>\n",
       "    </tr>\n",
       "  </tbody>\n",
       "</table>\n",
       "</div>"
      ],
      "text/plain": [
       "   id  genetic  length   mass  exercise  smoking  alcohol  lifespan  sugar  \\\n",
       "0   1     73.9   185.0   99.7       0.9      0.0      2.4      73.1    6.9   \n",
       "1   2     86.0   172.0  105.4       1.8      8.1      0.4      85.0    4.2   \n",
       "2   3     83.3   176.0  111.4       1.1      0.8      4.6      81.6    7.5   \n",
       "3   4     82.8   164.0  111.4       4.7     11.8      1.0      81.0    2.9   \n",
       "4   5     78.7   178.0   71.6       1.5      8.3      4.9      75.0    5.5   \n",
       "\n",
       "     bmi  \n",
       "0  29.13  \n",
       "1  35.63  \n",
       "2  35.96  \n",
       "3  41.42  \n",
       "4  22.60  "
      ]
     },
     "execution_count": 14,
     "metadata": {},
     "output_type": "execute_result"
    }
   ],
   "source": [
    "#df = df.drop_duplicates()\n",
    "#df.head()"
   ]
  },
  {
   "cell_type": "code",
   "execution_count": 15,
   "metadata": {
    "colab": {
     "base_uri": "https://localhost:8080/"
    },
    "id": "UBkT-ixm4AUV",
    "outputId": "7baf3da9-f4b2-4c07-faa9-ca94c1c24694",
    "tags": []
   },
   "outputs": [
    {
     "name": "stdout",
     "output_type": "stream",
     "text": [
      "id          0\n",
      "genetic     1\n",
      "length      3\n",
      "mass        2\n",
      "exercise    1\n",
      "smoking     0\n",
      "alcohol     2\n",
      "lifespan    2\n",
      "sugar       1\n",
      "bmi         5\n",
      "dtype: int64\n"
     ]
    }
   ],
   "source": [
    "# Any missing values?\n",
    "\n",
    "#print(df.isnull().sum())\n",
    "#df = df.dropna()\n",
    "#df.head()"
   ]
  },
  {
   "cell_type": "code",
   "execution_count": 16,
   "metadata": {
    "id": "p5kRO-OU4CMy"
   },
   "outputs": [],
   "source": [
    "# Why is it missing? Is it random?\n",
    "# Impute or delete?"
   ]
  },
  {
   "cell_type": "code",
   "execution_count": 17,
   "metadata": {
    "colab": {
     "base_uri": "https://localhost:8080/",
     "height": 204
    },
    "id": "6ZISqQ_N53d3",
    "outputId": "83bc75ea-45fc-4471-eec2-5316d0796fff",
    "tags": []
   },
   "outputs": [
    {
     "data": {
      "text/html": [
       "<div>\n",
       "<style scoped>\n",
       "    .dataframe tbody tr th:only-of-type {\n",
       "        vertical-align: middle;\n",
       "    }\n",
       "\n",
       "    .dataframe tbody tr th {\n",
       "        vertical-align: top;\n",
       "    }\n",
       "\n",
       "    .dataframe thead th {\n",
       "        text-align: right;\n",
       "    }\n",
       "</style>\n",
       "<table border=\"1\" class=\"dataframe\">\n",
       "  <thead>\n",
       "    <tr style=\"text-align: right;\">\n",
       "      <th></th>\n",
       "      <th>id</th>\n",
       "      <th>genetic</th>\n",
       "      <th>length</th>\n",
       "      <th>mass</th>\n",
       "      <th>exercise</th>\n",
       "      <th>smoking</th>\n",
       "      <th>alcohol</th>\n",
       "      <th>lifespan</th>\n",
       "      <th>sugar</th>\n",
       "      <th>bmi</th>\n",
       "    </tr>\n",
       "  </thead>\n",
       "  <tbody>\n",
       "    <tr>\n",
       "      <th>0</th>\n",
       "      <td>1</td>\n",
       "      <td>73.9</td>\n",
       "      <td>185.0</td>\n",
       "      <td>99.7</td>\n",
       "      <td>0.9</td>\n",
       "      <td>0.0</td>\n",
       "      <td>2.4</td>\n",
       "      <td>73.1</td>\n",
       "      <td>6.9</td>\n",
       "      <td>29.13</td>\n",
       "    </tr>\n",
       "    <tr>\n",
       "      <th>1</th>\n",
       "      <td>2</td>\n",
       "      <td>86.0</td>\n",
       "      <td>172.0</td>\n",
       "      <td>105.4</td>\n",
       "      <td>1.8</td>\n",
       "      <td>8.1</td>\n",
       "      <td>0.4</td>\n",
       "      <td>85.0</td>\n",
       "      <td>4.2</td>\n",
       "      <td>35.63</td>\n",
       "    </tr>\n",
       "    <tr>\n",
       "      <th>2</th>\n",
       "      <td>3</td>\n",
       "      <td>83.3</td>\n",
       "      <td>176.0</td>\n",
       "      <td>111.4</td>\n",
       "      <td>1.1</td>\n",
       "      <td>0.8</td>\n",
       "      <td>4.6</td>\n",
       "      <td>81.6</td>\n",
       "      <td>7.5</td>\n",
       "      <td>35.96</td>\n",
       "    </tr>\n",
       "    <tr>\n",
       "      <th>3</th>\n",
       "      <td>4</td>\n",
       "      <td>82.8</td>\n",
       "      <td>164.0</td>\n",
       "      <td>111.4</td>\n",
       "      <td>4.7</td>\n",
       "      <td>11.8</td>\n",
       "      <td>1.0</td>\n",
       "      <td>81.0</td>\n",
       "      <td>2.9</td>\n",
       "      <td>41.42</td>\n",
       "    </tr>\n",
       "    <tr>\n",
       "      <th>4</th>\n",
       "      <td>5</td>\n",
       "      <td>78.7</td>\n",
       "      <td>178.0</td>\n",
       "      <td>71.6</td>\n",
       "      <td>1.5</td>\n",
       "      <td>8.3</td>\n",
       "      <td>4.9</td>\n",
       "      <td>75.0</td>\n",
       "      <td>5.5</td>\n",
       "      <td>22.60</td>\n",
       "    </tr>\n",
       "  </tbody>\n",
       "</table>\n",
       "</div>"
      ],
      "text/plain": [
       "   id  genetic  length   mass  exercise  smoking  alcohol  lifespan  sugar  \\\n",
       "0   1     73.9   185.0   99.7       0.9      0.0      2.4      73.1    6.9   \n",
       "1   2     86.0   172.0  105.4       1.8      8.1      0.4      85.0    4.2   \n",
       "2   3     83.3   176.0  111.4       1.1      0.8      4.6      81.6    7.5   \n",
       "3   4     82.8   164.0  111.4       4.7     11.8      1.0      81.0    2.9   \n",
       "4   5     78.7   178.0   71.6       1.5      8.3      4.9      75.0    5.5   \n",
       "\n",
       "     bmi  \n",
       "0  29.13  \n",
       "1  35.63  \n",
       "2  35.96  \n",
       "3  41.42  \n",
       "4  22.60  "
      ]
     },
     "execution_count": 17,
     "metadata": {},
     "output_type": "execute_result"
    }
   ],
   "source": [
    "#df = df.dropna()\n",
    "#df.head()"
   ]
  },
  {
   "cell_type": "code",
   "execution_count": 18,
   "metadata": {
    "tags": []
   },
   "outputs": [
    {
     "data": {
      "text/plain": [
       "4084"
      ]
     },
     "execution_count": 18,
     "metadata": {},
     "output_type": "execute_result"
    }
   ],
   "source": [
    "#con = sqlite3.connect(f'{dbPath}/db.sqlite3')\n",
    "#df.to_sql('new_table', con=con, index=False, if_exists='replace')\n",
    "\n",
    "\n",
    "\n",
    "# df= pd.read_sql(\"SELECT * FROM new_table\")"
   ]
  },
  {
   "cell_type": "code",
   "execution_count": 19,
   "metadata": {
    "colab": {
     "base_uri": "https://localhost:8080/",
     "height": 302
    },
    "id": "vB4r0Hzv57Sn",
    "outputId": "2130a1e3-f370-4063-881d-243d8c63bb31",
    "tags": []
   },
   "outputs": [
    {
     "data": {
      "text/plain": [
       "<AxesSubplot: xlabel='lifespan'>"
      ]
     },
     "execution_count": 19,
     "metadata": {},
     "output_type": "execute_result"
    },
    {
     "data": {
      "image/png": "[encoded data removed]",
      "text/plain": [
       "<Figure size 640x480 with 1 Axes>"
      ]
     },
     "metadata": {},
     "output_type": "display_data"
    }
   ],
   "source": [
    "#Got any outliers?\n",
    "sns.boxplot(x=df['lifespan'])"
   ]
  },
  {
   "cell_type": "code",
   "execution_count": 20,
   "metadata": {
    "colab": {
     "base_uri": "https://localhost:8080/",
     "height": 302
    },
    "id": "O7xt3EkG9Epi",
    "outputId": "408f4be7-75a7-4cac-e5b8-6789e705dd88",
    "tags": []
   },
   "outputs": [
    {
     "data": {
      "text/plain": [
       "<AxesSubplot: xlabel='bmi'>"
      ]
     },
     "execution_count": 20,
     "metadata": {},
     "output_type": "execute_result"
    },
    {
     "data": {
      "image/png": "[encoded data removed]",
      "text/plain": [
       "<Figure size 640x480 with 1 Axes>"
      ]
     },
     "metadata": {},
     "output_type": "display_data"
    }
   ],
   "source": [
    "sns.boxplot(x=df['bmi'])"
   ]
  },
  {
   "cell_type": "code",
   "execution_count": 21,
   "metadata": {
    "colab": {
     "base_uri": "https://localhost:8080/",
     "height": 302
    },
    "id": "Yr3N-G819E-H",
    "outputId": "78c74029-07a0-4255-cb5f-d0f8ab9ca765",
    "tags": []
   },
   "outputs": [
    {
     "data": {
      "text/plain": [
       "<AxesSubplot: xlabel='genetic'>"
      ]
     },
     "execution_count": 21,
     "metadata": {},
     "output_type": "execute_result"
    },
    {
     "data": {
      "image/png": "[encoded data removed]",
      "text/plain": [
       "<Figure size 640x480 with 1 Axes>"
      ]
     },
     "metadata": {},
     "output_type": "display_data"
    }
   ],
   "source": [
    "sns.boxplot(x=df['genetic'])"
   ]
  },
  {
   "cell_type": "code",
   "execution_count": 22,
   "metadata": {
    "colab": {
     "base_uri": "https://localhost:8080/"
    },
    "id": "ATK-V_73-AjG",
    "outputId": "85c06103-94a0-46e7-e1fe-e166c6284c72",
    "tags": []
   },
   "outputs": [
    {
     "name": "stdout",
     "output_type": "stream",
     "text": [
      "id          1023.7500\n",
      "genetic       77.6000\n",
      "length       175.0000\n",
      "mass          71.4750\n",
      "exercise       1.5000\n",
      "smoking        3.3750\n",
      "alcohol        0.6000\n",
      "lifespan      75.0000\n",
      "sugar          4.4000\n",
      "bmi           20.9375\n",
      "Name: 0.25, dtype: float64\n",
      "\n",
      "id          3073.2500\n",
      "genetic       86.7000\n",
      "length       193.0000\n",
      "mass         110.8250\n",
      "exercise       3.2000\n",
      "smoking       15.9000\n",
      "alcohol        4.0000\n",
      "lifespan      85.2000\n",
      "sugar          8.4000\n",
      "bmi           33.2075\n",
      "Name: 0.75, dtype: float64\n",
      "\n",
      "id          2049.500\n",
      "genetic        9.100\n",
      "length        18.000\n",
      "mass          39.350\n",
      "exercise       1.700\n",
      "smoking       12.525\n",
      "alcohol        3.400\n",
      "lifespan      10.200\n",
      "sugar          4.000\n",
      "bmi           12.270\n",
      "dtype: float64\n"
     ]
    }
   ],
   "source": [
    "Q1 = df.quantile(0.25)\n",
    "Q3 = df.quantile(0.75)\n",
    "IQR = Q3 - Q1\n",
    "print(Q1)\n",
    "print()\n",
    "print(Q3)\n",
    "print()\n",
    "print(IQR)\n",
    "df = df[~((df < (Q1 - 1.5 * IQR)) |(df > (Q3 + 1.5 * IQR))).any(axis=1)]"
   ]
  },
  {
   "cell_type": "code",
   "execution_count": 23,
   "metadata": {},
   "outputs": [
    {
     "ename": "SyntaxError",
     "evalue": "unterminated string literal (detected at line 13) (4087764212.py, line 13)",
     "output_type": "error",
     "traceback": [
      "\u001b[1;36m  Cell \u001b[1;32mIn[23], line 13\u001b[1;36m\u001b[0m\n\u001b[1;33m    dbPath= \"db.sqlite\u001b[0m\n\u001b[1;37m            ^\u001b[0m\n\u001b[1;31mSyntaxError\u001b[0m\u001b[1;31m:\u001b[0m unterminated string literal (detected at line 13)\n"
     ]
    }
   ],
   "source": [
    "df.to_sql('new_table', con=con, index=False)\n",
    "\n",
    "# close Connection\n",
    "con.close()\n",
    "\n",
    "conn = sqlite3.connect('test_database') \n",
    "c = conn.cursor()\n",
    "\n",
    "\n",
    "\n",
    "loggingPath = path.join(Path.cwd.INFO)\n",
    "\n",
    "dbPath= \"db.sqlite\n",
    "\n",
    "conn = sqlite3.connect('test_database') \n",
    "c = conn.cursor()\n",
    "\n",
    "df= pd.read_sql('Select*From_apl"
   ]
  },
  {
   "cell_type": "code",
   "execution_count": null,
   "metadata": {},
   "outputs": [],
   "source": [
    "#l/usr/bin/env"
   ]
  },
  {
   "cell_type": "code",
   "execution_count": null,
   "metadata": {},
   "outputs": [],
   "source": [
    "../scripts/pipeline.py"
   ]
  },
  {
   "cell_type": "code",
   "execution_count": null,
   "metadata": {
    "colab": {
     "base_uri": "https://localhost:8080/",
     "height": 429
    },
    "id": "L78AGe8p-b-S",
    "outputId": "d5bad801-c044-4a28-d414-7f2e49bfd476",
    "tags": []
   },
   "outputs": [],
   "source": [
    "df.value_counts().nlargest(40).plot(kind='bar', figsize=(10,5))\n",
    "plt.title(\"lifespan\")\n",
    "plt.ylabel('Number of people')\n",
    "plt.xlabel('bmi');"
   ]
  },
  {
   "cell_type": "code",
   "execution_count": null,
   "metadata": {
    "colab": {
     "base_uri": "https://localhost:8080/",
     "height": 544
    },
    "id": "_L1GUKrONR4f",
    "outputId": "506aafec-a58b-4993-95fc-e56f12759d1a",
    "tags": []
   },
   "outputs": [],
   "source": [
    "plt.figure(figsize=(10,5))\n",
    "c= df.corr()\n",
    "sns.heatmap(c,cmap=\"BrBG\",annot=True)\n"
   ]
  },
  {
   "cell_type": "code",
   "execution_count": null,
   "metadata": {
    "colab": {
     "base_uri": "https://localhost:8080/",
     "height": 394
    },
    "id": "VwaZ97RYNa0s",
    "outputId": "9523d633-9efb-4a91-fabe-d8d7570ecd4d",
    "tags": []
   },
   "outputs": [],
   "source": [
    "fig, ax = plt.subplots(figsize=(10,6))\n",
    "ax.scatter(df['smoking'], df['lifespan'])\n",
    "ax.set_xlabel('smoking')\n",
    "ax.set_ylabel('lifespan')\n",
    "plt.show()"
   ]
  },
  {
   "cell_type": "code",
   "execution_count": null,
   "metadata": {
    "tags": []
   },
   "outputs": [],
   "source": [
    "fig, ax = plt.subplots(figsize=(10,6))\n",
    "ax.scatter(df['bmi'], df['lifespan'])\n",
    "ax.set_xlabel('bmi')\n",
    "ax.set_ylabel('lifespan')\n",
    "plt.show()"
   ]
  },
  {
   "cell_type": "code",
   "execution_count": null,
   "metadata": {
    "tags": []
   },
   "outputs": [],
   "source": [
    "fig, ax = plt.subplots(figsize=(10,6))\n",
    "ax.scatter(df['genetic'], df['lifespan'])\n",
    "ax.set_xlabel('genetic')\n",
    "ax.set_ylabel('lifespan')\n",
    "plt.show()"
   ]
  },
  {
   "cell_type": "code",
   "execution_count": null,
   "metadata": {},
   "outputs": [],
   "source": [
    "fig, ax = plt.subplots(figsize=(10,6))\n",
    "ax.scatter(df['smoking'], df['lifespan'])\n",
    "ax.set_xlabel('smoking')\n",
    "ax.set_ylabel('lifespan')\n",
    "plt.show()"
   ]
  },
  {
   "cell_type": "code",
   "execution_count": null,
   "metadata": {
    "tags": []
   },
   "outputs": [],
   "source": [
    "# close Connection\n",
    "con.close()\n"
   ]
  }
 ],
 "metadata": {
  "colab": {
   "provenance": []
  },
  "kernelspec": {
   "display_name": "Python 3 (ipykernel)",
   "language": "python",
   "name": "python3"
  },
  "language_info": {
   "codemirror_mode": {
    "name": "ipython",
    "version": 3
   },
   "file_extension": ".py",
   "mimetype": "text/x-python",
   "name": "python",
   "nbconvert_exporter": "python",
   "pygments_lexer": "ipython3",
   "version": "3.10.10"
  }
 },
 "nbformat": 4,
 "nbformat_minor": 4
}
