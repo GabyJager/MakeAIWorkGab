{
 "cells": [
  {
   "cell_type": "code",
   "execution_count": 34,
   "id": "ab1dd3d7-8ebb-437f-823a-1706492514bb",
   "metadata": {
    "tags": []
   },
   "outputs": [
    {
     "name": "stdin",
     "output_type": "stream",
     "text": [
      "smoking per day -1\n"
     ]
    },
    {
     "ename": "TypeError",
     "evalue": "'<' not supported between instances of 'list' and 'int'",
     "output_type": "error",
     "traceback": [
      "\u001b[1;31m---------------------------------------------------------------------------\u001b[0m",
      "\u001b[1;31mTypeError\u001b[0m                                 Traceback (most recent call last)",
      "Cell \u001b[1;32mIn[34], line 4\u001b[0m\n\u001b[0;32m      1\u001b[0m \u001b[38;5;28;01mimport\u001b[39;00m \u001b[38;5;21;01mpickle\u001b[39;00m\n\u001b[0;32m      3\u001b[0m smoking \u001b[38;5;241m=\u001b[39m \u001b[38;5;28minput\u001b[39m(\u001b[38;5;124m\"\u001b[39m\u001b[38;5;124msmoking per day\u001b[39m\u001b[38;5;124m\"\u001b[39m)\n\u001b[1;32m----> 4\u001b[0m \u001b[38;5;28;01mif\u001b[39;00m \u001b[43m[\u001b[49m\u001b[38;5;124;43m\"\u001b[39;49m\u001b[38;5;124;43msmoking\u001b[39;49m\u001b[38;5;124;43m\"\u001b[39;49m\u001b[43m]\u001b[49m\u001b[43m \u001b[49m\u001b[38;5;241;43m<\u001b[39;49m\u001b[38;5;241;43m0\u001b[39;49m: \n\u001b[0;32m      5\u001b[0m \n\u001b[0;32m      6\u001b[0m \u001b[38;5;66;03m#and df.loc[x, \"lifespan\"] >230:\u001b[39;00m\n\u001b[0;32m      9\u001b[0m     \u001b[38;5;28mprint\u001b[39m(\u001b[38;5;124m\"\u001b[39m\u001b[38;5;124mPlease check and if necessary correct input\u001b[39m\u001b[38;5;124m\"\u001b[39m)\n\u001b[0;32m     11\u001b[0m bmi\u001b[38;5;241m=\u001b[39m \u001b[38;5;28minput\u001b[39m(bmi)\n",
      "\u001b[1;31mTypeError\u001b[0m: '<' not supported between instances of 'list' and 'int'"
     ]
    }
   ],
   "source": [
    "import pickle\n",
    "\n",
    "smoking = input(\"smoking per day\")\n",
    "if smoking <0: \n",
    "\n",
    "    if x > 10:\n",
    "  print(\"Above ten,\")\n",
    "  if x > 20:\n",
    "    print(\"and also above 20!\")\n",
    "  else:\n",
    "    print(\"but not above 20.\")\n",
    "#and df.loc[x, \"lifespan\"] >230:\n",
    "\n",
    "    \n",
    "    print(\"Please check and if necessary correct input\")\n",
    "        \n",
    "bmi= input(bmi)\n",
    "genetic= input(\"genetic in age\")\n",
    "exercise= input(\"exercise in hours per day\")\n",
    "alcohol= input(\"alcohol glasses per day\")\n",
    "sugar= input(\"sugar in cubs per day\")\n",
    "\n",
    "lifespan = pickle.load(open(\"lifespan.pickle\", 'rb')) \n",
    "\n",
    "print(lifespan)\n",
    "\n",
    "\n",
    "\n",
    "\n",
    "\n",
    "\n",
    "        \n",
    "        "
   ]
  },
  {
   "cell_type": "code",
   "execution_count": 22,
   "id": "1ff5a007-facc-45b8-a816-476a8f9fdabf",
   "metadata": {
    "tags": []
   },
   "outputs": [
    {
     "ename": "IndentationError",
     "evalue": "unexpected indent (433936351.py, line 2)",
     "output_type": "error",
     "traceback": [
      "\u001b[1;36m  Cell \u001b[1;32mIn[22], line 2\u001b[1;36m\u001b[0m\n\u001b[1;33m    if length is < 140:\u001b[0m\n\u001b[1;37m    ^\u001b[0m\n\u001b[1;31mIndentationError\u001b[0m\u001b[1;31m:\u001b[0m unexpected indent\n"
     ]
    }
   ],
   "source": [
    "length= input(\"length in centimeters\")\n",
    "    if length is < 140:\n",
    "    \n",
    "mass= input (\"mass in kilograms\")\n",
    "bmi(length,mass) = input round(\"mass in kilograms/length in centimeter\"/100**2, 2)\n",
    "    \n",
    "x = \"awesome\"\n",
    "\n",
    "def myfunc():\n",
    "  print(\"Python is \" + x)\n",
    "\n",
    "myfunc()\n",
    "\n"
   ]
  },
  {
   "cell_type": "code",
   "execution_count": null,
   "id": "6b2e809b-555c-4df4-a11a-6adc0b901fa1",
   "metadata": {},
   "outputs": [],
   "source": [
    "model = pickle.load(open(\"lifespan.pickle\", 'rb')) \n",
    "#([-0.26 smoking, -0.063 bmi ,  1.00 genetic,  0.81 exercise, -0.22 alcohol,\\n\",\n",
    "#       \"       -0.07 sugar])\" factor mean 1.02"
   ]
  }
 ],
 "metadata": {
  "kernelspec": {
   "display_name": "Python 3 (ipykernel)",
   "language": "python",
   "name": "python3"
  },
  "language_info": {
   "codemirror_mode": {
    "name": "ipython",
    "version": 3
   },
   "file_extension": ".py",
   "mimetype": "text/x-python",
   "name": "python",
   "nbconvert_exporter": "python",
   "pygments_lexer": "ipython3",
   "version": "3.10.10"
  }
 },
 "nbformat": 4,
 "nbformat_minor": 5
}
