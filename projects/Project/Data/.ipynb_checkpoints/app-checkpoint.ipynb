{
 "cells": [
  {
   "cell_type": "code",
   "execution_count": 19,
   "id": "ab1dd3d7-8ebb-437f-823a-1706492514bb",
   "metadata": {
    "tags": []
   },
   "outputs": [
    {
     "name": "stdin",
     "output_type": "stream",
     "text": [
      "smoking per day 0\n",
      "30 30\n",
      "genetic in age 84\n",
      "exercise in hours per day 1\n",
      "alcohol glasses per day 1.5\n",
      "sugar in cubs per day 7\n"
     ]
    },
    {
     "name": "stdout",
     "output_type": "stream",
     "text": [
      "LinearRegression()\n"
     ]
    }
   ],
   "source": [
    "import pickle\n",
    "lifespan = pickle.load(open(\"lifespan.pickle\", 'rb')) \n",
    "\n",
    "\n",
    "smoking= input(\"smoking per day\")\n",
    "    \n",
    "        #print(\"Please check and if necessary correct input\")\n",
    "        \n",
    "bmi= input(bmi)\n",
    "genetic= input(\"genetic in age\")\n",
    "exercise= input(\"exercise in hours per day\")\n",
    "alcohol= input(\"alcohol glasses per day\")\n",
    "sugar= input(\"sugar in cubs per day\")\n",
    "\n",
    "print(lifespan)\n",
    "\n",
    "\n",
    "\n",
    "\n",
    "\n",
    "\n",
    "        \n",
    "        "
   ]
  },
  {
   "cell_type": "code",
   "execution_count": 14,
   "id": "1ff5a007-facc-45b8-a816-476a8f9fdabf",
   "metadata": {
    "tags": []
   },
   "outputs": [
    {
     "ename": "SyntaxError",
     "evalue": "cannot assign to function call here. Maybe you meant '==' instead of '='? (57518694.py, line 3)",
     "output_type": "error",
     "traceback": [
      "\u001b[1;36m  Cell \u001b[1;32mIn[14], line 3\u001b[1;36m\u001b[0m\n\u001b[1;33m    bmi(length,mass) = input(\"round(mass in kilograms/length in centimeter\"/100**2, 2)\u001b[0m\n\u001b[1;37m    ^\u001b[0m\n\u001b[1;31mSyntaxError\u001b[0m\u001b[1;31m:\u001b[0m cannot assign to function call here. Maybe you meant '==' instead of '='?\n"
     ]
    }
   ],
   "source": [
    "length= input(\"length in centimeters\")\n",
    "mass= input (\"mass in kilograms\")\n",
    "bmi(length,mass) = input round(\"mass in kilograms/length in centimeter\"/100**2, 2)\n",
    "    \n",
    "\n"
   ]
  },
  {
   "cell_type": "code",
   "execution_count": null,
   "id": "6b2e809b-555c-4df4-a11a-6adc0b901fa1",
   "metadata": {},
   "outputs": [],
   "source": [
    "model = pickle.load(open(\"lifespan.pickle\", 'rb')) \n",
    "#([-0.26 smoking, -0.063 bmi ,  1.00 genetic,  0.81 exercise, -0.22 alcohol,\\n\",\n",
    "#       \"       -0.07 sugar])\""
   ]
  }
 ],
 "metadata": {
  "kernelspec": {
   "display_name": "Python 3 (ipykernel)",
   "language": "python",
   "name": "python3"
  },
  "language_info": {
   "codemirror_mode": {
    "name": "ipython",
    "version": 3
   },
   "file_extension": ".py",
   "mimetype": "text/x-python",
   "name": "python",
   "nbconvert_exporter": "python",
   "pygments_lexer": "ipython3",
   "version": "3.10.10"
  }
 },
 "nbformat": 4,
 "nbformat_minor": 5
}
