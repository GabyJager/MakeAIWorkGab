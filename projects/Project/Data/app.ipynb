{
 "cells": [
  {
   "cell_type": "code",
   "execution_count": 19,
   "id": "ab1dd3d7-8ebb-437f-823a-1706492514bb",
   "metadata": {
    "tags": []
   },
   "outputs": [
    {
     "name": "stdin",
     "output_type": "stream",
     "text": [
      "age 80\n",
      "smoking per day 0\n"
     ]
    }
   ],
   "source": [
    "genetic= input(\"age\")\n",
    "\n",
    "\n",
    "smoking= input(\"smoking per day\")\n",
    "alcohol= input(\"alcohol glasses per day\")\n",
    "sugar= input(\"cubs per day\")\n",
    "\n",
    "\n"
   ]
  },
  {
   "cell_type": "code",
   "execution_count": 18,
   "id": "1ff5a007-facc-45b8-a816-476a8f9fdabf",
   "metadata": {
    "tags": []
   },
   "outputs": [
    {
     "name": "stdin",
     "output_type": "stream",
     "text": [
      "length in centimeters 163\n",
      "mass in kilograms 75\n"
     ]
    }
   ],
   "source": [
    "length= input(\"length in centimeters\")\n",
    "mass= input (\"mass in kilograms\")\n",
    "def bmi(length,mass): \n",
    "    round((mass/length/100)**2, 2)\n",
    "    return(bmi)\n",
    "\n"
   ]
  },
  {
   "cell_type": "code",
   "execution_count": null,
   "id": "6b2e809b-555c-4df4-a11a-6adc0b901fa1",
   "metadata": {},
   "outputs": [],
   "source": [
    "model = pickle.load(open(\"lifespan.pickle\", 'rb')) "
   ]
  }
 ],
 "metadata": {
  "kernelspec": {
   "display_name": "Python 3 (ipykernel)",
   "language": "python",
   "name": "python3"
  },
  "language_info": {
   "codemirror_mode": {
    "name": "ipython",
    "version": 3
   },
   "file_extension": ".py",
   "mimetype": "text/x-python",
   "name": "python",
   "nbconvert_exporter": "python",
   "pygments_lexer": "ipython3",
   "version": "3.10.10"
  }
 },
 "nbformat": 4,
 "nbformat_minor": 5
}
