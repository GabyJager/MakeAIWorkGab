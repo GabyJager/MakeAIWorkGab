{
 "cells": [
  {
   "cell_type": "code",
   "execution_count": 29,
   "id": "12931274-830f-40f2-bdfb-bdff0f880bf2",
   "metadata": {
    "tags": []
   },
   "outputs": [
    {
     "ename": "IndentationError",
     "evalue": "unexpected indent (4117018909.py, line 6)",
     "output_type": "error",
     "traceback": [
      "\u001b[1;36m  Cell \u001b[1;32mIn[29], line 6\u001b[1;36m\u001b[0m\n\u001b[1;33m    print(\"Please check and if necessary correct input\")\u001b[0m\n\u001b[1;37m    ^\u001b[0m\n\u001b[1;31mIndentationError\u001b[0m\u001b[1;31m:\u001b[0m unexpected indent\n"
     ]
    }
   ],
   "source": [
    "length= float(input(\"Please fill in length in centimeters: and ENTER\"))\n",
    "mass= float(input(\"Please fill in mass in kilograms: and ENTER\"))\n",
    "\n",
    "#if length < 140 or length > 230 or if mass < 40 or > 200:\n",
    "\n",
    "    print(\"Please check and if necessary correct input\")\n",
    "    \n",
    "#length= float(input(\"Please fill in length in centimeters: and ENTER\"))  \n",
    "\n",
    "#else\n",
    "    #continue\n",
    "              \n",
    "#number = int(input('Please fill in a whole number: and ENTER'))\n",
    "#if number%2==0:\n",
    "    #print('number is even')\n",
    "#else:\n",
    "    #print(\"Number is odd\")\n",
    "\n",
    "\n",
    "\n",
    "    \n",
    "\n",
    "#if number < 40 or number > 200\n",
    "    #print(\"Please check and if necessary correct input\")\n",
    "\n",
    "bmi= round(mass/length/100**2, 2)\n",
    "print(bmi)\n",
    "    "
   ]
  },
  {
   "cell_type": "code",
   "execution_count": 30,
   "id": "ab1dd3d7-8ebb-437f-823a-1706492514bb",
   "metadata": {
    "tags": []
   },
   "outputs": [
    {
     "ename": "IndentationError",
     "evalue": "unexpected indent (2653929554.py, line 17)",
     "output_type": "error",
     "traceback": [
      "\u001b[1;36m  Cell \u001b[1;32mIn[30], line 17\u001b[1;36m\u001b[0m\n\u001b[1;33m    print(\"Please check and if necessary correct input\")\u001b[0m\n\u001b[1;37m    ^\u001b[0m\n\u001b[1;31mIndentationError\u001b[0m\u001b[1;31m:\u001b[0m unexpected indent\n"
     ]
    }
   ],
   "source": [
    "import pickle\n",
    "lifespan = pickle.load(open(\"lifespan.pickle\", 'rb')) \n",
    "\n",
    "smoking = float(input(\"smoking per day\"))\n",
    "\n",
    "\n",
    "\n",
    "    #if x > 10:\n",
    "  #print(\"Above ten,\")\n",
    "  #if x > 20:\n",
    "    #print(\"and also above 20!\")\n",
    "  #else:\n",
    "    #print(\"but not above 20.\")\n",
    "#and df.loc[x, \"lifespan\"] >230:\n",
    "\n",
    "    \n",
    "    print(\"Please check and if necessary correct input\")\n",
    "        \n",
    "bmi= float(input(bmi))\n",
    "#if bmi < 140 or bmi > 230:\n",
    "\n",
    "    print(\"Please check and if necessary correct input\")\n",
    "    \n",
    "#bmi= float(input(\"Please fill in bmi: and ENTER\"))  \n",
    "\n",
    "genetic= float(input(\"genetic in age\"))\n",
    "#if bmi < 140 or bmi > 230:\n",
    "\n",
    "    print(\"Please check and if necessary correct input\")\n",
    "    \n",
    "#bmi= float(input(\"Please fill in bmi: and ENTER\"))  \n",
    "\n",
    "exercise= float(input(\"exercise(=) in hours per day\"))\n",
    "#if exercise < 0 or exercise > 5:\n",
    "\n",
    "    print(\"Please check and if necessary correct input\")\n",
    "    \n",
    "#exercise= float(input(\"Please fill in exercise in hours: and ENTER\"))  \n",
    "\n",
    "\n",
    "alcohol= float(input(\"alcohol glasses per day\"))\n",
    "#if alcohol < 0 or alcohol > 30:\n",
    "\n",
    "    print(\"Please check and if necessary correct input\")\n",
    "    \n",
    "#alcohol= float(input(\"Please fill in bmi: and ENTER\"))  \n",
    "\n",
    "\n",
    "sugar= input((\"sugar in cubs per day\"))\n",
    "#if sugar < 0 or sugar > 50:\n",
    "\n",
    "    print(\"Please check and if necessary correct input\")\n",
    "    \n",
    "#sugar= float(input(\"Please fill in bmi: and ENTER\"))  \n",
    "\n",
    "\n",
    "lifespan = pickle.load(open(\"lifespan.pickle\", 'rb')) \n",
    "\n",
    "print(lifespan)\n",
    "\n",
    "\n",
    "\n",
    "\n",
    "\n",
    "\n",
    "        \n",
    "        "
   ]
  },
  {
   "cell_type": "code",
   "execution_count": 42,
   "id": "1ff5a007-facc-45b8-a816-476a8f9fdabf",
   "metadata": {
    "tags": []
   },
   "outputs": [
    {
     "name": "stdout",
     "output_type": "stream",
     "text": [
      "BMI calculator\n"
     ]
    },
    {
     "name": "stdin",
     "output_type": "stream",
     "text": [
      "Please fill in length in centimeters: and ENTER 150\n",
      "Please fill in mass in kilograms: and ENTER 60\n"
     ]
    },
    {
     "name": "stdout",
     "output_type": "stream",
     "text": [
      "0.0\n"
     ]
    }
   ],
   "source": [
    "print(\"BMI calculator\")\n",
    "\n",
    "bmi= round(mass/length/100**2, 2)\n",
    "\n",
    "\n",
    "while True:\n",
    "    length= float(input(\"Please fill in length in centimeters: and ENTER\"))\n",
    "    if length >140 and length <230:\n",
    "        break\n",
    "            \n",
    "    else:\n",
    "\n",
    "        print(\"Please check and if necessary correct input\")\n",
    "    \n",
    "    \n",
    "while True:\n",
    "    mass= float(input(\"Please fill in mass in kilograms: and ENTER\"))\n",
    "    if mass >40 and mass <200:\n",
    "        break\n",
    "            \n",
    "    else:\n",
    "\n",
    "        print(\"Please check and if necessary correct input\")\n",
    "    \n",
    "\n",
    "              \n",
    "\n",
    "#bmi= round(mass/length/100**2, 2)\n",
    "print(bmi)\n",
    "    \n",
    "    \n",
    "#def bmi(1):\n",
    "    #return kilo / 0.5\n",
    "\n",
    "#print(f't to approximately {int(poundsToKilos()) } pounds')\n",
    "\n",
    "#x = \"awesome\"\n",
    "\n",
    "#def myfunc():\n",
    "  #print(\"Python is \" + x)\n",
    "\n",
    "#myfunc()\n",
    "\n"
   ]
  },
  {
   "cell_type": "code",
   "execution_count": 32,
   "id": "6b2e809b-555c-4df4-a11a-6adc0b901fa1",
   "metadata": {},
   "outputs": [
    {
     "ename": "NameError",
     "evalue": "name 'pickle' is not defined",
     "output_type": "error",
     "traceback": [
      "\u001b[1;31m---------------------------------------------------------------------------\u001b[0m",
      "\u001b[1;31mNameError\u001b[0m                                 Traceback (most recent call last)",
      "Cell \u001b[1;32mIn[32], line 1\u001b[0m\n\u001b[1;32m----> 1\u001b[0m model \u001b[38;5;241m=\u001b[39m \u001b[43mpickle\u001b[49m\u001b[38;5;241m.\u001b[39mload(\u001b[38;5;28mopen\u001b[39m(\u001b[38;5;124m\"\u001b[39m\u001b[38;5;124mlifespan.pickle\u001b[39m\u001b[38;5;124m\"\u001b[39m, \u001b[38;5;124m'\u001b[39m\u001b[38;5;124mrb\u001b[39m\u001b[38;5;124m'\u001b[39m)) \n\u001b[0;32m      2\u001b[0m \u001b[38;5;66;03m#([-0.26 smoking, -0.063 bmi ,  1.00 genetic,  0.81 exercise, -0.22 alcohol,\\n\",\u001b[39;00m\n\u001b[0;32m      3\u001b[0m \u001b[38;5;66;03m#       \"       -0.07 sugar])\" factor mean 1.02\u001b[39;00m\n",
      "\u001b[1;31mNameError\u001b[0m: name 'pickle' is not defined"
     ]
    }
   ],
   "source": [
    "model = pickle.load(open(\"lifespan.pickle\", 'rb')) \n",
    "#([-0.26 smoking, -0.063 bmi ,  1.00 genetic,  0.81 exercise, -0.22 alcohol,\\n\",\n",
    "#       \"       -0.07 sugar])\" factor mean 1.02"
   ]
  },
  {
   "cell_type": "code",
   "execution_count": null,
   "id": "6378ee31-2d46-4f3a-a52f-8fcd6ba236f1",
   "metadata": {},
   "outputs": [],
   "source": []
  },
  {
   "cell_type": "code",
   "execution_count": null,
   "id": "76264912-93d8-4e68-a892-7664e462b1b7",
   "metadata": {},
   "outputs": [],
   "source": []
  },
  {
   "cell_type": "code",
   "execution_count": null,
   "id": "3a62efe0-1c59-4c6d-a1aa-d89bbb330e8a",
   "metadata": {},
   "outputs": [],
   "source": []
  },
  {
   "cell_type": "code",
   "execution_count": null,
   "id": "4c06b037-9a94-459f-92cb-6bf101464648",
   "metadata": {},
   "outputs": [],
   "source": []
  }
 ],
 "metadata": {
  "kernelspec": {
   "display_name": "Python 3 (ipykernel)",
   "language": "python",
   "name": "python3"
  },
  "language_info": {
   "codemirror_mode": {
    "name": "ipython",
    "version": 3
   },
   "file_extension": ".py",
   "mimetype": "text/x-python",
   "name": "python",
   "nbconvert_exporter": "python",
   "pygments_lexer": "ipython3",
   "version": "3.10.10"
  }
 },
 "nbformat": 4,
 "nbformat_minor": 5
}
