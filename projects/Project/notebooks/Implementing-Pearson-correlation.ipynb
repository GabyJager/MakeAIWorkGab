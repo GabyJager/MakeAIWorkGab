{
 "cells": [
  {
   "cell_type": "markdown",
   "id": "d4334e7a",
   "metadata": {},
   "source": [
    "# Bron\n",
    "\n",
    "https://en.wikipedia.org/wiki/Correlation"
   ]
  },
  {
   "cell_type": "code",
   "execution_count": 1,
   "id": "ff9ebb2d",
   "metadata": {
    "tags": []
   },
   "outputs": [],
   "source": [
    "import numpy as np\n",
    "import pandas as pd"
   ]
  },
  {
   "cell_type": "code",
   "execution_count": null,
   "id": "d0490f02",
   "metadata": {},
   "outputs": [],
   "source": [
    "# According to the formula we need:\n",
    "\n",
    "# 1. Compute the average of X (avgX)\n",
    "# 2. Compute the average of Y (avgY)\n",
    "# 3. Compute the variation of X (stdX)\n",
    "# 4. Compute the variation of Y (stdY)\n",
    "\n",
    "# Once we have computed the ingredients above\n",
    "# we must compute the sum of (Xi - avgX) * (Yi - avgY) and divide by stdX * stdY"
   ]
  },
  {
   "cell_type": "code",
   "execution_count": null,
   "id": "fdd9c6a7",
   "metadata": {},
   "outputs": [],
   "source": [
    "# Let's define our linear dataset\n",
    "X = np.array([0, 1, 2, 3, 4])\n",
    "Y = np.array([1, 2, 3, 4, 5])"
   ]
  },
  {
   "cell_type": "code",
   "execution_count": 4,
   "id": "9acff2f8",
   "metadata": {
    "tags": []
   },
   "outputs": [
    {
     "ename": "NameError",
     "evalue": "name 'X' is not defined",
     "output_type": "error",
     "traceback": [
      "\u001b[1;31m---------------------------------------------------------------------------\u001b[0m",
      "\u001b[1;31mNameError\u001b[0m                                 Traceback (most recent call last)",
      "Cell \u001b[1;32mIn[4], line 3\u001b[0m\n\u001b[0;32m      1\u001b[0m \u001b[38;5;66;03m# 1. Compute the average of X (avgX)\u001b[39;00m\n\u001b[0;32m      2\u001b[0m \u001b[38;5;66;03m# ...\u001b[39;00m\n\u001b[1;32m----> 3\u001b[0m avgX \u001b[38;5;241m=\u001b[39m np\u001b[38;5;241m.\u001b[39maverage(\u001b[43mX\u001b[49m)\n\u001b[0;32m      4\u001b[0m avgY \u001b[38;5;241m=\u001b[39m np\u001b[38;5;241m.\u001b[39maverage(y)\n\u001b[0;32m      5\u001b[0m display(avgY)\n",
      "\u001b[1;31mNameError\u001b[0m: name 'X' is not defined"
     ]
    }
   ],
   "source": [
    "# 1. Compute the average of X (avgX)\n",
    "# ...\n",
    "avgX = np.average(X)\n",
    "avgY = np.average(y)\n",
    "display(avgY)\n",
    "# 2. Compute the average of Y (avgY)\n",
    "# ..."
   ]
  },
  {
   "cell_type": "code",
   "execution_count": 5,
   "id": "6028b2a9",
   "metadata": {
    "tags": []
   },
   "outputs": [
    {
     "ename": "SyntaxError",
     "evalue": "incomplete input (3207861977.py, line 7)",
     "output_type": "error",
     "traceback": [
      "\u001b[1;36m  Cell \u001b[1;32mIn[5], line 7\u001b[1;36m\u001b[0m\n\u001b[1;33m    # ...\u001b[0m\n\u001b[1;37m         ^\u001b[0m\n\u001b[1;31mSyntaxError\u001b[0m\u001b[1;31m:\u001b[0m incomplete input\n"
     ]
    }
   ],
   "source": [
    "# 3. Compute the variation of X (stdX)\n",
    "# ...\n",
    "stdX = np.std(Y) # standaarddev\n",
    "display(std(Y)\n",
    "\n",
    "# 4. Compute the variation of Y (stdY)\n",
    "# ..."
   ]
  },
  {
   "cell_type": "code",
   "execution_count": null,
   "id": "3d2a24f1",
   "metadata": {},
   "outputs": [],
   "source": [
    "# Once we have computed the ingredients above\n",
    "# we must compute the sum of (Xi - avgX) * (Yi - avgY) and divide by stdX * stdY\n",
    "# ...\n"
   ]
  },
  {
   "cell_type": "code",
   "execution_count": null,
   "id": "2ff0774b",
   "metadata": {},
   "outputs": [],
   "source": [
    "# Let's define the pearson correlation as a function\n",
    "# ...\n",
    "n-1\n",
    "p = np.dum(X-avgX) * (y-avgY0/st\n",
    "                      \n",
    "def PearsonsCoefficient(X,Y):\n",
    "    avgX = np.average (X)\n",
    "    avgY\n",
    "    stdX = np.std(X\n",
    "    stdY\n",
    "    return np. sum(X-avgX) * (Y\n",
    "                  \n",
    "                  "
   ]
  },
  {
   "cell_type": "code",
   "execution_count": null,
   "id": "ce3d731f",
   "metadata": {},
   "outputs": [],
   "source": [
    "# Let's use the dataset of project 1\n",
    "# ...\n"
   ]
  },
  {
   "cell_type": "code",
   "execution_count": null,
   "id": "624b17b7",
   "metadata": {},
   "outputs": [],
   "source": [
    "# Look at the correlations\n",
    "# ..."
   ]
  },
  {
   "cell_type": "code",
   "execution_count": null,
   "id": "f413b160",
   "metadata": {},
   "outputs": [],
   "source": [
    "# Let's check\n",
    "# ...\n",
    "display(pearsonCorrlation(df[\"genetic\"], df[\"lifespan\"]))"
   ]
  },
  {
   "cell_type": "code",
   "execution_count": null,
   "id": "b1831cd8",
   "metadata": {},
   "outputs": [],
   "source": [
    "# Let's double check\n",
    "# ...\n",
    "display(np.corrrcoef("
   ]
  }
 ],
 "metadata": {
  "kernelspec": {
   "display_name": "Python 3 (ipykernel)",
   "language": "python",
   "name": "python3"
  },
  "language_info": {
   "codemirror_mode": {
    "name": "ipython",
    "version": 3
   },
   "file_extension": ".py",
   "mimetype": "text/x-python",
   "name": "python",
   "nbconvert_exporter": "python",
   "pygments_lexer": "ipython3",
   "version": "3.10.10"
  }
 },
 "nbformat": 4,
 "nbformat_minor": 5
}
