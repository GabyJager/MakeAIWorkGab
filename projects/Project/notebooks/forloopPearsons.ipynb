{
 "cells": [
  {
   "cell_type": "code",
   "execution_count": null,
   "id": "e966706a-8873-42a8-acb3-486e4db48a47",
   "metadata": {},
   "outputs": [],
   "source": [
    "total = 0\n",
    "x# is getal in X#is lijst: \n",
    "X = [0,1,2]# is vector/list\n",
    "Y = [1,2,3]\n",
    "for x in X:\n",
    "    total = total + x\n",
    "    \n",
    "avg = total/ len(X)"
   ]
  },
  {
   "cell_type": "code",
   "execution_count": null,
   "id": "1e33106a-064e-4851-8128-aea429f12195",
   "metadata": {},
   "outputs": [],
   "source": [
    "def average(N):\n",
    "            total = 0\n",
    "            \n",
    "            for n in N:\n",
    "                total = total + n\n",
    "            return total/len(N)\n",
    "            "
   ]
  },
  {
   "cell_type": "code",
   "execution_count": null,
   "id": "af501051-0a12-4094-8795-e506e1b7b2cb",
   "metadata": {},
   "outputs": [],
   "source": [
    "avgX = average(X)\n",
    "display(avgX)\n",
    "#zelfde voor Y\n",
    "avgX = average(Y)\n",
    "display(avgY)"
   ]
  },
  {
   "cell_type": "code",
   "execution_count": null,
   "id": "d4a92e18-4586-475f-9b40-57e534b1fffb",
   "metadata": {},
   "outputs": [],
   "source": []
  },
  {
   "cell_type": "code",
   "execution_count": null,
   "id": "db40e011-a60d-45fd-b8ea-c589d2ba5c5c",
   "metadata": {},
   "outputs": [],
   "source": []
  },
  {
   "cell_type": "code",
   "execution_count": null,
   "id": "b9a02c94-23f3-4c7e-8be6-1876a6ff935b",
   "metadata": {},
   "outputs": [],
   "source": [
    "#standaarddev\n",
    "total=0\n",
    "\n",
    "for x in X:\n",
    "    total += (x-avgX)**2"
   ]
  },
  {
   "cell_type": "code",
   "execution_count": null,
   "id": "6647adf8-973f-4f34-b52c-268ef34673d7",
   "metadata": {},
   "outputs": [],
   "source": [
    "def variation1(N, avgN):\n",
    "    total = 0\n",
    "    for n in N:\n",
    "        total+= (n - avgN)**2 # probleem avgN; deze voorkeur nu, moet al weten, staat hiervoor\n",
    "    return math.sqrt(total/len(N))\n",
    "\n",
    "def variation2(N,):\n",
    "    avgN = average(N)# nog een keer uitrekenen als veel variabele\n",
    "    total = 0\n",
    "    for n in N:\n",
    "        total+= (n - avgN)**2 # probleem avgX\n",
    "    return math.sqrt(total/len(N))"
   ]
  },
  {
   "cell_type": "code",
   "execution_count": null,
   "id": "f1117ba0-d3d7-4903-8c98-d4d3f78ddaef",
   "metadata": {},
   "outputs": [],
   "source": [
    "#spreiding gem. afstand tot gemiddelde\n",
    "\n",
    "import math\n",
    "\n",
    "sigma = math.sqrt(total/len(X) #sqrt is wortel zit niet in python importeren. Sigma is for loop totale som\n",
    "                  \n",
    "display(sigma)"
   ]
  },
  {
   "cell_type": "code",
   "execution_count": null,
   "id": "456fa6bf-918c-4c75-8689-e21d40789763",
   "metadata": {},
   "outputs": [],
   "source": [
    "stdX = varation1(X,avgX)\n",
    "display(stdX)\n",
    "stdy = varation2(y)\n",
    "display(stdY)"
   ]
  },
  {
   "cell_type": "code",
   "execution_count": null,
   "id": "d4d9e344-cd6a-400c-bc38-8ab524c92117",
   "metadata": {},
   "outputs": [],
   "source": [
    "total=0\n",
    "\n",
    "for x,y in zip(X,Y): #zip is samenvoeging/ritsen\n",
    "    total+=(x-avgX)*(y-avgY)\n",
    "display(total)/len(X)(stdX*stdY)\n",
    "\n"
   ]
  }
 ],
 "metadata": {
  "kernelspec": {
   "display_name": "Python 3 (ipykernel)",
   "language": "python",
   "name": "python3"
  },
  "language_info": {
   "codemirror_mode": {
    "name": "ipython",
    "version": 3
   },
   "file_extension": ".py",
   "mimetype": "text/x-python",
   "name": "python",
   "nbconvert_exporter": "python",
   "pygments_lexer": "ipython3",
   "version": "3.10.10"
  }
 },
 "nbformat": 4,
 "nbformat_minor": 5
}
